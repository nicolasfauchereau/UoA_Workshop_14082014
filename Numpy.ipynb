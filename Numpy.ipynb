{
 "metadata": {
  "name": "",
  "signature": "sha256:61735bc5bb788d26304a039656ed12b509ade0a1b7ae7f846436b142e78c395b"
 },
 "nbformat": 3,
 "nbformat_minor": 0,
 "worksheets": [
  {
   "cells": [
    {
     "cell_type": "heading",
     "level": 1,
     "metadata": {},
     "source": [
      "Numpy"
     ]
    },
    {
     "cell_type": "markdown",
     "metadata": {},
     "source": [
      "**Numpy** is the fundamental building block of the so-called **Python Scientific Stack**   \n",
      "\n",
      "* It provides a special data structure, the numpy **ndarray** (*N* - dimensional array) which allows the representation \n",
      "of arrays of numerical values, integers, reals, complex  \n",
      "\n",
      "* Numpy arrays by default can only hold objects of the same type (e.g. cannot mix integers and floats))  \n",
      "\n",
      "* It also provides with random number capability, some convenience simple statistical functions (mean, std, ...) and some essential linear algebra operations "
     ]
    },
    {
     "cell_type": "code",
     "collapsed": false,
     "input": [
      "from IPython.display import Image, HTML"
     ],
     "language": "python",
     "metadata": {},
     "outputs": [],
     "prompt_number": 2
    },
    {
     "cell_type": "code",
     "collapsed": false,
     "input": [
      "import numpy as np\n",
      "import matplotlib.pyplot as plt"
     ],
     "language": "python",
     "metadata": {},
     "outputs": [],
     "prompt_number": 3
    },
    {
     "cell_type": "code",
     "collapsed": false,
     "input": [
      "%matplotlib inline"
     ],
     "language": "python",
     "metadata": {},
     "outputs": [],
     "prompt_number": 4
    },
    {
     "cell_type": "heading",
     "level": 2,
     "metadata": {},
     "source": [
      "Numpy basics "
     ]
    },
    {
     "cell_type": "markdown",
     "metadata": {},
     "source": [
      "Constructing an numpy array "
     ]
    },
    {
     "cell_type": "code",
     "collapsed": false,
     "input": [
      "x = [1,2,3] # x is a regular python list"
     ],
     "language": "python",
     "metadata": {},
     "outputs": [],
     "prompt_number": 106
    },
    {
     "cell_type": "code",
     "collapsed": false,
     "input": [
      "x = np.array(x)"
     ],
     "language": "python",
     "metadata": {},
     "outputs": [],
     "prompt_number": 107
    },
    {
     "cell_type": "code",
     "collapsed": false,
     "input": [
      "x"
     ],
     "language": "python",
     "metadata": {},
     "outputs": [
      {
       "metadata": {},
       "output_type": "pyout",
       "prompt_number": 108,
       "text": [
        "array([1, 2, 3])"
       ]
      }
     ],
     "prompt_number": 108
    },
    {
     "cell_type": "code",
     "collapsed": false,
     "input": [
      "a = np.array(range(10))"
     ],
     "language": "python",
     "metadata": {},
     "outputs": [],
     "prompt_number": 109
    },
    {
     "cell_type": "code",
     "collapsed": false,
     "input": [
      "a"
     ],
     "language": "python",
     "metadata": {},
     "outputs": [
      {
       "metadata": {},
       "output_type": "pyout",
       "prompt_number": 110,
       "text": [
        "array([0, 1, 2, 3, 4, 5, 6, 7, 8, 9])"
       ]
      }
     ],
     "prompt_number": 110
    },
    {
     "cell_type": "code",
     "collapsed": false,
     "input": [
      "x = [[1,2,3],[4,5,6]] # nested lists"
     ],
     "language": "python",
     "metadata": {},
     "outputs": [],
     "prompt_number": 111
    },
    {
     "cell_type": "code",
     "collapsed": false,
     "input": [
      "x = np.array(x)"
     ],
     "language": "python",
     "metadata": {},
     "outputs": [],
     "prompt_number": 112
    },
    {
     "cell_type": "code",
     "collapsed": false,
     "input": [
      "x"
     ],
     "language": "python",
     "metadata": {},
     "outputs": [
      {
       "metadata": {},
       "output_type": "pyout",
       "prompt_number": 113,
       "text": [
        "array([[1, 2, 3],\n",
        "       [4, 5, 6]])"
       ]
      }
     ],
     "prompt_number": 113
    },
    {
     "cell_type": "code",
     "collapsed": false,
     "input": [
      "x.shape"
     ],
     "language": "python",
     "metadata": {},
     "outputs": [
      {
       "metadata": {},
       "output_type": "pyout",
       "prompt_number": 114,
       "text": [
        "(2, 3)"
       ]
      }
     ],
     "prompt_number": 114
    },
    {
     "cell_type": "markdown",
     "metadata": {},
     "source": [
      "The shape attribute is a tuple containing the dimensions along each **axis** (0 = rows, 1 = columns, ...)"
     ]
    },
    {
     "cell_type": "code",
     "collapsed": false,
     "input": [
      "x.shape"
     ],
     "language": "python",
     "metadata": {},
     "outputs": [
      {
       "metadata": {},
       "output_type": "pyout",
       "prompt_number": 115,
       "text": [
        "(2, 3)"
       ]
      }
     ],
     "prompt_number": 115
    },
    {
     "cell_type": "code",
     "collapsed": false,
     "input": [
      "x = np.arange(1000).reshape((10,10,10))"
     ],
     "language": "python",
     "metadata": {},
     "outputs": [],
     "prompt_number": 116
    },
    {
     "cell_type": "code",
     "collapsed": false,
     "input": [
      "x.shape"
     ],
     "language": "python",
     "metadata": {},
     "outputs": [
      {
       "metadata": {},
       "output_type": "pyout",
       "prompt_number": 117,
       "text": [
        "(10, 10, 10)"
       ]
      }
     ],
     "prompt_number": 117
    },
    {
     "cell_type": "markdown",
     "metadata": {},
     "source": [
      "** Be careful**: keep in mind **references** Vs. **copies** of arrays!"
     ]
    },
    {
     "cell_type": "code",
     "collapsed": false,
     "input": [
      "a"
     ],
     "language": "python",
     "metadata": {},
     "outputs": [
      {
       "metadata": {},
       "output_type": "pyout",
       "prompt_number": 118,
       "text": [
        "array([0, 1, 2, 3, 4, 5, 6, 7, 8, 9])"
       ]
      }
     ],
     "prompt_number": 118
    },
    {
     "cell_type": "code",
     "collapsed": false,
     "input": [
      "x = a"
     ],
     "language": "python",
     "metadata": {},
     "outputs": [],
     "prompt_number": 119
    },
    {
     "cell_type": "code",
     "collapsed": false,
     "input": [
      "x"
     ],
     "language": "python",
     "metadata": {},
     "outputs": [
      {
       "metadata": {},
       "output_type": "pyout",
       "prompt_number": 120,
       "text": [
        "array([0, 1, 2, 3, 4, 5, 6, 7, 8, 9])"
       ]
      }
     ],
     "prompt_number": 120
    },
    {
     "cell_type": "code",
     "collapsed": false,
     "input": [
      "a[2] = 99"
     ],
     "language": "python",
     "metadata": {},
     "outputs": [],
     "prompt_number": 121
    },
    {
     "cell_type": "code",
     "collapsed": false,
     "input": [
      "a"
     ],
     "language": "python",
     "metadata": {},
     "outputs": [
      {
       "metadata": {},
       "output_type": "pyout",
       "prompt_number": 122,
       "text": [
        "array([ 0,  1, 99,  3,  4,  5,  6,  7,  8,  9])"
       ]
      }
     ],
     "prompt_number": 122
    },
    {
     "cell_type": "code",
     "collapsed": false,
     "input": [
      "x"
     ],
     "language": "python",
     "metadata": {},
     "outputs": [
      {
       "metadata": {},
       "output_type": "pyout",
       "prompt_number": 123,
       "text": [
        "array([ 0,  1, 99,  3,  4,  5,  6,  7,  8,  9])"
       ]
      }
     ],
     "prompt_number": 123
    },
    {
     "cell_type": "markdown",
     "metadata": {},
     "source": [
      "**x has changed !**, because x = a only means you create a new **reference** pointing to the **same object** as the array `a`  \n",
      "\n",
      "If you want to create a **copy** instead of a reference, you need to do it explicitely"
     ]
    },
    {
     "cell_type": "code",
     "collapsed": false,
     "input": [
      "x = a.copy()"
     ],
     "language": "python",
     "metadata": {},
     "outputs": [],
     "prompt_number": 124
    },
    {
     "cell_type": "code",
     "collapsed": false,
     "input": [
      "a[3] = 888"
     ],
     "language": "python",
     "metadata": {},
     "outputs": [],
     "prompt_number": 125
    },
    {
     "cell_type": "code",
     "collapsed": false,
     "input": [
      "a"
     ],
     "language": "python",
     "metadata": {},
     "outputs": [
      {
       "metadata": {},
       "output_type": "pyout",
       "prompt_number": 126,
       "text": [
        "array([  0,   1,  99, 888,   4,   5,   6,   7,   8,   9])"
       ]
      }
     ],
     "prompt_number": 126
    },
    {
     "cell_type": "code",
     "collapsed": false,
     "input": [
      "x"
     ],
     "language": "python",
     "metadata": {},
     "outputs": [
      {
       "metadata": {},
       "output_type": "pyout",
       "prompt_number": 127,
       "text": [
        "array([ 0,  1, 99,  3,  4,  5,  6,  7,  8,  9])"
       ]
      }
     ],
     "prompt_number": 127
    },
    {
     "cell_type": "heading",
     "level": 3,
     "metadata": {},
     "source": [
      "Numpy array types "
     ]
    },
    {
     "cell_type": "markdown",
     "metadata": {},
     "source": [
      "Numpy tries and guess the correct **type** of the numerical values if you pass a list, here x is of type integer 64"
     ]
    },
    {
     "cell_type": "code",
     "collapsed": false,
     "input": [
      "x.dtype"
     ],
     "language": "python",
     "metadata": {},
     "outputs": [
      {
       "metadata": {},
       "output_type": "pyout",
       "prompt_number": 128,
       "text": [
        "dtype('int64')"
       ]
      }
     ],
     "prompt_number": 128
    },
    {
     "cell_type": "markdown",
     "metadata": {},
     "source": [
      "You can change that using the method **astype()**"
     ]
    },
    {
     "cell_type": "code",
     "collapsed": false,
     "input": [
      "x = x.astype(np.float)"
     ],
     "language": "python",
     "metadata": {},
     "outputs": [],
     "prompt_number": 129
    },
    {
     "cell_type": "code",
     "collapsed": false,
     "input": [
      "x.dtype"
     ],
     "language": "python",
     "metadata": {},
     "outputs": [
      {
       "metadata": {},
       "output_type": "pyout",
       "prompt_number": 130,
       "text": [
        "dtype('float64')"
       ]
      }
     ],
     "prompt_number": 130
    },
    {
     "cell_type": "code",
     "collapsed": false,
     "input": [
      "x"
     ],
     "language": "python",
     "metadata": {},
     "outputs": [
      {
       "metadata": {},
       "output_type": "pyout",
       "prompt_number": 131,
       "text": [
        "array([  0.,   1.,  99.,   3.,   4.,   5.,   6.,   7.,   8.,   9.])"
       ]
      }
     ],
     "prompt_number": 131
    },
    {
     "cell_type": "markdown",
     "metadata": {},
     "source": [
      "you cannot mix different types, numpy will cast all values to the safest dtype"
     ]
    },
    {
     "cell_type": "code",
     "collapsed": false,
     "input": [
      "x = np.array([1.0,1,1])"
     ],
     "language": "python",
     "metadata": {},
     "outputs": [],
     "prompt_number": 132
    },
    {
     "cell_type": "code",
     "collapsed": false,
     "input": [
      "x"
     ],
     "language": "python",
     "metadata": {},
     "outputs": [
      {
       "metadata": {},
       "output_type": "pyout",
       "prompt_number": 133,
       "text": [
        "array([ 1.,  1.,  1.])"
       ]
      }
     ],
     "prompt_number": 133
    },
    {
     "cell_type": "heading",
     "level": 3,
     "metadata": {},
     "source": [
      "Some convenience functions for creating arrays"
     ]
    },
    {
     "cell_type": "markdown",
     "metadata": {},
     "source": [
      "np.arange(*start*, **stop**, *step*, *dtype=None*)"
     ]
    },
    {
     "cell_type": "code",
     "collapsed": false,
     "input": [
      "np.arange(100)"
     ],
     "language": "python",
     "metadata": {},
     "outputs": [
      {
       "metadata": {},
       "output_type": "pyout",
       "prompt_number": 134,
       "text": [
        "array([ 0,  1,  2,  3,  4,  5,  6,  7,  8,  9, 10, 11, 12, 13, 14, 15, 16,\n",
        "       17, 18, 19, 20, 21, 22, 23, 24, 25, 26, 27, 28, 29, 30, 31, 32, 33,\n",
        "       34, 35, 36, 37, 38, 39, 40, 41, 42, 43, 44, 45, 46, 47, 48, 49, 50,\n",
        "       51, 52, 53, 54, 55, 56, 57, 58, 59, 60, 61, 62, 63, 64, 65, 66, 67,\n",
        "       68, 69, 70, 71, 72, 73, 74, 75, 76, 77, 78, 79, 80, 81, 82, 83, 84,\n",
        "       85, 86, 87, 88, 89, 90, 91, 92, 93, 94, 95, 96, 97, 98, 99])"
       ]
      }
     ],
     "prompt_number": 134
    },
    {
     "cell_type": "code",
     "collapsed": false,
     "input": [
      "np.arange(0,100,10)"
     ],
     "language": "python",
     "metadata": {},
     "outputs": [
      {
       "metadata": {},
       "output_type": "pyout",
       "prompt_number": 135,
       "text": [
        "array([ 0, 10, 20, 30, 40, 50, 60, 70, 80, 90])"
       ]
      }
     ],
     "prompt_number": 135
    },
    {
     "cell_type": "markdown",
     "metadata": {},
     "source": [
      "`np.linspace(start, stop, num=50, *endpoint=True*, *retstep=False*)`"
     ]
    },
    {
     "cell_type": "code",
     "collapsed": false,
     "input": [
      "np.linspace(0,0.5,10, endpoint=False)"
     ],
     "language": "python",
     "metadata": {},
     "outputs": [
      {
       "metadata": {},
       "output_type": "pyout",
       "prompt_number": 139,
       "text": [
        "array([ 0.  ,  0.05,  0.1 ,  0.15,  0.2 ,  0.25,  0.3 ,  0.35,  0.4 ,  0.45])"
       ]
      }
     ],
     "prompt_number": 139
    },
    {
     "cell_type": "markdown",
     "metadata": {},
     "source": [
      "same as np.arange(0,0.5, 0.05)"
     ]
    },
    {
     "cell_type": "code",
     "collapsed": false,
     "input": [
      "np.arange(0,0.5,0.05)"
     ],
     "language": "python",
     "metadata": {},
     "outputs": [
      {
       "metadata": {},
       "output_type": "pyout",
       "prompt_number": 140,
       "text": [
        "array([ 0.  ,  0.05,  0.1 ,  0.15,  0.2 ,  0.25,  0.3 ,  0.35,  0.4 ,  0.45])"
       ]
      }
     ],
     "prompt_number": 140
    },
    {
     "cell_type": "markdown",
     "metadata": {},
     "source": [
      "`np.ones(shape, dtype=None, order='C')` creates an array of ones, similar function is np.zeros"
     ]
    },
    {
     "cell_type": "code",
     "collapsed": false,
     "input": [
      "np.ones((10,12))"
     ],
     "language": "python",
     "metadata": {},
     "outputs": [
      {
       "metadata": {},
       "output_type": "pyout",
       "prompt_number": 141,
       "text": [
        "array([[ 1.,  1.,  1.,  1.,  1.,  1.,  1.,  1.,  1.,  1.,  1.,  1.],\n",
        "       [ 1.,  1.,  1.,  1.,  1.,  1.,  1.,  1.,  1.,  1.,  1.,  1.],\n",
        "       [ 1.,  1.,  1.,  1.,  1.,  1.,  1.,  1.,  1.,  1.,  1.,  1.],\n",
        "       [ 1.,  1.,  1.,  1.,  1.,  1.,  1.,  1.,  1.,  1.,  1.,  1.],\n",
        "       [ 1.,  1.,  1.,  1.,  1.,  1.,  1.,  1.,  1.,  1.,  1.,  1.],\n",
        "       [ 1.,  1.,  1.,  1.,  1.,  1.,  1.,  1.,  1.,  1.,  1.,  1.],\n",
        "       [ 1.,  1.,  1.,  1.,  1.,  1.,  1.,  1.,  1.,  1.,  1.,  1.],\n",
        "       [ 1.,  1.,  1.,  1.,  1.,  1.,  1.,  1.,  1.,  1.,  1.,  1.],\n",
        "       [ 1.,  1.,  1.,  1.,  1.,  1.,  1.,  1.,  1.,  1.,  1.,  1.],\n",
        "       [ 1.,  1.,  1.,  1.,  1.,  1.,  1.,  1.,  1.,  1.,  1.,  1.]])"
       ]
      }
     ],
     "prompt_number": 141
    },
    {
     "cell_type": "markdown",
     "metadata": {},
     "source": [
      "`np.empty` can be used to pre-allocate \"empty\" arrays with small memory footprint "
     ]
    },
    {
     "cell_type": "code",
     "collapsed": false,
     "input": [
      "np.empty((5,5))"
     ],
     "language": "python",
     "metadata": {},
     "outputs": [
      {
       "metadata": {},
       "output_type": "pyout",
       "prompt_number": 142,
       "text": [
        "array([[ -2.00000000e+000,  -2.68156175e+154,   2.12325858e-314,\n",
        "          2.18209237e-314,   2.12424592e-314],\n",
        "       [  2.18209239e-314,   2.12327588e-314,   2.18144762e-314,\n",
        "          2.12424592e-314,   2.18209242e-314],\n",
        "       [  2.12327588e-314,   2.18121852e-314,   2.12424592e-314,\n",
        "          2.18209244e-314,   2.12327588e-314],\n",
        "       [  2.18145174e-314,   2.12343765e-314,   2.18209247e-314,\n",
        "          2.12327588e-314,   2.18209249e-314],\n",
        "       [  2.12343765e-314,   2.12358380e-314,   2.12358380e-314,\n",
        "          2.12358380e-314,   2.12358380e-314]])"
       ]
      }
     ],
     "prompt_number": 142
    },
    {
     "cell_type": "heading",
     "level": 2,
     "metadata": {},
     "source": [
      "Array indexing "
     ]
    },
    {
     "cell_type": "heading",
     "level": 3,
     "metadata": {},
     "source": [
      "Simple indexing"
     ]
    },
    {
     "cell_type": "code",
     "collapsed": false,
     "input": [
      "b = np.arange(25,dtype=float).reshape(5,5) # creating a 2D array, note the dtype"
     ],
     "language": "python",
     "metadata": {},
     "outputs": [],
     "prompt_number": 143
    },
    {
     "cell_type": "code",
     "collapsed": false,
     "input": [
      "print(b)"
     ],
     "language": "python",
     "metadata": {},
     "outputs": [
      {
       "output_type": "stream",
       "stream": "stdout",
       "text": [
        "[[  0.   1.   2.   3.   4.]\n",
        " [  5.   6.   7.   8.   9.]\n",
        " [ 10.  11.  12.  13.  14.]\n",
        " [ 15.  16.  17.  18.  19.]\n",
        " [ 20.  21.  22.  23.  24.]]\n"
       ]
      }
     ],
     "prompt_number": 144
    },
    {
     "cell_type": "code",
     "collapsed": false,
     "input": [
      "b.shape"
     ],
     "language": "python",
     "metadata": {},
     "outputs": [
      {
       "metadata": {},
       "output_type": "pyout",
       "prompt_number": 145,
       "text": [
        "(5, 5)"
       ]
      }
     ],
     "prompt_number": 145
    },
    {
     "cell_type": "code",
     "collapsed": false,
     "input": [
      "b[0,1] # FIRST row, SECOND column, remember, Python indexing is zero-based"
     ],
     "language": "python",
     "metadata": {},
     "outputs": [
      {
       "metadata": {},
       "output_type": "pyout",
       "prompt_number": 146,
       "text": [
        "1.0"
       ]
      }
     ],
     "prompt_number": 146
    },
    {
     "cell_type": "code",
     "collapsed": false,
     "input": [
      "b[:,0] # first column "
     ],
     "language": "python",
     "metadata": {},
     "outputs": [
      {
       "metadata": {},
       "output_type": "pyout",
       "prompt_number": 147,
       "text": [
        "array([  0.,   5.,  10.,  15.,  20.])"
       ]
      }
     ],
     "prompt_number": 147
    },
    {
     "cell_type": "code",
     "collapsed": false,
     "input": [
      "b[1,:] # second row"
     ],
     "language": "python",
     "metadata": {},
     "outputs": [
      {
       "metadata": {},
       "output_type": "pyout",
       "prompt_number": 148,
       "text": [
        "array([ 5.,  6.,  7.,  8.,  9.])"
       ]
      }
     ],
     "prompt_number": 148
    },
    {
     "cell_type": "code",
     "collapsed": false,
     "input": [
      "b[:,2:] # all rows from third colum"
     ],
     "language": "python",
     "metadata": {},
     "outputs": [
      {
       "metadata": {},
       "output_type": "pyout",
       "prompt_number": 149,
       "text": [
        "array([[  2.,   3.,   4.],\n",
        "       [  7.,   8.,   9.],\n",
        "       [ 12.,  13.,  14.],\n",
        "       [ 17.,  18.,  19.],\n",
        "       [ 22.,  23.,  24.]])"
       ]
      }
     ],
     "prompt_number": 149
    },
    {
     "cell_type": "code",
     "collapsed": false,
     "input": [
      "b[-1,:] # last row"
     ],
     "language": "python",
     "metadata": {},
     "outputs": [
      {
       "metadata": {},
       "output_type": "pyout",
       "prompt_number": 150,
       "text": [
        "array([ 20.,  21.,  22.,  23.,  24.])"
       ]
      }
     ],
     "prompt_number": 150
    },
    {
     "cell_type": "code",
     "collapsed": false,
     "input": [
      "b[:,::-1] # handy: reverses column order "
     ],
     "language": "python",
     "metadata": {},
     "outputs": [
      {
       "metadata": {},
       "output_type": "pyout",
       "prompt_number": 151,
       "text": [
        "array([[  4.,   3.,   2.,   1.,   0.],\n",
        "       [  9.,   8.,   7.,   6.,   5.],\n",
        "       [ 14.,  13.,  12.,  11.,  10.],\n",
        "       [ 19.,  18.,  17.,  16.,  15.],\n",
        "       [ 24.,  23.,  22.,  21.,  20.]])"
       ]
      }
     ],
     "prompt_number": 151
    },
    {
     "cell_type": "code",
     "collapsed": false,
     "input": [
      "b"
     ],
     "language": "python",
     "metadata": {},
     "outputs": [
      {
       "metadata": {},
       "output_type": "pyout",
       "prompt_number": 152,
       "text": [
        "array([[  0.,   1.,   2.,   3.,   4.],\n",
        "       [  5.,   6.,   7.,   8.,   9.],\n",
        "       [ 10.,  11.,  12.,  13.,  14.],\n",
        "       [ 15.,  16.,  17.,  18.,  19.],\n",
        "       [ 20.,  21.,  22.,  23.,  24.]])"
       ]
      }
     ],
     "prompt_number": 152
    },
    {
     "cell_type": "markdown",
     "metadata": {},
     "source": [
      "slices allows to easily select **contiguous** row / colums"
     ]
    },
    {
     "cell_type": "code",
     "collapsed": false,
     "input": [
      "b[0:2,1:3] # first two columns, and columns 2 to 3"
     ],
     "language": "python",
     "metadata": {},
     "outputs": [
      {
       "metadata": {},
       "output_type": "pyout",
       "prompt_number": 153,
       "text": [
        "array([[ 1.,  2.],\n",
        "       [ 6.,  7.]])"
       ]
      }
     ],
     "prompt_number": 153
    },
    {
     "cell_type": "markdown",
     "metadata": {},
     "source": [
      "When you want to select **non-contiguous** (or repeated) rows / columns, you can use the **ix_** construct"
     ]
    },
    {
     "cell_type": "code",
     "collapsed": false,
     "input": [
      "b[np.ix_([0,1,3],[1,1,3])]"
     ],
     "language": "python",
     "metadata": {},
     "outputs": [
      {
       "metadata": {},
       "output_type": "pyout",
       "prompt_number": 154,
       "text": [
        "array([[  1.,   1.,   3.],\n",
        "       [  6.,   6.,   8.],\n",
        "       [ 16.,  16.,  18.]])"
       ]
      }
     ],
     "prompt_number": 154
    },
    {
     "cell_type": "code",
     "collapsed": false,
     "input": [
      "b"
     ],
     "language": "python",
     "metadata": {},
     "outputs": [
      {
       "metadata": {},
       "output_type": "pyout",
       "prompt_number": 155,
       "text": [
        "array([[  0.,   1.,   2.,   3.,   4.],\n",
        "       [  5.,   6.,   7.,   8.,   9.],\n",
        "       [ 10.,  11.,  12.,  13.,  14.],\n",
        "       [ 15.,  16.,  17.,  18.,  19.],\n",
        "       [ 20.,  21.,  22.,  23.,  24.]])"
       ]
      }
     ],
     "prompt_number": 155
    },
    {
     "cell_type": "heading",
     "level": 3,
     "metadata": {},
     "source": [
      "Boolean or conditional indexing"
     ]
    },
    {
     "cell_type": "code",
     "collapsed": false,
     "input": [
      "b = b[b>10]"
     ],
     "language": "python",
     "metadata": {},
     "outputs": [],
     "prompt_number": 156
    },
    {
     "cell_type": "code",
     "collapsed": false,
     "input": [
      "print(b)"
     ],
     "language": "python",
     "metadata": {},
     "outputs": [
      {
       "output_type": "stream",
       "stream": "stdout",
       "text": [
        "[ 11.  12.  13.  14.  15.  16.  17.  18.  19.  20.  21.  22.  23.  24.]\n"
       ]
      }
     ],
     "prompt_number": 157
    },
    {
     "cell_type": "heading",
     "level": 2,
     "metadata": {},
     "source": [
      "Array broadcasting"
     ]
    },
    {
     "cell_type": "heading",
     "level": 3,
     "metadata": {},
     "source": [
      "Simple possible case: scalar broadcasting"
     ]
    },
    {
     "cell_type": "code",
     "collapsed": false,
     "input": [
      "x = np.array([0,1,2,3]); print(x)"
     ],
     "language": "python",
     "metadata": {},
     "outputs": [
      {
       "output_type": "stream",
       "stream": "stdout",
       "text": [
        "[0 1 2 3]\n"
       ]
      }
     ],
     "prompt_number": 158
    },
    {
     "cell_type": "code",
     "collapsed": false,
     "input": [
      "x + 3"
     ],
     "language": "python",
     "metadata": {},
     "outputs": [
      {
       "metadata": {},
       "output_type": "pyout",
       "prompt_number": 159,
       "text": [
        "array([3, 4, 5, 6])"
       ]
      }
     ],
     "prompt_number": 159
    },
    {
     "cell_type": "markdown",
     "metadata": {},
     "source": [
      "<center>\n",
      "\n",
      "![](files/images/broadcast_scalar.png)\n",
      "\n",
      "</center>"
     ]
    },
    {
     "cell_type": "heading",
     "level": 3,
     "metadata": {},
     "source": [
      "2D broadcasting "
     ]
    },
    {
     "cell_type": "code",
     "collapsed": false,
     "input": [
      "x = np.arange(12).reshape((3,4))"
     ],
     "language": "python",
     "metadata": {},
     "outputs": [],
     "prompt_number": 160
    },
    {
     "cell_type": "code",
     "collapsed": false,
     "input": [
      "x"
     ],
     "language": "python",
     "metadata": {},
     "outputs": [
      {
       "metadata": {},
       "output_type": "pyout",
       "prompt_number": 161,
       "text": [
        "array([[ 0,  1,  2,  3],\n",
        "       [ 4,  5,  6,  7],\n",
        "       [ 8,  9, 10, 11]])"
       ]
      }
     ],
     "prompt_number": 161
    },
    {
     "cell_type": "code",
     "collapsed": false,
     "input": [
      "y = np.arange(3).reshape((3,1)); # or y = np.arange(3)[np.newaxis,:] or y = np.arange(3)[None,:]"
     ],
     "language": "python",
     "metadata": {},
     "outputs": [],
     "prompt_number": 162
    },
    {
     "cell_type": "code",
     "collapsed": false,
     "input": [
      "y.shape"
     ],
     "language": "python",
     "metadata": {},
     "outputs": [
      {
       "metadata": {},
       "output_type": "pyout",
       "prompt_number": 163,
       "text": [
        "(3, 1)"
       ]
      }
     ],
     "prompt_number": 163
    },
    {
     "cell_type": "code",
     "collapsed": false,
     "input": [
      "x + y"
     ],
     "language": "python",
     "metadata": {},
     "outputs": [
      {
       "metadata": {},
       "output_type": "pyout",
       "prompt_number": 164,
       "text": [
        "array([[ 0,  1,  2,  3],\n",
        "       [ 5,  6,  7,  8],\n",
        "       [10, 11, 12, 13]])"
       ]
      }
     ],
     "prompt_number": 164
    },
    {
     "cell_type": "markdown",
     "metadata": {},
     "source": [
      "<center> \n",
      "\n",
      "![](files/images/broadcast_2D.png)\n",
      "\n",
      "</center>"
     ]
    },
    {
     "cell_type": "heading",
     "level": 3,
     "metadata": {},
     "source": [
      "3D broadcasting"
     ]
    },
    {
     "cell_type": "code",
     "collapsed": false,
     "input": [
      "x = np.arange(15).reshape((3, 5))"
     ],
     "language": "python",
     "metadata": {},
     "outputs": [],
     "prompt_number": 165
    },
    {
     "cell_type": "code",
     "collapsed": false,
     "input": [
      "x"
     ],
     "language": "python",
     "metadata": {},
     "outputs": [
      {
       "metadata": {},
       "output_type": "pyout",
       "prompt_number": 166,
       "text": [
        "array([[ 0,  1,  2,  3,  4],\n",
        "       [ 5,  6,  7,  8,  9],\n",
        "       [10, 11, 12, 13, 14]])"
       ]
      }
     ],
     "prompt_number": 166
    },
    {
     "cell_type": "code",
     "collapsed": false,
     "input": [
      "y = np.ones(8)"
     ],
     "language": "python",
     "metadata": {},
     "outputs": [],
     "prompt_number": 167
    },
    {
     "cell_type": "code",
     "collapsed": false,
     "input": [
      "z = x[...,np.newaxis] + y"
     ],
     "language": "python",
     "metadata": {},
     "outputs": [],
     "prompt_number": 168
    },
    {
     "cell_type": "code",
     "collapsed": false,
     "input": [
      "print(z)"
     ],
     "language": "python",
     "metadata": {},
     "outputs": [
      {
       "output_type": "stream",
       "stream": "stdout",
       "text": [
        "[[[  1.   1.   1.   1.   1.   1.   1.   1.]\n",
        "  [  2.   2.   2.   2.   2.   2.   2.   2.]\n",
        "  [  3.   3.   3.   3.   3.   3.   3.   3.]\n",
        "  [  4.   4.   4.   4.   4.   4.   4.   4.]\n",
        "  [  5.   5.   5.   5.   5.   5.   5.   5.]]\n",
        "\n",
        " [[  6.   6.   6.   6.   6.   6.   6.   6.]\n",
        "  [  7.   7.   7.   7.   7.   7.   7.   7.]\n",
        "  [  8.   8.   8.   8.   8.   8.   8.   8.]\n",
        "  [  9.   9.   9.   9.   9.   9.   9.   9.]\n",
        "  [ 10.  10.  10.  10.  10.  10.  10.  10.]]\n",
        "\n",
        " [[ 11.  11.  11.  11.  11.  11.  11.  11.]\n",
        "  [ 12.  12.  12.  12.  12.  12.  12.  12.]\n",
        "  [ 13.  13.  13.  13.  13.  13.  13.  13.]\n",
        "  [ 14.  14.  14.  14.  14.  14.  14.  14.]\n",
        "  [ 15.  15.  15.  15.  15.  15.  15.  15.]]]\n"
       ]
      }
     ],
     "prompt_number": 169
    },
    {
     "cell_type": "code",
     "collapsed": false,
     "input": [
      "z.shape"
     ],
     "language": "python",
     "metadata": {},
     "outputs": [
      {
       "metadata": {},
       "output_type": "pyout",
       "prompt_number": 170,
       "text": [
        "(3, 5, 8)"
       ]
      }
     ],
     "prompt_number": 170
    },
    {
     "cell_type": "markdown",
     "metadata": {},
     "source": [
      "<center> \n",
      "\n",
      "![](files/images/array_3x5x8.png)\n",
      "\n",
      "</center>"
     ]
    },
    {
     "cell_type": "heading",
     "level": 2,
     "metadata": {},
     "source": [
      "Array methods"
     ]
    },
    {
     "cell_type": "markdown",
     "metadata": {},
     "source": [
      "We have already seen some array methods above, in this section I just dwelve into their general behavior and present some convenient array methods"
     ]
    },
    {
     "cell_type": "markdown",
     "metadata": {},
     "source": [
      "In python, everything is an **object**, numpy ndarrays are no exceptions, and they expose a number of **methods**, which are equivalent to the call \n",
      "the respective numpy function, but can be more convenient to use, and - marginally - faster"
     ]
    },
    {
     "cell_type": "code",
     "collapsed": false,
     "input": [
      "a.shape # shape of a (like *size* in matlab)"
     ],
     "language": "python",
     "metadata": {},
     "outputs": [
      {
       "metadata": {},
       "output_type": "pyout",
       "prompt_number": 171,
       "text": [
        "(10,)"
       ]
      }
     ],
     "prompt_number": 171
    },
    {
     "cell_type": "code",
     "collapsed": false,
     "input": [
      "np.shape(a)"
     ],
     "language": "python",
     "metadata": {},
     "outputs": [
      {
       "metadata": {},
       "output_type": "pyout",
       "prompt_number": 172,
       "text": [
        "(10,)"
       ]
      }
     ],
     "prompt_number": 172
    },
    {
     "cell_type": "code",
     "collapsed": false,
     "input": [
      "%timeit a.mean() # The %timeit magic cell function times the execution of an expression"
     ],
     "language": "python",
     "metadata": {},
     "outputs": [
      {
       "output_type": "stream",
       "stream": "stdout",
       "text": [
        "100000 loops, best of 3: 16.9 \u00b5s per loop\n"
       ]
      }
     ],
     "prompt_number": 173
    },
    {
     "cell_type": "code",
     "collapsed": false,
     "input": [
      "%timeit np.mean(a)"
     ],
     "language": "python",
     "metadata": {},
     "outputs": [
      {
       "output_type": "stream",
       "stream": "stdout",
       "text": [
        "100000 loops, best of 3: 18.1 \u00b5s per loop\n"
       ]
      }
     ],
     "prompt_number": 174
    },
    {
     "cell_type": "code",
     "collapsed": false,
     "input": [
      "b = np.arange(100,dtype=float).reshape(10,10) # creating a 2D array, note the dtype"
     ],
     "language": "python",
     "metadata": {},
     "outputs": [],
     "prompt_number": 175
    },
    {
     "cell_type": "code",
     "collapsed": false,
     "input": [
      "b.shape"
     ],
     "language": "python",
     "metadata": {},
     "outputs": [
      {
       "metadata": {},
       "output_type": "pyout",
       "prompt_number": 176,
       "text": [
        "(10, 10)"
       ]
      }
     ],
     "prompt_number": 176
    },
    {
     "cell_type": "code",
     "collapsed": false,
     "input": [
      "b"
     ],
     "language": "python",
     "metadata": {},
     "outputs": [
      {
       "metadata": {},
       "output_type": "pyout",
       "prompt_number": 177,
       "text": [
        "array([[  0.,   1.,   2.,   3.,   4.,   5.,   6.,   7.,   8.,   9.],\n",
        "       [ 10.,  11.,  12.,  13.,  14.,  15.,  16.,  17.,  18.,  19.],\n",
        "       [ 20.,  21.,  22.,  23.,  24.,  25.,  26.,  27.,  28.,  29.],\n",
        "       [ 30.,  31.,  32.,  33.,  34.,  35.,  36.,  37.,  38.,  39.],\n",
        "       [ 40.,  41.,  42.,  43.,  44.,  45.,  46.,  47.,  48.,  49.],\n",
        "       [ 50.,  51.,  52.,  53.,  54.,  55.,  56.,  57.,  58.,  59.],\n",
        "       [ 60.,  61.,  62.,  63.,  64.,  65.,  66.,  67.,  68.,  69.],\n",
        "       [ 70.,  71.,  72.,  73.,  74.,  75.,  76.,  77.,  78.,  79.],\n",
        "       [ 80.,  81.,  82.,  83.,  84.,  85.,  86.,  87.,  88.,  89.],\n",
        "       [ 90.,  91.,  92.,  93.,  94.,  95.,  96.,  97.,  98.,  99.]])"
       ]
      }
     ],
     "prompt_number": 177
    },
    {
     "cell_type": "code",
     "collapsed": false,
     "input": [
      "b.sum(0) ### summing over the first axis ('rows')"
     ],
     "language": "python",
     "metadata": {},
     "outputs": [
      {
       "metadata": {},
       "output_type": "pyout",
       "prompt_number": 178,
       "text": [
        "array([ 450.,  460.,  470.,  480.,  490.,  500.,  510.,  520.,  530.,  540.])"
       ]
      }
     ],
     "prompt_number": 178
    },
    {
     "cell_type": "code",
     "collapsed": false,
     "input": [
      "np.sum(b, axis=0)"
     ],
     "language": "python",
     "metadata": {},
     "outputs": [
      {
       "metadata": {},
       "output_type": "pyout",
       "prompt_number": 179,
       "text": [
        "array([ 450.,  460.,  470.,  480.,  490.,  500.,  510.,  520.,  530.,  540.])"
       ]
      }
     ],
     "prompt_number": 179
    },
    {
     "cell_type": "code",
     "collapsed": false,
     "input": [
      "b[:,0].sum()"
     ],
     "language": "python",
     "metadata": {},
     "outputs": [
      {
       "metadata": {},
       "output_type": "pyout",
       "prompt_number": 180,
       "text": [
        "450.0"
       ]
      }
     ],
     "prompt_number": 180
    },
    {
     "cell_type": "markdown",
     "metadata": {},
     "source": [
      "*swapaxes* method swap the position of 2 axes"
     ]
    },
    {
     "cell_type": "code",
     "collapsed": false,
     "input": [
      "b = b.swapaxes(1,0)"
     ],
     "language": "python",
     "metadata": {},
     "outputs": [],
     "prompt_number": 181
    },
    {
     "cell_type": "code",
     "collapsed": false,
     "input": [
      "b"
     ],
     "language": "python",
     "metadata": {},
     "outputs": [
      {
       "metadata": {},
       "output_type": "pyout",
       "prompt_number": 182,
       "text": [
        "array([[  0.,  10.,  20.,  30.,  40.,  50.,  60.,  70.,  80.,  90.],\n",
        "       [  1.,  11.,  21.,  31.,  41.,  51.,  61.,  71.,  81.,  91.],\n",
        "       [  2.,  12.,  22.,  32.,  42.,  52.,  62.,  72.,  82.,  92.],\n",
        "       [  3.,  13.,  23.,  33.,  43.,  53.,  63.,  73.,  83.,  93.],\n",
        "       [  4.,  14.,  24.,  34.,  44.,  54.,  64.,  74.,  84.,  94.],\n",
        "       [  5.,  15.,  25.,  35.,  45.,  55.,  65.,  75.,  85.,  95.],\n",
        "       [  6.,  16.,  26.,  36.,  46.,  56.,  66.,  76.,  86.,  96.],\n",
        "       [  7.,  17.,  27.,  37.,  47.,  57.,  67.,  77.,  87.,  97.],\n",
        "       [  8.,  18.,  28.,  38.,  48.,  58.,  68.,  78.,  88.,  98.],\n",
        "       [  9.,  19.,  29.,  39.,  49.,  59.,  69.,  79.,  89.,  99.]])"
       ]
      }
     ],
     "prompt_number": 182
    },
    {
     "cell_type": "markdown",
     "metadata": {},
     "source": [
      "here equivalent to *transpose()* on 2D array"
     ]
    },
    {
     "cell_type": "code",
     "collapsed": false,
     "input": [
      "b = b.transpose()"
     ],
     "language": "python",
     "metadata": {},
     "outputs": [],
     "prompt_number": 183
    },
    {
     "cell_type": "code",
     "collapsed": false,
     "input": [
      "b"
     ],
     "language": "python",
     "metadata": {},
     "outputs": [
      {
       "metadata": {},
       "output_type": "pyout",
       "prompt_number": 184,
       "text": [
        "array([[  0.,   1.,   2.,   3.,   4.,   5.,   6.,   7.,   8.,   9.],\n",
        "       [ 10.,  11.,  12.,  13.,  14.,  15.,  16.,  17.,  18.,  19.],\n",
        "       [ 20.,  21.,  22.,  23.,  24.,  25.,  26.,  27.,  28.,  29.],\n",
        "       [ 30.,  31.,  32.,  33.,  34.,  35.,  36.,  37.,  38.,  39.],\n",
        "       [ 40.,  41.,  42.,  43.,  44.,  45.,  46.,  47.,  48.,  49.],\n",
        "       [ 50.,  51.,  52.,  53.,  54.,  55.,  56.,  57.,  58.,  59.],\n",
        "       [ 60.,  61.,  62.,  63.,  64.,  65.,  66.,  67.,  68.,  69.],\n",
        "       [ 70.,  71.,  72.,  73.,  74.,  75.,  76.,  77.,  78.,  79.],\n",
        "       [ 80.,  81.,  82.,  83.,  84.,  85.,  86.,  87.,  88.,  89.],\n",
        "       [ 90.,  91.,  92.,  93.,  94.,  95.,  96.,  97.,  98.,  99.]])"
       ]
      }
     ],
     "prompt_number": 184
    },
    {
     "cell_type": "code",
     "collapsed": false,
     "input": [
      "b = np.transpose(b)"
     ],
     "language": "python",
     "metadata": {},
     "outputs": [],
     "prompt_number": 185
    },
    {
     "cell_type": "code",
     "collapsed": false,
     "input": [
      "b"
     ],
     "language": "python",
     "metadata": {},
     "outputs": [
      {
       "metadata": {},
       "output_type": "pyout",
       "prompt_number": 186,
       "text": [
        "array([[  0.,  10.,  20.,  30.,  40.,  50.,  60.,  70.,  80.,  90.],\n",
        "       [  1.,  11.,  21.,  31.,  41.,  51.,  61.,  71.,  81.,  91.],\n",
        "       [  2.,  12.,  22.,  32.,  42.,  52.,  62.,  72.,  82.,  92.],\n",
        "       [  3.,  13.,  23.,  33.,  43.,  53.,  63.,  73.,  83.,  93.],\n",
        "       [  4.,  14.,  24.,  34.,  44.,  54.,  64.,  74.,  84.,  94.],\n",
        "       [  5.,  15.,  25.,  35.,  45.,  55.,  65.,  75.,  85.,  95.],\n",
        "       [  6.,  16.,  26.,  36.,  46.,  56.,  66.,  76.,  86.,  96.],\n",
        "       [  7.,  17.,  27.,  37.,  47.,  57.,  67.,  77.,  87.,  97.],\n",
        "       [  8.,  18.,  28.,  38.,  48.,  58.,  68.,  78.,  88.,  98.],\n",
        "       [  9.,  19.,  29.,  39.,  49.,  59.,  69.,  79.,  89.,  99.]])"
       ]
      }
     ],
     "prompt_number": 186
    },
    {
     "cell_type": "heading",
     "level": 2,
     "metadata": {},
     "source": [
      "Missing values in numpy "
     ]
    },
    {
     "cell_type": "markdown",
     "metadata": {},
     "source": [
      "You can handle missing values in Numpy in two different ways: \n",
      "    \n",
      "1. By using the np.nan (not a number) special type\n",
      "2. By casting a numpy array into a **Masked array** using the <font color='red'>ma</font> module\n",
      "\n",
      "Using the masked array approach, while somehow more cumbersome, allows more flexibility"
     ]
    },
    {
     "cell_type": "code",
     "collapsed": false,
     "input": [
      "b[5,5] = -999."
     ],
     "language": "python",
     "metadata": {},
     "outputs": [],
     "prompt_number": 187
    },
    {
     "cell_type": "code",
     "collapsed": false,
     "input": [
      "print(b)"
     ],
     "language": "python",
     "metadata": {},
     "outputs": [
      {
       "output_type": "stream",
       "stream": "stdout",
       "text": [
        "[[   0.   10.   20.   30.   40.   50.   60.   70.   80.   90.]\n",
        " [   1.   11.   21.   31.   41.   51.   61.   71.   81.   91.]\n",
        " [   2.   12.   22.   32.   42.   52.   62.   72.   82.   92.]\n",
        " [   3.   13.   23.   33.   43.   53.   63.   73.   83.   93.]\n",
        " [   4.   14.   24.   34.   44.   54.   64.   74.   84.   94.]\n",
        " [   5.   15.   25.   35.   45. -999.   65.   75.   85.   95.]\n",
        " [   6.   16.   26.   36.   46.   56.   66.   76.   86.   96.]\n",
        " [   7.   17.   27.   37.   47.   57.   67.   77.   87.   97.]\n",
        " [   8.   18.   28.   38.   48.   58.   68.   78.   88.   98.]\n",
        " [   9.   19.   29.   39.   49.   59.   69.   79.   89.   99.]]\n"
       ]
      }
     ],
     "prompt_number": 188
    },
    {
     "cell_type": "code",
     "collapsed": false,
     "input": [
      "c = b.copy()"
     ],
     "language": "python",
     "metadata": {},
     "outputs": [],
     "prompt_number": 189
    },
    {
     "cell_type": "code",
     "collapsed": false,
     "input": [
      "c[c == -999.] = np.nan"
     ],
     "language": "python",
     "metadata": {},
     "outputs": [],
     "prompt_number": 190
    },
    {
     "cell_type": "code",
     "collapsed": false,
     "input": [
      "print(c)"
     ],
     "language": "python",
     "metadata": {},
     "outputs": [
      {
       "output_type": "stream",
       "stream": "stdout",
       "text": [
        "[[  0.  10.  20.  30.  40.  50.  60.  70.  80.  90.]\n",
        " [  1.  11.  21.  31.  41.  51.  61.  71.  81.  91.]\n",
        " [  2.  12.  22.  32.  42.  52.  62.  72.  82.  92.]\n",
        " [  3.  13.  23.  33.  43.  53.  63.  73.  83.  93.]\n",
        " [  4.  14.  24.  34.  44.  54.  64.  74.  84.  94.]\n",
        " [  5.  15.  25.  35.  45.  nan  65.  75.  85.  95.]\n",
        " [  6.  16.  26.  36.  46.  56.  66.  76.  86.  96.]\n",
        " [  7.  17.  27.  37.  47.  57.  67.  77.  87.  97.]\n",
        " [  8.  18.  28.  38.  48.  58.  68.  78.  88.  98.]\n",
        " [  9.  19.  29.  39.  49.  59.  69.  79.  89.  99.]]\n"
       ]
      }
     ],
     "prompt_number": 191
    },
    {
     "cell_type": "markdown",
     "metadata": {},
     "source": [
      "```nan``` values propagates automatically when using *aggregation* functions"
     ]
    },
    {
     "cell_type": "code",
     "collapsed": false,
     "input": [
      "c.mean(1)"
     ],
     "language": "python",
     "metadata": {},
     "outputs": [
      {
       "metadata": {},
       "output_type": "pyout",
       "prompt_number": 192,
       "text": [
        "array([ 45.,  46.,  47.,  48.,  49.,  nan,  51.,  52.,  53.,  54.])"
       ]
      }
     ],
     "prompt_number": 192
    },
    {
     "cell_type": "markdown",
     "metadata": {},
     "source": [
      "Unless you use one of the - few - NaN functions"
     ]
    },
    {
     "cell_type": "code",
     "collapsed": false,
     "input": [
      "np.nansum(c,axis=1)"
     ],
     "language": "python",
     "metadata": {},
     "outputs": [
      {
       "metadata": {},
       "output_type": "pyout",
       "prompt_number": 193,
       "text": [
        "array([ 450.,  460.,  470.,  480.,  490.,  445.,  510.,  520.,  530.,  540.])"
       ]
      }
     ],
     "prompt_number": 193
    },
    {
     "cell_type": "markdown",
     "metadata": {},
     "source": [
      "Now we're gonna see how to use the **`ma` (Masked Arrays) module**"
     ]
    },
    {
     "cell_type": "code",
     "collapsed": false,
     "input": [
      "from numpy import ma "
     ],
     "language": "python",
     "metadata": {},
     "outputs": [],
     "prompt_number": 194
    },
    {
     "cell_type": "code",
     "collapsed": false,
     "input": [
      "b = ma.masked_values(b, -999.)"
     ],
     "language": "python",
     "metadata": {},
     "outputs": [],
     "prompt_number": 195
    },
    {
     "cell_type": "code",
     "collapsed": false,
     "input": [
      "print(b)"
     ],
     "language": "python",
     "metadata": {},
     "outputs": [
      {
       "output_type": "stream",
       "stream": "stdout",
       "text": [
        "[[0.0 10.0 20.0 30.0 40.0 50.0 60.0 70.0 80.0 90.0]\n",
        " [1.0 11.0 21.0 31.0 41.0 51.0 61.0 71.0 81.0 91.0]\n",
        " [2.0 12.0 22.0 32.0 42.0 52.0 62.0 72.0 82.0 92.0]\n",
        " [3.0 13.0 23.0 33.0 43.0 53.0 63.0 73.0 83.0 93.0]\n",
        " [4.0 14.0 24.0 34.0 44.0 54.0 64.0 74.0 84.0 94.0]\n",
        " [5.0 15.0 25.0 35.0 45.0 -- 65.0 75.0 85.0 95.0]\n",
        " [6.0 16.0 26.0 36.0 46.0 56.0 66.0 76.0 86.0 96.0]\n",
        " [7.0 17.0 27.0 37.0 47.0 57.0 67.0 77.0 87.0 97.0]\n",
        " [8.0 18.0 28.0 38.0 48.0 58.0 68.0 78.0 88.0 98.0]\n",
        " [9.0 19.0 29.0 39.0 49.0 59.0 69.0 79.0 89.0 99.0]]\n"
       ]
      }
     ],
     "prompt_number": 196
    },
    {
     "cell_type": "markdown",
     "metadata": {},
     "source": [
      "```b``` has now two new attributes: data, and mask"
     ]
    },
    {
     "cell_type": "code",
     "collapsed": false,
     "input": [
      "print(b.data) "
     ],
     "language": "python",
     "metadata": {},
     "outputs": [
      {
       "output_type": "stream",
       "stream": "stdout",
       "text": [
        "[[   0.   10.   20.   30.   40.   50.   60.   70.   80.   90.]\n",
        " [   1.   11.   21.   31.   41.   51.   61.   71.   81.   91.]\n",
        " [   2.   12.   22.   32.   42.   52.   62.   72.   82.   92.]\n",
        " [   3.   13.   23.   33.   43.   53.   63.   73.   83.   93.]\n",
        " [   4.   14.   24.   34.   44.   54.   64.   74.   84.   94.]\n",
        " [   5.   15.   25.   35.   45. -999.   65.   75.   85.   95.]\n",
        " [   6.   16.   26.   36.   46.   56.   66.   76.   86.   96.]\n",
        " [   7.   17.   27.   37.   47.   57.   67.   77.   87.   97.]\n",
        " [   8.   18.   28.   38.   48.   58.   68.   78.   88.   98.]\n",
        " [   9.   19.   29.   39.   49.   59.   69.   79.   89.   99.]]\n"
       ]
      }
     ],
     "prompt_number": 197
    },
    {
     "cell_type": "code",
     "collapsed": false,
     "input": [
      "print(b.mask)"
     ],
     "language": "python",
     "metadata": {},
     "outputs": [
      {
       "output_type": "stream",
       "stream": "stdout",
       "text": [
        "[[False False False False False False False False False False]\n",
        " [False False False False False False False False False False]\n",
        " [False False False False False False False False False False]\n",
        " [False False False False False False False False False False]\n",
        " [False False False False False False False False False False]\n",
        " [False False False False False  True False False False False]\n",
        " [False False False False False False False False False False]\n",
        " [False False False False False False False False False False]\n",
        " [False False False False False False False False False False]\n",
        " [False False False False False False False False False False]]\n"
       ]
      }
     ],
     "prompt_number": 198
    },
    {
     "cell_type": "code",
     "collapsed": false,
     "input": [
      "b.mean(1)"
     ],
     "language": "python",
     "metadata": {},
     "outputs": [
      {
       "metadata": {},
       "output_type": "pyout",
       "prompt_number": 199,
       "text": [
        "masked_array(data = [45.0 46.0 47.0 48.0 49.0 49.44444444444444 51.0 52.0 53.0 54.0],\n",
        "             mask = [False False False False False False False False False False],\n",
        "       fill_value = 1e+20)"
       ]
      }
     ],
     "prompt_number": 199
    },
    {
     "cell_type": "code",
     "collapsed": false,
     "input": [
      "c = b.mean(1)"
     ],
     "language": "python",
     "metadata": {},
     "outputs": [],
     "prompt_number": 200
    },
    {
     "cell_type": "code",
     "collapsed": false,
     "input": [
      "c.shape"
     ],
     "language": "python",
     "metadata": {},
     "outputs": [
      {
       "metadata": {},
       "output_type": "pyout",
       "prompt_number": 201,
       "text": [
        "(10,)"
       ]
      }
     ],
     "prompt_number": 201
    },
    {
     "cell_type": "markdown",
     "metadata": {},
     "source": [
      "Masked values are just ignored in calculations "
     ]
    },
    {
     "cell_type": "markdown",
     "metadata": {},
     "source": [
      "Other masked array functions allow to set masked values according to some conditions, all (I think) functions exposed for regular numpy arrays are available."
     ]
    },
    {
     "cell_type": "code",
     "collapsed": false,
     "input": [
      "b = ma.masked_greater(b, 80)"
     ],
     "language": "python",
     "metadata": {},
     "outputs": [],
     "prompt_number": 203
    },
    {
     "cell_type": "code",
     "collapsed": false,
     "input": [
      "b"
     ],
     "language": "python",
     "metadata": {},
     "outputs": [
      {
       "metadata": {},
       "output_type": "pyout",
       "prompt_number": 204,
       "text": [
        "masked_array(data =\n",
        " [[0.0 10.0 20.0 30.0 40.0 50.0 60.0 70.0 80.0 --]\n",
        " [1.0 11.0 21.0 31.0 41.0 51.0 61.0 71.0 -- --]\n",
        " [2.0 12.0 22.0 32.0 42.0 52.0 62.0 72.0 -- --]\n",
        " [3.0 13.0 23.0 33.0 43.0 53.0 63.0 73.0 -- --]\n",
        " [4.0 14.0 24.0 34.0 44.0 54.0 64.0 74.0 -- --]\n",
        " [5.0 15.0 25.0 35.0 45.0 -- 65.0 75.0 -- --]\n",
        " [6.0 16.0 26.0 36.0 46.0 56.0 66.0 76.0 -- --]\n",
        " [7.0 17.0 27.0 37.0 47.0 57.0 67.0 77.0 -- --]\n",
        " [8.0 18.0 28.0 38.0 48.0 58.0 68.0 78.0 -- --]\n",
        " [9.0 19.0 29.0 39.0 49.0 59.0 69.0 79.0 -- --]],\n",
        "             mask =\n",
        " [[False False False False False False False False False  True]\n",
        " [False False False False False False False False  True  True]\n",
        " [False False False False False False False False  True  True]\n",
        " [False False False False False False False False  True  True]\n",
        " [False False False False False False False False  True  True]\n",
        " [False False False False False  True False False  True  True]\n",
        " [False False False False False False False False  True  True]\n",
        " [False False False False False False False False  True  True]\n",
        " [False False False False False False False False  True  True]\n",
        " [False False False False False False False False  True  True]],\n",
        "       fill_value = 1e+20)"
       ]
      }
     ],
     "prompt_number": 204
    },
    {
     "cell_type": "code",
     "collapsed": false,
     "input": [
      "b.mean(0)"
     ],
     "language": "python",
     "metadata": {},
     "outputs": [
      {
       "metadata": {},
       "output_type": "pyout",
       "prompt_number": 205,
       "text": [
        "masked_array(data = [4.5 14.5 24.5 34.5 44.5 54.44444444444444 64.5 74.5 80.0 --],\n",
        "             mask = [False False False False False False False False False  True],\n",
        "       fill_value = 1e+20)"
       ]
      }
     ],
     "prompt_number": 205
    },
    {
     "cell_type": "heading",
     "level": 2,
     "metadata": {},
     "source": [
      "Random numbers"
     ]
    },
    {
     "cell_type": "markdown",
     "metadata": {},
     "source": [
      "You can generate random numbers coming from a wide range of distributions\n",
      "\n"
     ]
    },
    {
     "cell_type": "code",
     "collapsed": false,
     "input": [
      "np.random."
     ],
     "language": "python",
     "metadata": {},
     "outputs": []
    },
    {
     "cell_type": "markdown",
     "metadata": {},
     "source": [
      "If you want more distributions, and more flexibility, you need to look into scipy.stats.distributions (see the statistical modelling notebook)"
     ]
    },
    {
     "cell_type": "markdown",
     "metadata": {},
     "source": [
      "**Example 1: Normal distribution**   \n",
      "\n",
      "$$P(x) = \\frac{1}{\\sqrt{2\\pi\\sigma^2}}\\exp\\left[-\\frac{(x-\\mu)^2}{2\\sigma^2}\\right]$$\n"
     ]
    },
    {
     "cell_type": "code",
     "collapsed": false,
     "input": [
      "x = np.random.normal(0,1,1000)"
     ],
     "language": "python",
     "metadata": {},
     "outputs": [],
     "prompt_number": 209
    },
    {
     "cell_type": "code",
     "collapsed": false,
     "input": [
      "x = np.random.standard_normal(1000)"
     ],
     "language": "python",
     "metadata": {},
     "outputs": [],
     "prompt_number": 210
    },
    {
     "cell_type": "code",
     "collapsed": false,
     "input": [
      "_ = plt.hist(x, color='0.6',normed=True)"
     ],
     "language": "python",
     "metadata": {},
     "outputs": [
      {
       "metadata": {},
       "output_type": "display_data",
       "png": "[encoded data removed]",
       "text": [
        "<matplotlib.figure.Figure at 0x10720d090>"
       ]
      }
     ],
     "prompt_number": 211
    },
    {
     "cell_type": "markdown",
     "metadata": {},
     "source": [
      "**Example 2: Poisson distribution**    \n",
      "\n",
      "\\begin{equation*}\n",
      "P\\left( x \\right) = \\frac{{e^{ - \\lambda } \\lambda ^x }}{{x!}}\n",
      "\\end{equation*}"
     ]
    },
    {
     "cell_type": "code",
     "collapsed": false,
     "input": [
      "poiss = np.random.poisson(lam=4, size=(10000))"
     ],
     "language": "python",
     "metadata": {},
     "outputs": [],
     "prompt_number": 212
    },
    {
     "cell_type": "code",
     "collapsed": false,
     "input": [
      "#a = np.array([len(np.where(poiss==x)[0]) for x in np.unique(poiss)])"
     ],
     "language": "python",
     "metadata": {},
     "outputs": [],
     "prompt_number": 213
    },
    {
     "cell_type": "code",
     "collapsed": false,
     "input": [
      "a = np.array([sum(poiss==x) for x in np.unique(poiss)])"
     ],
     "language": "python",
     "metadata": {},
     "outputs": [],
     "prompt_number": 214
    },
    {
     "cell_type": "code",
     "collapsed": false,
     "input": [
      "f, ax = plt.subplots()\n",
      "ax.plot(np.unique(poiss), a/10000., '-', color='grey')\n",
      "ax.plot(np.unique(poiss), a/10000., 'o', color='purple', markersize=10)\n",
      "ax.set_title(\"Poisson Empirical PMF, $\\lambda = 4$\", fontsize=20)\n",
      "ax.set_xlim(-1,17)\n",
      "ax.set_ylim(0,0.25)\n",
      "[l.set_fontsize(16) for l in ax.xaxis.get_ticklabels()]\n",
      "[l.set_fontsize(16) for l in ax.yaxis.get_ticklabels()];"
     ],
     "language": "python",
     "metadata": {},
     "outputs": [
      {
       "metadata": {},
       "output_type": "display_data",
       "png": "[encoded data removed]",
       "text": [
        "<matplotlib.figure.Figure at 0x1074443d0>"
       ]
      }
     ],
     "prompt_number": 215
    },
    {
     "cell_type": "code",
     "collapsed": false,
     "input": [
      "import math # the math module exposes mathematical functions operating on scalars"
     ],
     "language": "python",
     "metadata": {},
     "outputs": [],
     "prompt_number": 216
    },
    {
     "cell_type": "code",
     "collapsed": false,
     "input": [
      "lam = 4; end = 20 # lambda is a reserved word in python "
     ],
     "language": "python",
     "metadata": {},
     "outputs": [],
     "prompt_number": 217
    },
    {
     "cell_type": "code",
     "collapsed": false,
     "input": [
      "P = [math.exp(-lam)*lam**x/math.factorial(x) for x in xrange(end)] # note the use of a list comprehension"
     ],
     "language": "python",
     "metadata": {},
     "outputs": [],
     "prompt_number": 218
    },
    {
     "cell_type": "code",
     "collapsed": false,
     "input": [
      "f, ax = plt.subplots()\n",
      "ax.plot(P, '-', color='grey')\n",
      "ax.plot(P, 'o', color='purple', markersize=10)\n",
      "ax.set_title(\"Poisson PMF, $\\lambda = 4$\", fontsize=20)\n",
      "ax.set_xlim(-1,17)\n",
      "ax.set_ylim(0,0.25)\n",
      "[l.set_fontsize(16) for l in ax.xaxis.get_ticklabels()]\n",
      "[l.set_fontsize(16) for l in ax.yaxis.get_ticklabels()];"
     ],
     "language": "python",
     "metadata": {},
     "outputs": [
      {
       "metadata": {},
       "output_type": "display_data",
       "png": "[encoded data removed]",
       "text": [
        "<matplotlib.figure.Figure at 0x10744bfd0>"
       ]
      }
     ],
     "prompt_number": 219
    },
    {
     "cell_type": "markdown",
     "metadata": {},
     "source": [
      "From Wikipedia (http://en.wikipedia.org/wiki/Poisson_distribution)\n",
      "\n",
      "\n",
      "<!--![Discrete variable](http://upload.wikimedia.org/wikipedia/commons/1/16/Poisson_pmf.svg)-->\n",
      "![Discrete variable](files/images/poisson_pmf.png)\n"
     ]
    },
    {
     "cell_type": "code",
     "collapsed": false,
     "input": [
      "%load_ext load_style"
     ],
     "language": "python",
     "metadata": {},
     "outputs": [],
     "prompt_number": 4
    },
    {
     "cell_type": "code",
     "collapsed": false,
     "input": [
      "%load_style talk.css"
     ],
     "language": "python",
     "metadata": {},
     "outputs": [
      {
       "html": [
        "<style>\n",
        "\n",
        ".rendered_html {\n",
        "    font-family: \"proxima-nova\", helvetica;\n",
        "    font-size: 130%;\n",
        "    line-height: 1.5;\n",
        "}\n",
        "\n",
        ".rendered_html h1 {\n",
        "    margin: 0.25em 0em 0.5em;\n",
        "    color: #015C9C;\n",
        "    text-align: center;\n",
        "    line-height: 1.2; \n",
        "    page-break-before: always;\n",
        "}\n",
        "\n",
        ".rendered_html h2 {\n",
        "    margin: 1.1em 0em 0.5em;\n",
        "    color: #26465D;\n",
        "    line-height: 1.2;\n",
        "}\n",
        "\n",
        ".rendered_html h3 {\n",
        "    margin: 1.1em 0em 0.5em;\n",
        "    color: #002845;\n",
        "    line-height: 1.2;\n",
        "}\n",
        "\n",
        ".rendered_html li {\n",
        "    line-height: 1.5; \n",
        "}\n",
        "\n",
        "/*.prompt {\n",
        "    font-size: 120%; \n",
        "}*/\n",
        "\n",
        ".CodeMirror-lines {\n",
        "    font-size: 110%; \n",
        "}\n",
        "\n",
        "/*.output_area {\n",
        "    font-size: 120%; \n",
        "}*/\n",
        "\n",
        "/*#notebook {\n",
        "    background-image: url('files/images/witewall_3.png');\n",
        "}*/\n",
        "\n",
        "h1.bigtitle {\n",
        "    margin: 4cm 1cm 4cm 1cm;\n",
        "    font-size: 300%;\n",
        "}\n",
        "\n",
        "h3.point {\n",
        "    font-size: 200%;\n",
        "    text-align: center;\n",
        "    margin: 2em 0em 2em 0em;\n",
        "    #26465D\n",
        "}\n",
        "\n",
        ".logo {\n",
        "    margin: 20px 0 20px 0;\n",
        "}\n",
        "\n",
        "a.anchor-link {\n",
        "    display: none;\n",
        "}\n",
        "\n",
        "h1.title { \n",
        "    font-size: 250%;\n",
        "}\n",
        "\n",
        "</style>"
       ],
       "metadata": {},
       "output_type": "display_data",
       "text": [
        "<IPython.core.display.HTML at 0x104a43f10>"
       ]
      }
     ],
     "prompt_number": 5
    }
   ],
   "metadata": {}
  }
 ]
}