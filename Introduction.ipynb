{
 "metadata": {
  "name": "",
  "signature": "sha256:6337a62dfe5721d7038d3f9067b6de35fa32cfb0445bcfb3c4b5c4e22b2d6e3a"
 },
 "nbformat": 3,
 "nbformat_minor": 0,
 "worksheets": [
  {
   "cells": [
    {
     "cell_type": "code",
     "collapsed": false,
     "input": [
      "%load_ext load_style\n",
      "%load_style talk.css"
     ],
     "language": "python",
     "metadata": {},
     "outputs": [
      {
       "html": [
        "<style>\n",
        "\n",
        ".rendered_html {\n",
        "    font-family: \"proxima-nova\", helvetica;\n",
        "    font-size: 130%;\n",
        "    line-height: 1.5;\n",
        "}\n",
        "\n",
        ".rendered_html h1 {\n",
        "    margin: 0.25em 0em 0.5em;\n",
        "    color: #015C9C;\n",
        "    text-align: center;\n",
        "    line-height: 1.2; \n",
        "    page-break-before: always;\n",
        "}\n",
        "\n",
        ".rendered_html h2 {\n",
        "    margin: 1.1em 0em 0.5em;\n",
        "    color: #26465D;\n",
        "    line-height: 1.2;\n",
        "}\n",
        "\n",
        ".rendered_html h3 {\n",
        "    margin: 1.1em 0em 0.5em;\n",
        "    color: #002845;\n",
        "    line-height: 1.2;\n",
        "}\n",
        "\n",
        ".rendered_html li {\n",
        "    line-height: 1.5; \n",
        "}\n",
        "\n",
        "/*.prompt {\n",
        "    font-size: 120%; \n",
        "}*/\n",
        "\n",
        ".CodeMirror-lines {\n",
        "    font-size: 110%; \n",
        "}\n",
        "\n",
        "/*.output_area {\n",
        "    font-size: 120%; \n",
        "}*/\n",
        "\n",
        "/*#notebook {\n",
        "    background-image: url('files/images/witewall_3.png');\n",
        "}*/\n",
        "\n",
        "h1.bigtitle {\n",
        "    margin: 4cm 1cm 4cm 1cm;\n",
        "    font-size: 300%;\n",
        "}\n",
        "\n",
        "h3.point {\n",
        "    font-size: 200%;\n",
        "    text-align: center;\n",
        "    margin: 2em 0em 2em 0em;\n",
        "    #26465D\n",
        "}\n",
        "\n",
        ".logo {\n",
        "    margin: 20px 0 20px 0;\n",
        "}\n",
        "\n",
        "a.anchor-link {\n",
        "    display: none;\n",
        "}\n",
        "\n",
        "h1.title { \n",
        "    font-size: 250%;\n",
        "}\n",
        "\n",
        "</style>"
       ],
       "metadata": {},
       "output_type": "display_data",
       "text": [
        "<IPython.core.display.HTML at 0x104341ad0>"
       ]
      }
     ],
     "prompt_number": 3
    },
    {
     "cell_type": "heading",
     "level": 1,
     "metadata": {},
     "source": [
      "Python and the Scientific Python ecosystem"
     ]
    },
    {
     "cell_type": "markdown",
     "metadata": {},
     "source": [
      "<hr size=5>\n",
      "\n",
      "**Using open-source software for Engineering and Science research** \n",
      "\n",
      "**14 August 2014** \n",
      "\n",
      "  \n",
      "> Room 423-340  \n",
      "> University of Auckland  \n",
      "> Conference building  \n",
      "> between 20 and 24 Symonds street (*between the Engineering building and the security building*)  \n",
      "> Auckland  \n",
      "> New Zealand  \n",
      "\n",
      "[https://wiki.auckland.ac.nz/x/FQEuB](https://wiki.auckland.ac.nz/x/FQEuB)\n",
      "\n",
      "Email: <mailto:Nicolas.Fauchereau@gmail.com>\n",
      "\n",
      "All the material (notebooks) is indexed at:\n",
      "\n",
      "[https://github.com/nicolasfauchereau/UoA_Workshop_14082014](https://github.com/nicolasfauchereau/UoA_Workshop_14082014)\n",
      "\n",
      "If you have git installed, the easier is to clone my repository (from the command line): \n",
      "\n",
      "    git clone https://github.com/nicolasfauchereau/UoA_Workshop_14082014\n",
      "\n",
      "If you are not a git user, simply download the zipped archive from [here](https://github.com/nicolasfauchereau/UoA_Workshop_14082014/archive/master.zip)  \n",
      "\n",
      "<hr size=5>"
     ]
    },
    {
     "cell_type": "heading",
     "level": 2,
     "metadata": {},
     "source": [
      "Structure of the repository"
     ]
    },
    {
     "cell_type": "markdown",
     "metadata": {},
     "source": [
      "Following the links open the executable IPython notebooks\n",
      "\n",
      "1. [Introduction (this notebook)](./Introduction.ipynb)\n",
      "2. [Python: a brief intro](./Python_intro.ipynb)\n",
      "3. [The IPython notebook](./IPython_notebook.ipynb)\n",
      "4. **The Scientific Python ecosystem: building blocks**:\n",
      "    + [Numpy](./Numpy.ipynb)\n",
      "    + [Scipy](./Scipy.ipynb)\n",
      "    + [Matplotlib](./Matplotlib.ipynb)\n",
      "    + [Pandas](./Pandas.ipynb)  \n",
      "   \n",
      "<hr size=5>"
     ]
    },
    {
     "cell_type": "heading",
     "level": 2,
     "metadata": {},
     "source": [
      "Installing the Python scientific ecosystem on a single machine"
     ]
    },
    {
     "cell_type": "markdown",
     "metadata": {},
     "source": [
      "The [Anaconda scientific python distribution](https://store.continuum.io/cshop/anaconda/) is a completely free enterprise-ready Python distribution for large-scale data processing, predictive analytics, and scientific computing. It includes the python interpreter itself, the python standard library as well as a set of packages exposing data structures and methods for data manipulation and scientific computing and visualization. In particular it provides Numpy, Scipy, Pandas, Matplotlib (...). The full list of packages is available at:\n",
      "\n",
      "[http://docs.continuum.io/anaconda/pkgs.html](http://docs.continuum.io/anaconda/pkgs.html)\n",
      "\n",
      "The Anaconda python distribution must be downloaded from:\n",
      "\n",
      "[http://continuum.io/downloads](http://continuum.io/downloads)\n",
      "\n",
      "Once copied over, make sure the anaconda installer is executable by going in the right directory (with cd) and entering (example for ```version 2.0.1``` of Anaconda on a 64bit Linux machine):\n",
      "\n",
      "    $ chmod +x Anaconda-2.0.1-Linux-x86_64.sh\n",
      "\n",
      "then to launch the installer:\n",
      "\n",
      "    $ ./Anaconda.2.0.1-Linux-x86_64.sh\n",
      "\n",
      "The installer will ask you a few questions, the most important is related to the installation directory, I recommend installing in the `$HOME` directory (user installation)\n",
      "\n",
      "Once Anaconda is installed, you need to update conda (the python \u2018package manager\u2019 that comes with anaconda and allows the painless installation and update of third party modules) by entering\n",
      "\n",
      "    $ ${HOME}/bin/conda update conda\n",
      "\n",
      "Then a good thing is to update the anaconda packages already installed\n",
      "\n",
      "    $ ${HOME}/bin/conda update anaconda\n",
      "\n",
      "You also need to install [pip](https://github.com/pypa/pip) to install packages from the [Python Package Index](http://pypi.python.org/pypi).\n",
      "\n",
      "    $ ${HOME}/bin/conda install pip"
     ]
    },
    {
     "cell_type": "heading",
     "level": 2,
     "metadata": {},
     "source": [
      "Running or visualizing the material"
     ]
    },
    {
     "cell_type": "markdown",
     "metadata": {},
     "source": [
      "Once the [Anaconda scientific python distribution](https://store.continuum.io/cshop/anaconda/) has been installed: \n",
      "    \n",
      "1. navigate (in the terminal) to the directory where you have unpacked or clone my repository (`*.ipynb` files should be present)\n",
      "2. run: \n",
      "```\n",
      "${HOME}/anaconda/bin/ipython notebook\n",
      "```\n",
      "3. Open [test.ipynb](./test.ipynb) and in the menu bar select `Cell / Run all` to see if everything installed fine\n",
      "\n",
      "To visualize the notebooks from my github repository please head to the [README]() which contains links to static, HTML-rendered versions of the notebooks, that you can follow online"
     ]
    },
    {
     "cell_type": "heading",
     "level": 2,
     "metadata": {},
     "source": [
      "Pointers and resources"
     ]
    },
    {
     "cell_type": "markdown",
     "metadata": {},
     "source": [
      "Below a partial list of resources you might want to consider if making the move towards Python and the Python scientific ecosystem"
     ]
    },
    {
     "cell_type": "heading",
     "level": 3,
     "metadata": {},
     "source": [
      "Object Oriented Programming in Python "
     ]
    },
    {
     "cell_type": "markdown",
     "metadata": {},
     "source": [
      "+ [www.google.com](www.google.com)\n",
      "+ [A good tutorial by Alan Gauld](http://www.freenetpages.co.uk/hp/alan.gauld/tutclass.htm)\n",
      "+ The [classes](http://docs.python.org/2/tutorial/classes.html) entry from the official Python doc \n",
      "+ A short [pdf](http://www1.gly.bris.ac.uk/~walker/PythonEarthSci/PfES_3.pdf) from Andrew Walker's [Python for Earth Scientists](http://www1.gly.bris.ac.uk/~walker/PythonEarthSci/) course\n"
     ]
    },
    {
     "cell_type": "heading",
     "level": 3,
     "metadata": {},
     "source": [
      "Python as a glue: wrapping of C, C++, Fortran or the Cython module  \n"
     ]
    },
    {
     "cell_type": "markdown",
     "metadata": {},
     "source": [
      "+ [using python as a *glue*](http://docs.scipy.org/doc/numpy/user/c-info.python-as-glue.html)\n",
      "+ [SWIG (Simplified Wrapper and Interface Generator)](http://www.swig.org/Doc1.3/Python.html)\n",
      "+ [Cython](http://cython.org)\n",
      "+ [f2py](http://www.f2py.com/)\n",
      "+ [A notebook on using C and Fortran with Python](http://nbviewer.ipython.org/github/jrjohansson/scientific-python-lectures/blob/master/Lecture-6A-Fortran-and-C.ipynb)"
     ]
    },
    {
     "cell_type": "heading",
     "level": 3,
     "metadata": {},
     "source": [
      "Real-time acquisition, physical programming"
     ]
    },
    {
     "cell_type": "markdown",
     "metadata": {},
     "source": [
      "+ [pyserial](http://pyserial.sourceforge.net): Module that encapsulates the access for the serial port\n",
      "+ [Real World Instrumentation, Automated Data Acquisition and Control Systems](http://www.amazon.com/Real-World-Instrumentation-Python-Acquisition/dp/0596809565): A book available on Amazon.\n",
      "+ [Programming Raspberry Pi: Getting Started with Python](http://www.monkmakes.com/?page_id=63): book (not free) with code (free)\n",
      "+ [PyVISA](https://pyvisa.readthedocs.org/en/latest/): The PyVISA package enables you to control all kinds of measurement equipment through various busses (GPIB, RS232, USB) with Python programs"
     ]
    },
    {
     "cell_type": "heading",
     "level": 3,
     "metadata": {},
     "source": [
      "Image processing"
     ]
    },
    {
     "cell_type": "markdown",
     "metadata": {},
     "source": [
      "+ PIL [(Python Image Library)](http://www.pythonware.com/products/pil/): Image processing capabilities to your Python interpreter.\n",
      "+ [pillow](http://python-pillow.github.io/): A more user-friendly `fork` of PIL\n",
      "+ [scikit-image](http://scikit-image.org): more Image processing, built on top of Numpy / Scipy."
     ]
    },
    {
     "cell_type": "heading",
     "level": 3,
     "metadata": {},
     "source": [
      "Symbolic maths"
     ]
    },
    {
     "cell_type": "markdown",
     "metadata": {},
     "source": [
      "+ The [SymPy](www.sympy.org) library is a Python library for symbolic mathematics. It supports polynomials, calculus, solving equations, etc\n"
     ]
    },
    {
     "cell_type": "heading",
     "level": 3,
     "metadata": {},
     "source": [
      "Spatial statistics"
     ]
    },
    {
     "cell_type": "markdown",
     "metadata": {},
     "source": [
      "+ [PySAL](http://pysal.readthedocs.org/en/v1.6/): PySAL is a cross-platform library of spatial analysis functions written in Python. It is intended to support the development of high level applications for spatial analysis."
     ]
    },
    {
     "cell_type": "heading",
     "level": 3,
     "metadata": {},
     "source": [
      "Biology, ecology"
     ]
    },
    {
     "cell_type": "markdown",
     "metadata": {},
     "source": [
      "+ [Biopython](http://biopython.org/wiki/Main_Page): Biopython is a set of freely available tools for biological computation written in Python by an international team of developers. \n",
      "+ [GeoEco](https://pypi.python.org/pypi/GeoEco): Open source geoprocessing toolbox designed for coastal and marine researchers and GIS analysts who work with spatially-explicit ecological and oceanographic data. For Windows (> XP) only."
     ]
    },
    {
     "cell_type": "heading",
     "level": 3,
     "metadata": {},
     "source": [
      "Computational Fluid Dynamics and PDE solvers"
     ]
    },
    {
     "cell_type": "markdown",
     "metadata": {},
     "source": [
      "+ [CFD Python: 12 steps to Navier-Stokes](http://lorenabarba.com/blog/cfd-python-12-steps-to-navier-stokes/)\n",
      "+ [github repository for the above](https://github.com/barbagroup/CFDPython)\n",
      "+ [Python bindings to OpenFOAM](http://openfoamwiki.net/index.php/Contrib_PyFoam)\n",
      "+ [FiPy: A Finite Volume PDE Solver Using Python](http://matforge.org/fipy/)\n",
      "+ [\"Practical Numerical Methods with Python\" MOOC]()"
     ]
    },
    {
     "cell_type": "heading",
     "level": 3,
     "metadata": {},
     "source": [
      "Signal processing in Python"
     ]
    },
    {
     "cell_type": "markdown",
     "metadata": {},
     "source": [
      "+ [scipy.signal](http://docs.scipy.org/doc/scipy/reference/tutorial/signal.html)\n",
      "+ [Python for signal processing blog](http://python-for-signal-processing.blogspot.co.nz/)\n",
      "+ [Python for signal processing github repository](https://github.com/unpingco/Python-for-Signal-Processing)\n",
      "+ [Python for signal processing book](http://www.springer.com/engineering/signals/book/978-3-319-01341-1)"
     ]
    },
    {
     "cell_type": "heading",
     "level": 3,
     "metadata": {},
     "source": [
      "Python for Matlab and R users "
     ]
    },
    {
     "cell_type": "markdown",
     "metadata": {},
     "source": [
      "+ [Moving from MATLAB matrices to NumPy arrays - A Matrix Cheatsheet](http://sebastianraschka.com/Articles/2014_matlab_vs_numpy.html)\n",
      "\n",
      "+ [NumPy for Matlab Users](http://wiki.scipy.org/NumPy_for_Matlab_Users)\n"
     ]
    },
    {
     "cell_type": "heading",
     "level": 3,
     "metadata": {},
     "source": [
      "Some URLs and blogs"
     ]
    },
    {
     "cell_type": "markdown",
     "metadata": {},
     "source": [
      "+ [Python Scientific Lectures Notes](http://scipy-lectures.github.io): Tutorial material on the scientific Python ecosystem, a quick introduction to central tools and techniques.\n",
      "\n",
      "+ [Python for earth scientists](http://www1.gly.bris.ac.uk/~walker/PythonEarthSci/): A two afternoons course by Andrew Walker (University of Bristol) on Python in the earth sciences. \n",
      "\n",
      "+ [oceanpython](http://oceanpython.org/): Python for oceanography \n",
      "\n",
      "+ [PyAOS](http://pyaos.johnny-lin.com/): Python for the Atmospheric and Oceanic Sciences \n",
      "\n",
      "+ [python4oceanographers](http://ocefpaf.github.io/): Learn python with examples applied to marine sciences.\n",
      "\n",
      "+ [Pythonic perambulations](http://jakevdp.github.io): A blog by Jake VanderPlas"
     ]
    },
    {
     "cell_type": "heading",
     "level": 3,
     "metadata": {},
     "source": [
      "Github repositories: notebooks and accompanying material"
     ]
    },
    {
     "cell_type": "markdown",
     "metadata": {},
     "source": [
      "+ [A gallery of interesting IPython Notebooks](https://github.com/ipython/ipython/wiki/A-gallery-of-interesting-IPython-Notebooks)\n",
      "\"...a curated collection of IPython notebooks that are notable for some reason.\"\n",
      "\n",
      "+ [Scikit-learn tutorial](https://github.com/jakevdp/sklearn_scipy2013): Files and other info associated with the Scipy 2013 scikit-learn tutorial developped by Ga\u00ebl Varoquaux, Olivier Grisel and Jake VanderPlas.\n",
      "\n",
      "+ [Statistical Analysis tutorial](https://github.com/fonnesbeck/statistical-analysis-python-tutorial) from Chris. Fonnesbeck. \n",
      "\n",
      "+ [AstroML: Machine Learning and Data Mining for Astronomy](http://www.astroml.org): A library and tutorial by Jake VanderPlas and co-authors, accompanying the book [Statistics, Data Mining, and Machine Learning in Astronomy](http://www.amazon.com/Statistics-Mining-Machine-Learning-Astronomy/dp/0691151687/)\n",
      "\n",
      "+ [Scientific Python lectures from Robert Johansson](https://github.com/jrjohansson/scientific-python-lectures)\n",
      "\n",
      "+ [Data Science in Python](http://blog.yhathq.com/posts/data-science-in-python-tutorial.html): A series of annotated notebooks on data science (i.e. geared towards machine learning) in python\n",
      "\n",
      "+ [http://earthpy.org/](http://earthpy.org/): EarthPy is a collection of IPython notebooks with examples of Earth Science related Python code\n"
     ]
    },
    {
     "cell_type": "heading",
     "level": 3,
     "metadata": {},
     "source": [
      "Some books "
     ]
    },
    {
     "cell_type": "markdown",
     "metadata": {},
     "source": [
      "+ [Python for Data Analysis](http://shop.oreilly.com/product/0636920023784.do): From Wes McKinney (Developer of [Pandas](www.pandas.pydata.org))\n",
      "\n",
      "+ [Think stats](http://www.greenteapress.com/thinkstats/): Probability and statistics for programmers, from Allen Downey, pdf available for free. \n",
      "\n",
      "+ [Think complexity](http://www.greenteapress.com/compmod/): Complexity science (graphs, cellular automata, agent-based models), from Allen Downey, pdf available for free.\n",
      "\n",
      "+ [Python in hydrology](http://www.greenteapress.com/pythonhydro/pythonhydro.html): A book freely available in pdf, from Sat Kumar Tomer.\n",
      "\n",
      "+ [Programming collective intelligence](http://shop.oreilly.com/product/9780596529321.do): By Toby Segaran, Good intro on (general) Machine Learning algorithms. *Can borrow from me*. \n",
      "\n",
      "+ [Machine Learning in action](http://www.manning.com/pharrington/): By Peter Harrington.\n",
      "\n",
      "+ [Introduction to Python for Econometrics, Statistics and Numerical Analysis: Second Edition](http://www.kevinsheppard.com/images/0/09/Python_introduction.pdf): By Kevin Sheppard, Oxford Uni.\n",
      "\n",
      "+ [A Hands-On Introduction to Using Python in the Atmospheric and Oceanic Sciences](http://www.johnny-lin.com/pyintro/): By [Johnny Lin](http://www.johnny-lin.com), Professor of physics and head of the Climate Research Group at North Park University.\n",
      "\n",
      "+ [principles of planetary climate](http://geosci.uchicago.edu/~rtp1/PrinciplesPlanetaryClimate/index.html): by Ray Pierrehumbert. Excellent book on the physics of planetary climates, with freely downloadable python code to follow the examples given in the book. "
     ]
    },
    {
     "cell_type": "heading",
     "level": 3,
     "metadata": {},
     "source": [
      "Some interesting libraries, built on top of the main Scientific stack"
     ]
    },
    {
     "cell_type": "markdown",
     "metadata": {},
     "source": [
      "+ [PYMC](http://pymc-devs.github.io/pymc/): By Chris Fonnesbeck, Bayesian statistical models and fitting algorithms, including Markov chain Monte Carlo. \n",
      "\n",
      "+ [Seaborn](http://www.stanford.edu/~mwaskom/software/seaborn/): Statistical data visualization, by Michael Waskom. Its [graphical representation of linear models](http://www.stanford.edu/~mwaskom/software/seaborn/linear_models.html) is particularly interesting. \n",
      "\n",
      "+ [ggplot](https://github.com/yhat/ggplot/): For [R](http://cran.r-project.org) users, a 'port' of the [ggplot2](http://ggplot2.org) package to Python, see [here](http://blog.yhathq.com/posts/ggplot-0.4-released.html) for what's new in the latest release. \n",
      "\n",
      "+ [prettyplotlib](http://olgabot.github.io/prettyplotlib/): By Olga Botvinnik \"... painlessly create beautiful matplotlib plots\".\n",
      "\n",
      "+ [coards](https://pypi.python.org/pypi/coards): A COARDS compliant time parser. See also [netcdftime](http://netcdf4-python.googlecode.com/svn/trunk/docs/netcdftime.netcdftime-module.html) which is part of the [NetCDF4 module](https://code.google.com/p/netcdf4-python/)\n",
      "\n",
      "+ [seawater](http://www.imr.no/~bjorn/python/seawater/index.html): Similar to the MATLAB toolboxes SEAWATER from CSIRO and parts of OCEANS from Woods Hole Institute.\n",
      "\n",
      "+ [fluid](https://pypi.python.org/pypi/fluid): Procedures to study fluids on Python, focused for oceanography, meteorology and related sciences.\n",
      "\n",
      "+ [kyPyWavelet](https://github.com/regeirk/kPyWavelet): Continuous wavelet transform module for Python *ala* Torrence and Compo. Some manual edits were necessary to make it work for me ... \n",
      "\n",
      "+ [pyresample](https://code.google.com/p/pyresample/): Resampling (reprojection) of geospatial image data in Python\n",
      "\n",
      "+ [Rpy2](http://rpy.sourceforge.net/rpy2.html): calling R from Python"
     ]
    },
    {
     "cell_type": "heading",
     "level": 3,
     "metadata": {},
     "source": [
      "Some articles on open and reproducible research"
     ]
    },
    {
     "cell_type": "markdown",
     "metadata": {},
     "source": [
      "+ [Reproducible Research in Computational Science](http://dx.doi.org/10.1126/science.1213847), Roger D. Peng, Science 334, 1226 (2011).\n",
      "\n",
      "+ [Shining Light into Black Boxes](http://dx.doi.org/10.1126/science.1218263), A. Morin et al., Science 336, 159-160 (2012).\n",
      " \n",
      "+ [The case for open computer programs](http://dx.doi.org/doi:10.1038/nature10836), D.C. Ince, Nature 482, 485 (2012).\n",
      "\n",
      "+ [Best practices for scientific computing](http://www.plosbiology.org/article/info%3Adoi%2F10.1371%2Fjournal.pbio.1001745): Paper in PLOS Biology exposing some of the tools and methods to build better Scientific software.\n"
     ]
    },
    {
     "cell_type": "heading",
     "level": 2,
     "metadata": {},
     "source": [
      "Acknowledgments"
     ]
    },
    {
     "cell_type": "markdown",
     "metadata": {},
     "source": [
      "In building this material, I have liberally '*borrowed*' from lecture notes, online notebooks, video recording of talks, code examples, articles, etc, that are freely available online, I would like to acknowledge in particular (list not exhaustive and in no particular order): \n",
      "\n",
      "+ [Fernando Perez](http://blog.fperez.org): Lead developper of [IPython](www.ipython.org), great advocate of [open science](http://en.wikipedia.org/wiki/Open_science) and reproducible research\n",
      "+ Brian Granger: Lead developper of the [IPython notebook](http://ipython.org/notebook.html)\n",
      "+ [Wes McKinney](http://blog.wesmckinney.com): Lead developper of Pandas, author of [Python for Data Analysis](http://shop.oreilly.com/product/0636920023784.do)\n",
      "+ [Christopher Fonnesbeck](http://biostat.mc.vanderbilt.edu/wiki/Main/ChrisFonnesbeck): Developper of [PYMC](http://pymc-devs.github.io/pymc/) (Bayesian statistical models and fitting algorithms, including Markov chain Monte Carlo)\n",
      "+ [Jake VanderPlas](http://www.astro.washington.edu/users/vanderplas/): Astronomer, contributor to [scikit-learn](http://scikit-learn.org)\n",
      "+ [Ga\u00ebl Varoquaux](http://gael-varoquaux.info): One of the main contributors to [scikit-learn](http://scikit-learn.org)\n",
      "+ [Olivier Grisel](http://ogrisel.com): Also main contributor to [scikit-learn](http://scikit-learn.org)\n",
      "+ [Travis Oliphant](http://technicaldiscovery.blogspot.co.nz): One of the lead developpers of Numpy / Scipy, and founder of [Continuum Analytics](http://continuum.io).\n",
      "+ J.R. Johansson http://dml.riken.jp/~rob/\n",
      "+ [Thomas Wiecki](http://twiecki.github.io/): developper of [PYMC3](https://github.com/pymc-devs/pymc), a fork of PYMC. \n",
      "+ [Skipper Seabold](http://jseabold.net/): The main developper of [statsmodels](http://statsmodels.sourceforge.net/)\n",
      "+ [Kevin Sheppard](http://www.kevinsheppard.com/wiki/Main_Page) from University of Oxford: author or the book [Introduction to Python for Econometrics, Statistics and Numerical Analysis: Second Edition](http://www.kevinsheppard.com/images/0/09/Python_introduction.pdf). \n",
      "\n",
      "And finally [John Hunter](http://blog.fperez.org/2013/07/in-memoriam-john-d-hunter-iii-1968-2012.html), He was the founder and lead developper of [Matplotlib](http://matplotlib.org), a pivotal library to make Python a viable free and open-source alternative to commercial scientific software, and very sadly passed away in 2012.\n",
      "\n",
      "I encourage you - if you carry on using Python for science - to look up these people on google, have a look at their github repositories and the projects they contribute to, and follow them on twitter, some of them (*e.g.* Jake VanderPlas) have also very informative blogs. You can also donate to the [John Hunter memorial fund](http://numfocus.org/johnhunter.html) as a way to give back to an important contributor to the Python scientific community.\n",
      "\n",
      "---"
     ]
    },
    {
     "cell_type": "markdown",
     "metadata": {},
     "source": [
      "<center>\n",
      "![](files/images/python.png)\n",
      "</center>"
     ]
    }
   ],
   "metadata": {}
  }
 ]
}