{
 "metadata": {
  "name": "",
  "signature": "sha256:508447747fad016200108050307768ad6a8368b80c827fb2fde114e599d8b177"
 },
 "nbformat": 3,
 "nbformat_minor": 0,
 "worksheets": [
  {
   "cells": [
    {
     "cell_type": "markdown",
     "metadata": {},
     "source": [
      "# Scipy"
     ]
    },
    {
     "cell_type": "code",
     "collapsed": false,
     "input": [
      "from IPython.display import Image, HTML\n",
      "import numpy as np\n",
      "import matplotlib.pyplot as plt"
     ],
     "language": "python",
     "metadata": {},
     "outputs": [],
     "prompt_number": 2
    },
    {
     "cell_type": "code",
     "collapsed": false,
     "input": [
      "%matplotlib inline"
     ],
     "language": "python",
     "metadata": {},
     "outputs": [],
     "prompt_number": 4
    },
    {
     "cell_type": "markdown",
     "metadata": {},
     "source": [
      "**Scipy** can is a library (but can be thought more as a scientific python distribution) that is built on top of Numpy and\n",
      "and provides a large set of standard scientific computing algorithms, in particular: \n",
      "\n",
      "* Special functions ([scipy.special](http://docs.scipy.org/doc/scipy/reference/special.html))\n",
      "* Integration ([scipy.integrate](http://docs.scipy.org/doc/scipy/reference/integrate.html))\n",
      "* Optimization ([scipy.optimize](http://docs.scipy.org/doc/scipy/reference/optimize.html))\n",
      "* Interpolation ([scipy.interpolate](http://docs.scipy.org/doc/scipy/reference/interpolate.html))\n",
      "* Fourier Transforms ([scipy.fftpack](http://docs.scipy.org/doc/scipy/reference/fftpack.html))\n",
      "* Signal Processing ([scipy.signal](http://docs.scipy.org/doc/scipy/reference/signal.html))\n",
      "* Linear Algebra ([scipy.linalg](http://docs.scipy.org/doc/scipy/reference/linalg.html))\n",
      "* Sparse Eigenvalue Problems ([scipy.sparse](http://docs.scipy.org/doc/scipy/reference/sparse.html))\n",
      "* Statistics ([scipy.stats](http://docs.scipy.org/doc/scipy/reference/stats.html))\n",
      "* Multi-dimensional image processing ([scipy.ndimage](http://docs.scipy.org/doc/scipy/reference/ndimage.html))\n",
      "* File IO ([scipy.io](http://docs.scipy.org/doc/scipy/reference/io.html))\n",
      "\n",
      "We'll only have a look at some of these sub-packages, more directly relevant to **analyzing** data\n",
      "   \n",
      "   \n",
      "+ **scipy.stats**: standard continuous and discrete probability distributions (density functions, samplers, ...), various statistical tests, and more descriptive statistics. \n",
      "+ **scipy.interpolate**: 1D and 2D interpolation\n"
     ]
    },
    {
     "cell_type": "markdown",
     "metadata": {},
     "source": [
      "## Scipy.stats"
     ]
    },
    {
     "cell_type": "code",
     "collapsed": false,
     "input": [
      "from scipy import stats "
     ],
     "language": "python",
     "metadata": {},
     "outputs": [],
     "prompt_number": 220
    },
    {
     "cell_type": "code",
     "collapsed": false,
     "input": [
      "dir(stats)"
     ],
     "language": "python",
     "metadata": {},
     "outputs": [
      {
       "metadata": {},
       "output_type": "pyout",
       "prompt_number": 221,
       "text": [
        "['Tester',\n",
        " '__all__',\n",
        " '__builtins__',\n",
        " '__doc__',\n",
        " '__file__',\n",
        " '__name__',\n",
        " '__package__',\n",
        " '__path__',\n",
        " '_binned_statistic',\n",
        " '_rank',\n",
        " '_support',\n",
        " '_tukeylambda_stats',\n",
        " 'absolute_import',\n",
        " 'alpha',\n",
        " 'anderson',\n",
        " 'anglit',\n",
        " 'ansari',\n",
        " 'arcsine',\n",
        " 'bartlett',\n",
        " 'bayes_mvs',\n",
        " 'bernoulli',\n",
        " 'beta',\n",
        " 'betai',\n",
        " 'betaprime',\n",
        " 'binned_statistic',\n",
        " 'binned_statistic_2d',\n",
        " 'binned_statistic_dd',\n",
        " 'binom',\n",
        " 'binom_test',\n",
        " 'boltzmann',\n",
        " 'boxcox',\n",
        " 'boxcox_llf',\n",
        " 'boxcox_normmax',\n",
        " 'boxcox_normplot',\n",
        " 'bradford',\n",
        " 'burr',\n",
        " 'callable',\n",
        " 'cauchy',\n",
        " 'chi',\n",
        " 'chi2',\n",
        " 'chi2_contingency',\n",
        " 'chisqprob',\n",
        " 'chisquare',\n",
        " 'circmean',\n",
        " 'circstd',\n",
        " 'circvar',\n",
        " 'cmedian',\n",
        " 'contingency',\n",
        " 'cosine',\n",
        " 'cumfreq',\n",
        " 'describe',\n",
        " 'dgamma',\n",
        " 'distributions',\n",
        " 'division',\n",
        " 'dlaplace',\n",
        " 'dweibull',\n",
        " 'entropy',\n",
        " 'erlang',\n",
        " 'expon',\n",
        " 'exponpow',\n",
        " 'exponweib',\n",
        " 'f',\n",
        " 'f_oneway',\n",
        " 'f_value',\n",
        " 'f_value_multivariate',\n",
        " 'f_value_wilks_lambda',\n",
        " 'fastsort',\n",
        " 'fatiguelife',\n",
        " 'find_repeats',\n",
        " 'fisher_exact',\n",
        " 'fisk',\n",
        " 'fligner',\n",
        " 'foldcauchy',\n",
        " 'foldnorm',\n",
        " 'fprob',\n",
        " 'frechet_l',\n",
        " 'frechet_r',\n",
        " 'friedmanchisquare',\n",
        " 'futil',\n",
        " 'gamma',\n",
        " 'gausshyper',\n",
        " 'gaussian_kde',\n",
        " 'genexpon',\n",
        " 'genextreme',\n",
        " 'gengamma',\n",
        " 'genhalflogistic',\n",
        " 'genlogistic',\n",
        " 'genpareto',\n",
        " 'geom',\n",
        " 'gilbrat',\n",
        " 'glm',\n",
        " 'gmean',\n",
        " 'gompertz',\n",
        " 'gumbel_l',\n",
        " 'gumbel_r',\n",
        " 'halfcauchy',\n",
        " 'halflogistic',\n",
        " 'halfnorm',\n",
        " 'histogram',\n",
        " 'histogram2',\n",
        " 'hmean',\n",
        " 'hypergeom',\n",
        " 'hypsecant',\n",
        " 'invgamma',\n",
        " 'invgauss',\n",
        " 'invweibull',\n",
        " 'itemfreq',\n",
        " 'jarque_bera',\n",
        " 'johnsonsb',\n",
        " 'johnsonsu',\n",
        " 'kde',\n",
        " 'kendalltau',\n",
        " 'kruskal',\n",
        " 'ks_2samp',\n",
        " 'ksone',\n",
        " 'ksprob',\n",
        " 'kstat',\n",
        " 'kstatvar',\n",
        " 'kstest',\n",
        " 'kstwobign',\n",
        " 'kurtosis',\n",
        " 'kurtosistest',\n",
        " 'laplace',\n",
        " 'levene',\n",
        " 'levy',\n",
        " 'levy_l',\n",
        " 'levy_stable',\n",
        " 'linregress',\n",
        " 'loggamma',\n",
        " 'logistic',\n",
        " 'loglaplace',\n",
        " 'lognorm',\n",
        " 'logser',\n",
        " 'lomax',\n",
        " 'mannwhitneyu',\n",
        " 'maxwell',\n",
        " 'mielke',\n",
        " 'mode',\n",
        " 'moment',\n",
        " 'mood',\n",
        " 'morestats',\n",
        " 'mstats',\n",
        " 'mstats_basic',\n",
        " 'mstats_extras',\n",
        " 'mvn',\n",
        " 'mvsdist',\n",
        " 'nakagami',\n",
        " 'nanmean',\n",
        " 'nanmedian',\n",
        " 'nanstd',\n",
        " 'nbinom',\n",
        " 'ncf',\n",
        " 'nct',\n",
        " 'ncx2',\n",
        " 'norm',\n",
        " 'normaltest',\n",
        " 'np',\n",
        " 'obrientransform',\n",
        " 'oneway',\n",
        " 'pareto',\n",
        " 'pdf_fromgamma',\n",
        " 'pearson3',\n",
        " 'pearsonr',\n",
        " 'percentileofscore',\n",
        " 'planck',\n",
        " 'pointbiserialr',\n",
        " 'poisson',\n",
        " 'power_divergence',\n",
        " 'powerlaw',\n",
        " 'powerlognorm',\n",
        " 'powernorm',\n",
        " 'ppcc_max',\n",
        " 'ppcc_plot',\n",
        " 'print_function',\n",
        " 'probplot',\n",
        " 'randint',\n",
        " 'randwcdf',\n",
        " 'randwppf',\n",
        " 'rankdata',\n",
        " 'ranksums',\n",
        " 'rayleigh',\n",
        " 'rdist',\n",
        " 'recipinvgauss',\n",
        " 'reciprocal',\n",
        " 'relfreq',\n",
        " 'rice',\n",
        " 'rv',\n",
        " 'rv_continuous',\n",
        " 'rv_discrete',\n",
        " 's',\n",
        " 'scoreatpercentile',\n",
        " 'sem',\n",
        " 'semicircular',\n",
        " 'shapiro',\n",
        " 'sigmaclip',\n",
        " 'signaltonoise',\n",
        " 'skellam',\n",
        " 'skew',\n",
        " 'skewtest',\n",
        " 'spearmanr',\n",
        " 'square_of_sums',\n",
        " 'ss',\n",
        " 'statlib',\n",
        " 'stats',\n",
        " 't',\n",
        " 'test',\n",
        " 'threshold',\n",
        " 'tiecorrect',\n",
        " 'tmax',\n",
        " 'tmean',\n",
        " 'tmin',\n",
        " 'triang',\n",
        " 'trim1',\n",
        " 'trim_mean',\n",
        " 'trimboth',\n",
        " 'truncexpon',\n",
        " 'truncnorm',\n",
        " 'tsem',\n",
        " 'tstd',\n",
        " 'ttest_1samp',\n",
        " 'ttest_ind',\n",
        " 'ttest_rel',\n",
        " 'tukeylambda',\n",
        " 'tvar',\n",
        " 'uniform',\n",
        " 'variation',\n",
        " 'vonmises',\n",
        " 'vonmises_cython',\n",
        " 'wald',\n",
        " 'weibull_max',\n",
        " 'weibull_min',\n",
        " 'wilcoxon',\n",
        " 'wrapcauchy',\n",
        " 'zipf',\n",
        " 'zmap',\n",
        " 'zprob',\n",
        " 'zscore']"
       ]
      }
     ],
     "prompt_number": 221
    },
    {
     "cell_type": "markdown",
     "metadata": {},
     "source": [
      "#### Statistical tests "
     ]
    },
    {
     "cell_type": "markdown",
     "metadata": {},
     "source": [
      "One commonly used parametric test is the *Student t-test*, which determines whether two independant samples have - statistically - different means, under the assumption that the two samples are normally distributed. The Null hypothesis is that the two samples have **identical** means."
     ]
    },
    {
     "cell_type": "code",
     "collapsed": false,
     "input": [
      "stats.ttest_ind?"
     ],
     "language": "python",
     "metadata": {},
     "outputs": [],
     "prompt_number": 222
    },
    {
     "cell_type": "code",
     "collapsed": false,
     "input": [
      "X = stats.distributions.norm(loc=5, scale=10)\n",
      "Y = stats.distributions.norm(loc=3, scale=10)\n",
      "\n",
      "Xrvs = X.rvs(size=(1000))\n",
      "Yrvs = Y.rvs(size=(1000))"
     ],
     "language": "python",
     "metadata": {},
     "outputs": [],
     "prompt_number": 223
    },
    {
     "cell_type": "code",
     "collapsed": false,
     "input": [
      "f, ax = plt.subplots(figsize=(6,5))\n",
      "ax.hist(Xrvs,histtype='stepfilled', bins=20, color='coral', alpha=.6, label=r'$\\mu = 5$')\n",
      "ax.hist(Yrvs,histtype='stepfilled', bins=20, color='steelblue', alpha=.6, label=r'$\\mu = 3$')\n",
      "ax.grid(color='b',alpha=.6)\n",
      "ax.legend();"
     ],
     "language": "python",
     "metadata": {},
     "outputs": [
      {
       "metadata": {},
       "output_type": "display_data",
       "png": "[encoded data removed]",
       "text": [
        "<matplotlib.figure.Figure at 0x10742ff90>"
       ]
      }
     ],
     "prompt_number": 224
    },
    {
     "cell_type": "code",
     "collapsed": false,
     "input": [
      "t, p = stats.ttest_ind(Xrvs, Yrvs)\n",
      "print(\"\"\"\\n===========================\n",
      "T statistics = %s ~= %4.2f\n",
      "P-value = %s ~= %8.6f\n",
      "===========================\n",
      "\"\"\" % (t, t, p, p))"
     ],
     "language": "python",
     "metadata": {},
     "outputs": [
      {
       "output_type": "stream",
       "stream": "stdout",
       "text": [
        "\n",
        "===========================\n",
        "T statistics = 4.5718835021 ~= 4.57\n",
        "P-value = 5.12942295409e-06 ~= 0.000005\n",
        "===========================\n",
        "\n"
       ]
      }
     ],
     "prompt_number": 225
    },
    {
     "cell_type": "markdown",
     "metadata": {},
     "source": [
      "#### Correlation (Pearson's R)"
     ]
    },
    {
     "cell_type": "code",
     "collapsed": false,
     "input": [
      "from scipy.stats import pearsonr"
     ],
     "language": "python",
     "metadata": {},
     "outputs": [],
     "prompt_number": 226
    },
    {
     "cell_type": "markdown",
     "metadata": {},
     "source": [
      "We're gonna apply that to Time-Series of NINO3.4 and the SOI \n",
      "\n",
      "The NINO indices come from [http://www.cpc.ncep.noaa.gov/data/indices/ersst3b.nino.mth.81-10.ascii](http://www.cpc.ncep.noaa.gov/data/indices/ersst3b.nino.mth.81-10.ascii)\n",
      "\n",
      "The SOI is in the `data` directory"
     ]
    },
    {
     "cell_type": "code",
     "collapsed": false,
     "input": [
      "import os\n",
      "from datetime import datetime\n",
      "from dateutil import parser\n",
      "import pandas as pd"
     ],
     "language": "python",
     "metadata": {},
     "outputs": [],
     "prompt_number": 227
    },
    {
     "cell_type": "code",
     "collapsed": false,
     "input": [
      "nino_url = \"http://www.cpc.ncep.noaa.gov/data/indices/ersst3b.nino.mth.81-10.ascii\""
     ],
     "language": "python",
     "metadata": {},
     "outputs": [],
     "prompt_number": 228
    },
    {
     "cell_type": "code",
     "collapsed": false,
     "input": [
      "# if not working try: \n",
      "#nino = pd.read_table('./data/ersst3b.nino.mth.81-10.ascii', sep='\\s*')\n",
      "nino = pd.read_table(nino_url, sep='\\s*')\n",
      "dates = [datetime(x[0], x[1], 1) for x in zip(nino['YR'].values, nino['MON'].values)]\n",
      "nino.index = dates"
     ],
     "language": "python",
     "metadata": {},
     "outputs": [],
     "prompt_number": 229
    },
    {
     "cell_type": "code",
     "collapsed": false,
     "input": [
      "nino.head()"
     ],
     "language": "python",
     "metadata": {},
     "outputs": [
      {
       "html": [
        "<div style=\"max-height:1000px;max-width:1500px;overflow:auto;\">\n",
        "<table border=\"1\" class=\"dataframe\">\n",
        "  <thead>\n",
        "    <tr style=\"text-align: right;\">\n",
        "      <th></th>\n",
        "      <th>YR</th>\n",
        "      <th>MON</th>\n",
        "      <th>NINO1+2</th>\n",
        "      <th>ANOM</th>\n",
        "      <th>NINO3</th>\n",
        "      <th>ANOM.1</th>\n",
        "      <th>NINO4</th>\n",
        "      <th>ANOM.2</th>\n",
        "      <th>NINO3.4</th>\n",
        "      <th>ANOM.3</th>\n",
        "    </tr>\n",
        "  </thead>\n",
        "  <tbody>\n",
        "    <tr>\n",
        "      <th>1950-01-01</th>\n",
        "      <td> 1950</td>\n",
        "      <td> 1</td>\n",
        "      <td> 23.11</td>\n",
        "      <td>-1.57</td>\n",
        "      <td> 23.74</td>\n",
        "      <td>-2.03</td>\n",
        "      <td> 27.03</td>\n",
        "      <td>-1.29</td>\n",
        "      <td> 24.83</td>\n",
        "      <td>-1.84</td>\n",
        "    </tr>\n",
        "    <tr>\n",
        "      <th>1950-02-01</th>\n",
        "      <td> 1950</td>\n",
        "      <td> 2</td>\n",
        "      <td> 24.20</td>\n",
        "      <td>-1.91</td>\n",
        "      <td> 24.92</td>\n",
        "      <td>-1.57</td>\n",
        "      <td> 27.15</td>\n",
        "      <td>-1.02</td>\n",
        "      <td> 25.20</td>\n",
        "      <td>-1.63</td>\n",
        "    </tr>\n",
        "    <tr>\n",
        "      <th>1950-03-01</th>\n",
        "      <td> 1950</td>\n",
        "      <td> 3</td>\n",
        "      <td> 25.37</td>\n",
        "      <td>-1.13</td>\n",
        "      <td> 26.33</td>\n",
        "      <td>-0.91</td>\n",
        "      <td> 27.06</td>\n",
        "      <td>-1.23</td>\n",
        "      <td> 26.03</td>\n",
        "      <td>-1.30</td>\n",
        "    </tr>\n",
        "    <tr>\n",
        "      <th>1950-04-01</th>\n",
        "      <td> 1950</td>\n",
        "      <td> 4</td>\n",
        "      <td> 23.86</td>\n",
        "      <td>-1.75</td>\n",
        "      <td> 26.46</td>\n",
        "      <td>-1.10</td>\n",
        "      <td> 27.29</td>\n",
        "      <td>-1.26</td>\n",
        "      <td> 26.36</td>\n",
        "      <td>-1.43</td>\n",
        "    </tr>\n",
        "    <tr>\n",
        "      <th>1950-05-01</th>\n",
        "      <td> 1950</td>\n",
        "      <td> 5</td>\n",
        "      <td> 23.03</td>\n",
        "      <td>-1.39</td>\n",
        "      <td> 25.72</td>\n",
        "      <td>-1.52</td>\n",
        "      <td> 27.59</td>\n",
        "      <td>-1.25</td>\n",
        "      <td> 26.19</td>\n",
        "      <td>-1.72</td>\n",
        "    </tr>\n",
        "  </tbody>\n",
        "</table>\n",
        "<p>5 rows \u00d7 10 columns</p>\n",
        "</div>"
       ],
       "metadata": {},
       "output_type": "pyout",
       "prompt_number": 230,
       "text": [
        "              YR  MON  NINO1+2  ANOM  NINO3  ANOM.1  NINO4  ANOM.2  NINO3.4  \\\n",
        "1950-01-01  1950    1    23.11 -1.57  23.74   -2.03  27.03   -1.29    24.83   \n",
        "1950-02-01  1950    2    24.20 -1.91  24.92   -1.57  27.15   -1.02    25.20   \n",
        "1950-03-01  1950    3    25.37 -1.13  26.33   -0.91  27.06   -1.23    26.03   \n",
        "1950-04-01  1950    4    23.86 -1.75  26.46   -1.10  27.29   -1.26    26.36   \n",
        "1950-05-01  1950    5    23.03 -1.39  25.72   -1.52  27.59   -1.25    26.19   \n",
        "\n",
        "            ANOM.3  \n",
        "1950-01-01   -1.84  \n",
        "1950-02-01   -1.63  \n",
        "1950-03-01   -1.30  \n",
        "1950-04-01   -1.43  \n",
        "1950-05-01   -1.72  \n",
        "\n",
        "[5 rows x 10 columns]"
       ]
      }
     ],
     "prompt_number": 230
    },
    {
     "cell_type": "code",
     "collapsed": false,
     "input": [
      "soipath = './data'\n",
      "def get_SOI(soipath, start_date='1950-01-01'):\n",
      "    soi = pd.read_csv(os.path.join(soipath,'NIWA_SOI.csv'), index_col=0)\n",
      "    soi = soi.stack()\n",
      "    soi = soi.dropna()\n",
      "    dates = [parser.parse(\"%s-%s-%s\" % (str(int(x[0])), x[1], \"1\")) for x in soi.index]\n",
      "    soidf = pd.DataFrame(soi.values, index=dates, columns=['SOI'])\n",
      "    soidf = soidf.truncate(before=start_date)\n",
      "    return soidf"
     ],
     "language": "python",
     "metadata": {},
     "outputs": [],
     "prompt_number": 231
    },
    {
     "cell_type": "code",
     "collapsed": false,
     "input": [
      "soi = get_SOI(soipath)"
     ],
     "language": "python",
     "metadata": {},
     "outputs": [],
     "prompt_number": 232
    },
    {
     "cell_type": "code",
     "collapsed": false,
     "input": [
      "soi.head()"
     ],
     "language": "python",
     "metadata": {},
     "outputs": [
      {
       "html": [
        "<div style=\"max-height:1000px;max-width:1500px;overflow:auto;\">\n",
        "<table border=\"1\" class=\"dataframe\">\n",
        "  <thead>\n",
        "    <tr style=\"text-align: right;\">\n",
        "      <th></th>\n",
        "      <th>SOI</th>\n",
        "    </tr>\n",
        "  </thead>\n",
        "  <tbody>\n",
        "    <tr>\n",
        "      <th>1950-01-01</th>\n",
        "      <td> 0.570492</td>\n",
        "    </tr>\n",
        "    <tr>\n",
        "      <th>1950-02-01</th>\n",
        "      <td> 1.642897</td>\n",
        "    </tr>\n",
        "    <tr>\n",
        "      <th>1950-03-01</th>\n",
        "      <td> 1.745849</td>\n",
        "    </tr>\n",
        "    <tr>\n",
        "      <th>1950-04-01</th>\n",
        "      <td> 1.895316</td>\n",
        "    </tr>\n",
        "    <tr>\n",
        "      <th>1950-05-01</th>\n",
        "      <td> 0.748673</td>\n",
        "    </tr>\n",
        "  </tbody>\n",
        "</table>\n",
        "<p>5 rows \u00d7 1 columns</p>\n",
        "</div>"
       ],
       "metadata": {},
       "output_type": "pyout",
       "prompt_number": 233,
       "text": [
        "                 SOI\n",
        "1950-01-01  0.570492\n",
        "1950-02-01  1.642897\n",
        "1950-03-01  1.745849\n",
        "1950-04-01  1.895316\n",
        "1950-05-01  0.748673\n",
        "\n",
        "[5 rows x 1 columns]"
       ]
      }
     ],
     "prompt_number": 233
    },
    {
     "cell_type": "code",
     "collapsed": false,
     "input": [
      "r, p = pearsonr(soi['SOI'], nino['ANOM.3'])\n",
      "\n",
      "print(\"R = {0:<4.2f}, p-value = {1:<4.2f}\".format(r,p))"
     ],
     "language": "python",
     "metadata": {},
     "outputs": [
      {
       "ename": "ValueError",
       "evalue": "operands could not be broadcast together with shapes (768) (771) ",
       "output_type": "pyerr",
       "traceback": [
        "\u001b[0;31m---------------------------------------------------------------------------\u001b[0m\n\u001b[0;31mValueError\u001b[0m                                Traceback (most recent call last)",
        "\u001b[0;32m<ipython-input-234-113fb9f7cc5b>\u001b[0m in \u001b[0;36m<module>\u001b[0;34m()\u001b[0m\n\u001b[0;32m----> 1\u001b[0;31m \u001b[0mr\u001b[0m\u001b[0;34m,\u001b[0m \u001b[0mp\u001b[0m \u001b[0;34m=\u001b[0m \u001b[0mpearsonr\u001b[0m\u001b[0;34m(\u001b[0m\u001b[0msoi\u001b[0m\u001b[0;34m[\u001b[0m\u001b[0;34m'SOI'\u001b[0m\u001b[0;34m]\u001b[0m\u001b[0;34m,\u001b[0m \u001b[0mnino\u001b[0m\u001b[0;34m[\u001b[0m\u001b[0;34m'ANOM.3'\u001b[0m\u001b[0;34m]\u001b[0m\u001b[0;34m)\u001b[0m\u001b[0;34m\u001b[0m\u001b[0m\n\u001b[0m\u001b[1;32m      2\u001b[0m \u001b[0;34m\u001b[0m\u001b[0m\n\u001b[1;32m      3\u001b[0m \u001b[0;32mprint\u001b[0m\u001b[0;34m(\u001b[0m\u001b[0;34m\"R = {0:<4.2f}, p-value = {1:<4.2f}\"\u001b[0m\u001b[0;34m.\u001b[0m\u001b[0mformat\u001b[0m\u001b[0;34m(\u001b[0m\u001b[0mr\u001b[0m\u001b[0;34m,\u001b[0m\u001b[0mp\u001b[0m\u001b[0;34m)\u001b[0m\u001b[0;34m)\u001b[0m\u001b[0;34m\u001b[0m\u001b[0m\n",
        "\u001b[0;32m/Users/nicolasfauchereau/anaconda/lib/python2.7/site-packages/scipy/stats/stats.pyc\u001b[0m in \u001b[0;36mpearsonr\u001b[0;34m(x, y)\u001b[0m\n\u001b[1;32m   2510\u001b[0m     \u001b[0mmy\u001b[0m \u001b[0;34m=\u001b[0m \u001b[0my\u001b[0m\u001b[0;34m.\u001b[0m\u001b[0mmean\u001b[0m\u001b[0;34m(\u001b[0m\u001b[0;34m)\u001b[0m\u001b[0;34m\u001b[0m\u001b[0m\n\u001b[1;32m   2511\u001b[0m     \u001b[0mxm\u001b[0m\u001b[0;34m,\u001b[0m \u001b[0mym\u001b[0m \u001b[0;34m=\u001b[0m \u001b[0mx\u001b[0m\u001b[0;34m-\u001b[0m\u001b[0mmx\u001b[0m\u001b[0;34m,\u001b[0m \u001b[0my\u001b[0m\u001b[0;34m-\u001b[0m\u001b[0mmy\u001b[0m\u001b[0;34m\u001b[0m\u001b[0m\n\u001b[0;32m-> 2512\u001b[0;31m     \u001b[0mr_num\u001b[0m \u001b[0;34m=\u001b[0m \u001b[0mnp\u001b[0m\u001b[0;34m.\u001b[0m\u001b[0madd\u001b[0m\u001b[0;34m.\u001b[0m\u001b[0mreduce\u001b[0m\u001b[0;34m(\u001b[0m\u001b[0mxm\u001b[0m \u001b[0;34m*\u001b[0m \u001b[0mym\u001b[0m\u001b[0;34m)\u001b[0m\u001b[0;34m\u001b[0m\u001b[0m\n\u001b[0m\u001b[1;32m   2513\u001b[0m     \u001b[0mr_den\u001b[0m \u001b[0;34m=\u001b[0m \u001b[0mnp\u001b[0m\u001b[0;34m.\u001b[0m\u001b[0msqrt\u001b[0m\u001b[0;34m(\u001b[0m\u001b[0mss\u001b[0m\u001b[0;34m(\u001b[0m\u001b[0mxm\u001b[0m\u001b[0;34m)\u001b[0m \u001b[0;34m*\u001b[0m \u001b[0mss\u001b[0m\u001b[0;34m(\u001b[0m\u001b[0mym\u001b[0m\u001b[0;34m)\u001b[0m\u001b[0;34m)\u001b[0m\u001b[0;34m\u001b[0m\u001b[0m\n\u001b[1;32m   2514\u001b[0m     \u001b[0mr\u001b[0m \u001b[0;34m=\u001b[0m \u001b[0mr_num\u001b[0m \u001b[0;34m/\u001b[0m \u001b[0mr_den\u001b[0m\u001b[0;34m\u001b[0m\u001b[0m\n",
        "\u001b[0;31mValueError\u001b[0m: operands could not be broadcast together with shapes (768) (771) "
       ]
      }
     ],
     "prompt_number": 234
    },
    {
     "cell_type": "code",
     "collapsed": false,
     "input": [
      "#df = pd.DataFrame({'SOI':soi['SOI'],'nino':nino['ANOM.3']}, index=nino.index)"
     ],
     "language": "python",
     "metadata": {},
     "outputs": []
    },
    {
     "cell_type": "code",
     "collapsed": false,
     "input": [
      "#df.to_csv('./data/soi_nino.csv')"
     ],
     "language": "python",
     "metadata": {},
     "outputs": []
    },
    {
     "cell_type": "markdown",
     "metadata": {},
     "source": [
      "## scipy.interpolate"
     ]
    },
    {
     "cell_type": "markdown",
     "metadata": {},
     "source": [
      "There are several interfaces for performing 1D, 2D or N Dimensional interpolation using scipy.\n",
      "\n",
      "For more on that I refer you to \n",
      "\n",
      "+ [http://docs.scipy.org/doc/scipy/reference/interpolate.html](http://docs.scipy.org/doc/scipy/reference/interpolate.html)\n",
      "+ [http://wiki.scipy.org/Cookbook/Interpolation](http://wiki.scipy.org/Cookbook/Interpolation)\n",
      "\n",
      "Here we're going to see one simple example in 1D and 2D using [Radial Basis Functions](http://en.wikipedia.org/wiki/Radial_basis_function) using the default (Multiquadric)"
     ]
    },
    {
     "cell_type": "markdown",
     "metadata": {},
     "source": [
      "#### 1D interpolation"
     ]
    },
    {
     "cell_type": "code",
     "collapsed": false,
     "input": [
      "from scipy.interpolate import interp1d"
     ],
     "language": "python",
     "metadata": {},
     "outputs": [],
     "prompt_number": 235
    },
    {
     "cell_type": "code",
     "collapsed": false,
     "input": [
      "x = np.linspace(0, 10, 10)\n",
      "y = np.sin(x)"
     ],
     "language": "python",
     "metadata": {},
     "outputs": [],
     "prompt_number": 236
    },
    {
     "cell_type": "code",
     "collapsed": false,
     "input": [
      "plt.plot(x,y,'ro')"
     ],
     "language": "python",
     "metadata": {},
     "outputs": [
      {
       "metadata": {},
       "output_type": "pyout",
       "prompt_number": 237,
       "text": [
        "[<matplotlib.lines.Line2D at 0x10c85b6d0>]"
       ]
      },
      {
       "metadata": {},
       "output_type": "display_data",
       "png": "[encoded data removed]",
       "text": [
        "<matplotlib.figure.Figure at 0x10c776950>"
       ]
      }
     ],
     "prompt_number": 237
    },
    {
     "cell_type": "code",
     "collapsed": false,
     "input": [
      "f1 = interp1d(x, y) # default is linear"
     ],
     "language": "python",
     "metadata": {},
     "outputs": [],
     "prompt_number": 238
    },
    {
     "cell_type": "code",
     "collapsed": false,
     "input": [
      "f2 = interp1d(x, y, kind='cubic') # and we're gonna try cubic interpolation for comparison"
     ],
     "language": "python",
     "metadata": {},
     "outputs": [],
     "prompt_number": 239
    },
    {
     "cell_type": "code",
     "collapsed": false,
     "input": [
      "xnew = np.linspace(0, 10, 50)"
     ],
     "language": "python",
     "metadata": {},
     "outputs": [],
     "prompt_number": 240
    },
    {
     "cell_type": "code",
     "collapsed": false,
     "input": [
      "ylin = f1(xnew)\n",
      "ycub = f2(xnew)"
     ],
     "language": "python",
     "metadata": {},
     "outputs": [],
     "prompt_number": 241
    },
    {
     "cell_type": "code",
     "collapsed": false,
     "input": [
      "f, ax = plt.subplots(figsize=(12,8))\n",
      "ax.plot(xnew, ylin, 'b.', ms=8, label='linear')\n",
      "ax.plot(xnew, ycub, 'gx-', ms=10, label='cubic')\n",
      "ax.plot(x,y,'ro-', label='data')\n",
      "ax.legend(loc='lower left')"
     ],
     "language": "python",
     "metadata": {},
     "outputs": [
      {
       "metadata": {},
       "output_type": "pyout",
       "prompt_number": 242,
       "text": [
        "<matplotlib.legend.Legend at 0x10c837250>"
       ]
      },
      {
       "metadata": {},
       "output_type": "display_data",
       "png": "[encoded data removed]",
       "text": [
        "<matplotlib.figure.Figure at 0x10c84ba90>"
       ]
      }
     ],
     "prompt_number": 242
    },
    {
     "cell_type": "markdown",
     "metadata": {},
     "source": [
      "### 2D interpolation using Radial Basis Functions"
     ]
    },
    {
     "cell_type": "code",
     "collapsed": false,
     "input": [
      "from scipy.interpolate import Rbf"
     ],
     "language": "python",
     "metadata": {},
     "outputs": [],
     "prompt_number": 243
    },
    {
     "cell_type": "code",
     "collapsed": false,
     "input": [
      "# defines a function of X and Y\n",
      "def func(x,y):\n",
      "    return x*np.exp(-x**2-y**2)"
     ],
     "language": "python",
     "metadata": {},
     "outputs": [],
     "prompt_number": 244
    },
    {
     "cell_type": "code",
     "collapsed": false,
     "input": [
      "np.random.seed(1) # we 'fix' the generation of random numbers so that we've got consistent results\n",
      "\n",
      "x = np.random.uniform(-2., 2., 100)\n",
      "y = np.random.uniform(-2., 2., 100)\n",
      "\n",
      "z = func(x,y)\n",
      "\n",
      "ti = np.linspace(-2.0, 2.0, 100)\n",
      "\n",
      "XI, YI = np.meshgrid(ti, ti) # meshgrid creates uniform 2D grids from 1D vectors\n",
      "\n",
      "# use RBF\n",
      "rbf = Rbf(x, y, z, epsilon=2) # instantiates the interpolator\n",
      "# you might want to play with the epsilon optional parameter \n",
      "\n",
      "ZI = rbf(XI, YI) # interpolate on grid"
     ],
     "language": "python",
     "metadata": {},
     "outputs": [],
     "prompt_number": 245
    },
    {
     "cell_type": "code",
     "collapsed": false,
     "input": [
      "# this is the 'True' field, the result of the function evaluated on a regular grid\n",
      "true_Z = func(XI, YI)"
     ],
     "language": "python",
     "metadata": {},
     "outputs": [],
     "prompt_number": 246
    },
    {
     "cell_type": "code",
     "collapsed": false,
     "input": [
      "# plot the result\n",
      "f, ax = plt.subplots(figsize=(8,6))\n",
      "im = ax.pcolor(XI, YI, ZI, cmap=plt.get_cmap('RdBu_r'))\n",
      "ax.scatter(x, y, 50, z, cmap=plt.get_cmap('RdBu_r'), edgecolor='.5')\n",
      "ax.set_title('RBF interpolation - multiquadrics')\n",
      "ax.set_xlim(-2, 2)\n",
      "ax.set_ylim(-2, 2)\n",
      "plt.colorbar(im, orientation='vertical', pad=0.06); "
     ],
     "language": "python",
     "metadata": {},
     "outputs": [
      {
       "metadata": {},
       "output_type": "display_data",
       "png": "[encoded data removed]",
       "text": [
        "<matplotlib.figure.Figure at 0x10c80e3d0>"
       ]
      }
     ],
     "prompt_number": 247
    },
    {
     "cell_type": "code",
     "collapsed": false,
     "input": [
      "# plot the difference between the 'true' field and the interpolated \n",
      "f, ax = plt.subplots(figsize=(8,6))\n",
      "im = ax.pcolor(XI, YI, ZI - true_Z, cmap=plt.get_cmap('RdBu_r'), vmin=-1e-3, vmax=1e-3)\n",
      "ax.set_xlim(-2, 2)\n",
      "ax.set_ylim(-2, 2)\n",
      "plt.colorbar(im, orientation='vertical', pad=0.06); "
     ],
     "language": "python",
     "metadata": {},
     "outputs": [
      {
       "metadata": {},
       "output_type": "display_data",
       "png": "[encoded data removed]",
       "text": [
        "<matplotlib.figure.Figure at 0x10c862610>"
       ]
      }
     ],
     "prompt_number": 248
    },
    {
     "cell_type": "markdown",
     "metadata": {},
     "source": [
      "## Curve fitting with scipy.optimize\n",
      "\n",
      "In this case you want to fit noisy, e.g. experimental, data to **a specific function**, with *unknown parameters*"
     ]
    },
    {
     "cell_type": "code",
     "collapsed": false,
     "input": [
      "from scipy.optimize import curve_fit"
     ],
     "language": "python",
     "metadata": {},
     "outputs": [],
     "prompt_number": 249
    },
    {
     "cell_type": "markdown",
     "metadata": {},
     "source": [
      "The algorithm uses the [Levenberg-Marquardt](http://en.wikipedia.org/wiki/Levenberg%E2%80%93Marquardt_algorithm) algorithm to perform non-linear least-square optimization"
     ]
    },
    {
     "cell_type": "code",
     "collapsed": false,
     "input": [
      "def fitFunc(t, a, b, c):\n",
      "    \"\"\" \n",
      "    defines the function\n",
      "    takes 3 parameters: a, b and c\n",
      "    \"\"\"\n",
      "    return a*np.exp(-b*t) + c"
     ],
     "language": "python",
     "metadata": {},
     "outputs": [],
     "prompt_number": 250
    },
    {
     "cell_type": "code",
     "collapsed": false,
     "input": [
      "curve_fit?"
     ],
     "language": "python",
     "metadata": {},
     "outputs": [],
     "prompt_number": 251
    },
    {
     "cell_type": "code",
     "collapsed": false,
     "input": [
      "### defines the evaluation domain\n",
      "t = np.linspace(0,4,50)\n",
      "\n",
      "### defines the paramaters \n",
      "a = 5.0\n",
      "b = 1.5\n",
      "c = 0.5\n",
      "\n",
      "### create the response\n",
      "temp = fitFunc(t, a, b, c)\n",
      "\n",
      "### add some noise to simulate \"real world observations\" such as experimental data\n",
      "noisy = temp + 0.4 * np.random.normal(size=len(temp)) \n",
      "\n",
      "### use curve_fit to estimate the parameters and the covariance matrices\n",
      "fitParams, fitCovariances = curve_fit(fitFunc, t, noisy)\n",
      "\n",
      "afit, bfit, cfit = tuple(fitParams)\n",
      "\n",
      "print(\"\\nEstimated parameters\\na: {0:<4.2f}, b: {1:<4.2f}, c: {2:<4.2f}\\n\\n\".format(afit, bfit, cfit))"
     ],
     "language": "python",
     "metadata": {},
     "outputs": [
      {
       "output_type": "stream",
       "stream": "stdout",
       "text": [
        "\n",
        "Estimated parameters\n",
        "a: 5.03, b: 1.64, c: 0.64\n",
        "\n",
        "\n"
       ]
      }
     ],
     "prompt_number": 252
    },
    {
     "cell_type": "code",
     "collapsed": false,
     "input": [
      "f, ax = plt.subplots(figsize=(8,8))\n",
      "ax.set_ylabel(u'Temperature (\\xb0C)', fontsize = 16)\n",
      "ax.set_xlabel('time (s)', fontsize = 16)\n",
      "ax.set_xlim(0,4.1)\n",
      "# plot the data as red circles with vertical errorbars\n",
      "ax.errorbar(t, noisy, fmt = 'ro', yerr = 0.2)\n",
      "# now plot the best fit curve \n",
      "\n",
      "ax.plot(t, fitFunc(t, afit, bfit, cfit),'k-', lw=2)\n",
      "\n",
      "# and plot the +- 1 sigma curves\n",
      "# (the square root of the diagonal covariance matrix  \n",
      "# element is the uncertainty on the fit parameter.)\n",
      "\n",
      "sigma_a, sigma_b, sigma_c = np.sqrt(fitCovariances[0,0]), \\\n",
      "np.sqrt(fitCovariances[1,1]), \\\n",
      "np.sqrt(fitCovariances[2,2])\n",
      "\n",
      "ax.plot(t, fitFunc(t, afit + sigma_a, bfit - sigma_b, cfit + sigma_c), 'b-')\n",
      "ax.plot(t, fitFunc(t, afit - sigma_a, bfit + sigma_b, cfit - sigma_c), 'b-');"
     ],
     "language": "python",
     "metadata": {},
     "outputs": [
      {
       "metadata": {},
       "output_type": "display_data",
       "png": "[encoded data removed]",
       "text": [
        "<matplotlib.figure.Figure at 0x11123f110>"
       ]
      }
     ],
     "prompt_number": 253
    },
    {
     "cell_type": "markdown",
     "metadata": {},
     "source": [
      "## Getting data in and out of Python"
     ]
    },
    {
     "cell_type": "markdown",
     "metadata": {},
     "source": [
      "Python itself has a very good support for IO and dealing with ascii files \n",
      "\n",
      "    f = open('filename','r') \n",
      "    out = f.readlines() \n",
      "    f.close() \n",
      "    "
     ]
    },
    {
     "cell_type": "code",
     "collapsed": false,
     "input": [
      "f = open('./data/ascii_table.txt', 'r')"
     ],
     "language": "python",
     "metadata": {},
     "outputs": [],
     "prompt_number": 254
    },
    {
     "cell_type": "code",
     "collapsed": false,
     "input": [
      "out = f.readlines()"
     ],
     "language": "python",
     "metadata": {},
     "outputs": [],
     "prompt_number": 255
    },
    {
     "cell_type": "code",
     "collapsed": false,
     "input": [
      "f.close()"
     ],
     "language": "python",
     "metadata": {},
     "outputs": [],
     "prompt_number": 256
    },
    {
     "cell_type": "code",
     "collapsed": false,
     "input": [
      "out"
     ],
     "language": "python",
     "metadata": {},
     "outputs": [
      {
       "metadata": {},
       "output_type": "pyout",
       "prompt_number": 257,
       "text": [
        "['   0    1    2    3    4    5    6    7    8    9\\n',\n",
        " '  10   11   12   13   14   15   16   17   18   19\\n',\n",
        " '  20   21   22   23   24   25   26   27   28   29\\n',\n",
        " '  30   31   32   33   34   35   36   37   38   39\\n',\n",
        " '  40   41   42   43   44   45   46   47   48   49\\n',\n",
        " '  50   51   52   53   54   55   56   57   58   59\\n',\n",
        " '  60   61   62   63   64   65   66   67   68   69\\n',\n",
        " '  70   71   72   73   74   75   76   77   78   79\\n',\n",
        " '  80   81   82   83   84   85   86   87   88   89\\n',\n",
        " '  90   91   92   93   94   95   96   97   98   99\\n']"
       ]
      }
     ],
     "prompt_number": 257
    },
    {
     "cell_type": "code",
     "collapsed": false,
     "input": [
      "out = [map(np.int, x.split()) for x in out]"
     ],
     "language": "python",
     "metadata": {},
     "outputs": [],
     "prompt_number": 258
    },
    {
     "cell_type": "code",
     "collapsed": false,
     "input": [
      "map("
     ],
     "language": "python",
     "metadata": {},
     "outputs": []
    },
    {
     "cell_type": "code",
     "collapsed": false,
     "input": [
      "out"
     ],
     "language": "python",
     "metadata": {},
     "outputs": [
      {
       "metadata": {},
       "output_type": "pyout",
       "prompt_number": 260,
       "text": [
        "[[0, 1, 2, 3, 4, 5, 6, 7, 8, 9],\n",
        " [10, 11, 12, 13, 14, 15, 16, 17, 18, 19],\n",
        " [20, 21, 22, 23, 24, 25, 26, 27, 28, 29],\n",
        " [30, 31, 32, 33, 34, 35, 36, 37, 38, 39],\n",
        " [40, 41, 42, 43, 44, 45, 46, 47, 48, 49],\n",
        " [50, 51, 52, 53, 54, 55, 56, 57, 58, 59],\n",
        " [60, 61, 62, 63, 64, 65, 66, 67, 68, 69],\n",
        " [70, 71, 72, 73, 74, 75, 76, 77, 78, 79],\n",
        " [80, 81, 82, 83, 84, 85, 86, 87, 88, 89],\n",
        " [90, 91, 92, 93, 94, 95, 96, 97, 98, 99]]"
       ]
      }
     ],
     "prompt_number": 260
    },
    {
     "cell_type": "code",
     "collapsed": false,
     "input": [
      "out = np.array(out)"
     ],
     "language": "python",
     "metadata": {},
     "outputs": [],
     "prompt_number": 261
    },
    {
     "cell_type": "code",
     "collapsed": false,
     "input": [
      "print(out)"
     ],
     "language": "python",
     "metadata": {},
     "outputs": [
      {
       "output_type": "stream",
       "stream": "stdout",
       "text": [
        "[[ 0  1  2  3  4  5  6  7  8  9]\n",
        " [10 11 12 13 14 15 16 17 18 19]\n",
        " [20 21 22 23 24 25 26 27 28 29]\n",
        " [30 31 32 33 34 35 36 37 38 39]\n",
        " [40 41 42 43 44 45 46 47 48 49]\n",
        " [50 51 52 53 54 55 56 57 58 59]\n",
        " [60 61 62 63 64 65 66 67 68 69]\n",
        " [70 71 72 73 74 75 76 77 78 79]\n",
        " [80 81 82 83 84 85 86 87 88 89]\n",
        " [90 91 92 93 94 95 96 97 98 99]]\n"
       ]
      }
     ],
     "prompt_number": 262
    },
    {
     "cell_type": "code",
     "collapsed": false,
     "input": [
      "out.shape"
     ],
     "language": "python",
     "metadata": {},
     "outputs": [
      {
       "metadata": {},
       "output_type": "pyout",
       "prompt_number": 263,
       "text": [
        "(10, 10)"
       ]
      }
     ],
     "prompt_number": 263
    },
    {
     "cell_type": "markdown",
     "metadata": {},
     "source": [
      "### text (tab or space delimited) ASCII in Numpy "
     ]
    },
    {
     "cell_type": "code",
     "collapsed": false,
     "input": [
      "np.genfromtxt("
     ],
     "language": "python",
     "metadata": {},
     "outputs": [
      {
       "ename": "SyntaxError",
       "evalue": "unexpected EOF while parsing (<ipython-input-264-22645fd25a39>, line 1)",
       "output_type": "pyerr",
       "traceback": [
        "\u001b[0;36m  File \u001b[0;32m\"<ipython-input-264-22645fd25a39>\"\u001b[0;36m, line \u001b[0;32m1\u001b[0m\n\u001b[0;31m    np.genfromtxt(\u001b[0m\n\u001b[0m                  ^\u001b[0m\n\u001b[0;31mSyntaxError\u001b[0m\u001b[0;31m:\u001b[0m unexpected EOF while parsing\n"
       ]
      }
     ],
     "prompt_number": 264
    },
    {
     "cell_type": "code",
     "collapsed": false,
     "input": [
      "a = np.genfromtxt('./data/ascii_table.txt', dtype=int) # can handle missing values "
     ],
     "language": "python",
     "metadata": {},
     "outputs": [],
     "prompt_number": 265
    },
    {
     "cell_type": "code",
     "collapsed": false,
     "input": [
      "np.genfromtxt("
     ],
     "language": "python",
     "metadata": {},
     "outputs": []
    },
    {
     "cell_type": "code",
     "collapsed": false,
     "input": [
      "a"
     ],
     "language": "python",
     "metadata": {},
     "outputs": [
      {
       "metadata": {},
       "output_type": "pyout",
       "prompt_number": 267,
       "text": [
        "array([[ 0,  1,  2,  3,  4,  5,  6,  7,  8,  9],\n",
        "       [10, 11, 12, 13, 14, 15, 16, 17, 18, 19],\n",
        "       [20, 21, 22, 23, 24, 25, 26, 27, 28, 29],\n",
        "       [30, 31, 32, 33, 34, 35, 36, 37, 38, 39],\n",
        "       [40, 41, 42, 43, 44, 45, 46, 47, 48, 49],\n",
        "       [50, 51, 52, 53, 54, 55, 56, 57, 58, 59],\n",
        "       [60, 61, 62, 63, 64, 65, 66, 67, 68, 69],\n",
        "       [70, 71, 72, 73, 74, 75, 76, 77, 78, 79],\n",
        "       [80, 81, 82, 83, 84, 85, 86, 87, 88, 89],\n",
        "       [90, 91, 92, 93, 94, 95, 96, 97, 98, 99]])"
       ]
      }
     ],
     "prompt_number": 267
    },
    {
     "cell_type": "code",
     "collapsed": false,
     "input": [
      "#np.loadtxt() ### each row must have the same number of values"
     ],
     "language": "python",
     "metadata": {},
     "outputs": [],
     "prompt_number": 268
    },
    {
     "cell_type": "code",
     "collapsed": false,
     "input": [
      "a = np.loadtxt('./data/ascii_table.txt', dtype=np.int)"
     ],
     "language": "python",
     "metadata": {},
     "outputs": [],
     "prompt_number": 269
    },
    {
     "cell_type": "code",
     "collapsed": false,
     "input": [
      "a"
     ],
     "language": "python",
     "metadata": {},
     "outputs": [
      {
       "metadata": {},
       "output_type": "pyout",
       "prompt_number": 270,
       "text": [
        "array([[ 0,  1,  2,  3,  4,  5,  6,  7,  8,  9],\n",
        "       [10, 11, 12, 13, 14, 15, 16, 17, 18, 19],\n",
        "       [20, 21, 22, 23, 24, 25, 26, 27, 28, 29],\n",
        "       [30, 31, 32, 33, 34, 35, 36, 37, 38, 39],\n",
        "       [40, 41, 42, 43, 44, 45, 46, 47, 48, 49],\n",
        "       [50, 51, 52, 53, 54, 55, 56, 57, 58, 59],\n",
        "       [60, 61, 62, 63, 64, 65, 66, 67, 68, 69],\n",
        "       [70, 71, 72, 73, 74, 75, 76, 77, 78, 79],\n",
        "       [80, 81, 82, 83, 84, 85, 86, 87, 88, 89],\n",
        "       [90, 91, 92, 93, 94, 95, 96, 97, 98, 99]])"
       ]
      }
     ],
     "prompt_number": 270
    },
    {
     "cell_type": "markdown",
     "metadata": {},
     "source": [
      "**NOTE**: For reading all csv, tabular format files including xls, xlsx, etc. the most convenient way is to use the special IO functions of [Pandas](http://pandas.pydata.org), which we have seen for the SOI / NINO example, and will see in more details in the pandas notebook. All these functions will load these formats directly into Pandas DataFrames, which are a very convenient data structure for interacting with spreadsheet-like data."
     ]
    },
    {
     "cell_type": "markdown",
     "metadata": {},
     "source": [
      "### NetCDF "
     ]
    },
    {
     "cell_type": "markdown",
     "metadata": {},
     "source": [
      "NetCDF stands for [Network Common Data form](http://www.unidata.ucar.edu/software/netcdf/), it is used largely in the atmosphere and ocean sciences to store mostly gridded datasets."
     ]
    },
    {
     "cell_type": "markdown",
     "metadata": {},
     "source": [
      "There is one set of functions that comes with Scipy which is available from the IO module, with which you can read and create NetCDF files easily."
     ]
    },
    {
     "cell_type": "code",
     "collapsed": false,
     "input": [
      "from scipy.io.netcdf import NetCDFFile"
     ],
     "language": "python",
     "metadata": {},
     "outputs": [],
     "prompt_number": 271
    },
    {
     "cell_type": "markdown",
     "metadata": {},
     "source": [
      "Here we are reading SSTs (for the Southern Hemisphere) from the Hadley SST (available [here]())"
     ]
    },
    {
     "cell_type": "code",
     "collapsed": false,
     "input": [
      "nc = NetCDFFile('data/Hadley_SST.nc', 'r')"
     ],
     "language": "python",
     "metadata": {},
     "outputs": [],
     "prompt_number": 272
    },
    {
     "cell_type": "code",
     "collapsed": false,
     "input": [
      "nc.variables.keys()"
     ],
     "language": "python",
     "metadata": {},
     "outputs": [
      {
       "metadata": {},
       "output_type": "pyout",
       "prompt_number": 273,
       "text": [
        "['lat', 'time_bnds', 'lon', 'sst', 'time']"
       ]
      }
     ],
     "prompt_number": 273
    },
    {
     "cell_type": "code",
     "collapsed": false,
     "input": [
      "lat = nc.variables['lat'][:]\n",
      "lon = nc.variables['lon'][:]"
     ],
     "language": "python",
     "metadata": {},
     "outputs": [],
     "prompt_number": 274
    },
    {
     "cell_type": "code",
     "collapsed": false,
     "input": [
      "lat"
     ],
     "language": "python",
     "metadata": {},
     "outputs": [
      {
       "metadata": {},
       "output_type": "pyout",
       "prompt_number": 275,
       "text": [
        "array([  9.5,   8.5,   7.5,   6.5,   5.5,   4.5,   3.5,   2.5,   1.5,\n",
        "         0.5,  -0.5,  -1.5,  -2.5,  -3.5,  -4.5,  -5.5,  -6.5,  -7.5,\n",
        "        -8.5,  -9.5, -10.5, -11.5, -12.5, -13.5, -14.5, -15.5, -16.5,\n",
        "       -17.5, -18.5, -19.5, -20.5, -21.5, -22.5, -23.5, -24.5, -25.5,\n",
        "       -26.5, -27.5, -28.5, -29.5, -30.5, -31.5, -32.5, -33.5, -34.5,\n",
        "       -35.5, -36.5, -37.5, -38.5, -39.5, -40.5, -41.5, -42.5, -43.5,\n",
        "       -44.5, -45.5, -46.5, -47.5, -48.5, -49.5, -50.5, -51.5, -52.5,\n",
        "       -53.5, -54.5, -55.5, -56.5, -57.5, -58.5, -59.5, -60.5, -61.5,\n",
        "       -62.5, -63.5, -64.5, -65.5, -66.5, -67.5, -68.5, -69.5, -70.5,\n",
        "       -71.5, -72.5, -73.5, -74.5, -75.5, -76.5, -77.5, -78.5, -79.5,\n",
        "       -80.5, -81.5, -82.5, -83.5, -84.5, -85.5, -86.5, -87.5, -88.5, -89.5], dtype=float32)"
       ]
      }
     ],
     "prompt_number": 275
    },
    {
     "cell_type": "code",
     "collapsed": false,
     "input": [
      "sst = nc.variables['sst'][:]"
     ],
     "language": "python",
     "metadata": {},
     "outputs": [],
     "prompt_number": 276
    },
    {
     "cell_type": "code",
     "collapsed": false,
     "input": [
      "mval = nc.variables['sst'].missing_value"
     ],
     "language": "python",
     "metadata": {},
     "outputs": [],
     "prompt_number": 277
    },
    {
     "cell_type": "code",
     "collapsed": false,
     "input": [
      "mval"
     ],
     "language": "python",
     "metadata": {},
     "outputs": [
      {
       "metadata": {},
       "output_type": "pyout",
       "prompt_number": 278,
       "text": [
        "-1e+30"
       ]
      }
     ],
     "prompt_number": 278
    },
    {
     "cell_type": "code",
     "collapsed": false,
     "input": [
      "nc.close() # don't forget to close"
     ],
     "language": "python",
     "metadata": {},
     "outputs": [],
     "prompt_number": 279
    },
    {
     "cell_type": "code",
     "collapsed": false,
     "input": [
      "mval"
     ],
     "language": "python",
     "metadata": {},
     "outputs": [
      {
       "metadata": {},
       "output_type": "pyout",
       "prompt_number": 280,
       "text": [
        "-1e+30"
       ]
      }
     ],
     "prompt_number": 280
    },
    {
     "cell_type": "code",
     "collapsed": false,
     "input": [
      "sst.shape"
     ],
     "language": "python",
     "metadata": {},
     "outputs": [
      {
       "metadata": {},
       "output_type": "pyout",
       "prompt_number": 281,
       "text": [
        "(480, 100, 360)"
       ]
      }
     ],
     "prompt_number": 281
    },
    {
     "cell_type": "code",
     "collapsed": false,
     "input": [
      "sst = ma.masked_values(sst, mval)"
     ],
     "language": "python",
     "metadata": {},
     "outputs": [],
     "prompt_number": 282
    },
    {
     "cell_type": "code",
     "collapsed": false,
     "input": [
      "f, ax = plt.subplots(figsize=(12,6))\n",
      "im = ax.imshow(sst[0,:,:], interpolation='nearest', aspect='auto')\n",
      "ax.set_title('SSTs')\n",
      "cb = plt.colorbar(im);\n",
      "cb.set_label(u'\\xb0C', rotation=0)\n"
     ],
     "language": "python",
     "metadata": {},
     "outputs": [
      {
       "metadata": {},
       "output_type": "display_data",
       "png": "[encoded data removed]",
       "text": [
        "<matplotlib.figure.Figure at 0x10c85ed50>"
       ]
      }
     ],
     "prompt_number": 283
    },
    {
     "cell_type": "markdown",
     "metadata": {},
     "source": [
      "And the [netCDF4](http://netcdf4-python.googlecode.com/svn/trunk/docs/netCDF4-module.html) standalone module, which is installed as part of the Anaconda distribution, and has more functionalities, including: \n",
      "\n",
      "+ support of NetCDF 4 (and NetCDF 3).\n",
      "+ support for reading multiple files datasets as a single dataset.\n",
      "+ can create files that are readable by HDF5 clients."
     ]
    },
    {
     "cell_type": "code",
     "collapsed": false,
     "input": [
      "from netCDF4 import Dataset"
     ],
     "language": "python",
     "metadata": {},
     "outputs": [],
     "prompt_number": 284
    },
    {
     "cell_type": "code",
     "collapsed": false,
     "input": [
      "nc = Dataset('data/Hadley_SST.nc', 'r')"
     ],
     "language": "python",
     "metadata": {},
     "outputs": [],
     "prompt_number": 285
    },
    {
     "cell_type": "code",
     "collapsed": false,
     "input": [
      "sst = nc.variables['sst'][:]"
     ],
     "language": "python",
     "metadata": {},
     "outputs": [],
     "prompt_number": 286
    },
    {
     "cell_type": "code",
     "collapsed": false,
     "input": [
      "sst = ma.masked_values(sst, mval)"
     ],
     "language": "python",
     "metadata": {},
     "outputs": [],
     "prompt_number": 287
    },
    {
     "cell_type": "code",
     "collapsed": false,
     "input": [
      "nc.close()"
     ],
     "language": "python",
     "metadata": {},
     "outputs": [],
     "prompt_number": 288
    },
    {
     "cell_type": "code",
     "collapsed": false,
     "input": [
      "f, ax = plt.subplots(figsize=(12,6))\n",
      "im = ax.imshow(sst[0,:,:], interpolation='nearest', aspect='auto')\n",
      "ax.set_title('SSTs')\n",
      "cb = plt.colorbar(im);\n",
      "cb.set_label(u'\\xb0C', rotation=0)"
     ],
     "language": "python",
     "metadata": {},
     "outputs": [
      {
       "metadata": {},
       "output_type": "display_data",
       "png": "[encoded data removed]",
       "text": [
        "<matplotlib.figure.Figure at 0x10fa541d0>"
       ]
      }
     ],
     "prompt_number": 289
    },
    {
     "cell_type": "markdown",
     "metadata": {},
     "source": [
      "A more recent project is the IRIS module, developped by the Met. Office in the UK: \n",
      "    \n",
      "[http://scitools.org.uk/iris/index.html](http://scitools.org.uk/iris/index.html)"
     ]
    },
    {
     "cell_type": "markdown",
     "metadata": {},
     "source": [
      "### Matlab files"
     ]
    },
    {
     "cell_type": "code",
     "collapsed": false,
     "input": [
      "from scipy.io.matlab import loadmat, savemat, whosmat "
     ],
     "language": "python",
     "metadata": {},
     "outputs": [],
     "prompt_number": 290
    },
    {
     "cell_type": "markdown",
     "metadata": {},
     "source": [
      "We first create a matlab file containing one variable"
     ]
    },
    {
     "cell_type": "code",
     "collapsed": false,
     "input": [
      "x = np.random.randn(10,10)"
     ],
     "language": "python",
     "metadata": {},
     "outputs": [],
     "prompt_number": 291
    },
    {
     "cell_type": "code",
     "collapsed": false,
     "input": [
      "savemat('data/random_2darray.mat', {'xmat':x})"
     ],
     "language": "python",
     "metadata": {},
     "outputs": [],
     "prompt_number": 292
    },
    {
     "cell_type": "markdown",
     "metadata": {},
     "source": [
      "Then inspect its content with `whosmat`"
     ]
    },
    {
     "cell_type": "code",
     "collapsed": false,
     "input": [
      "whosmat('data/random_2darray.mat')"
     ],
     "language": "python",
     "metadata": {},
     "outputs": [
      {
       "metadata": {},
       "output_type": "pyout",
       "prompt_number": 293,
       "text": [
        "[('xmat', (10, 10), 'double')]"
       ]
      }
     ],
     "prompt_number": 293
    },
    {
     "cell_type": "markdown",
     "metadata": {},
     "source": [
      "And read it, accessing the saved variable as a numpy arrray using a dict type syntax"
     ]
    },
    {
     "cell_type": "code",
     "collapsed": false,
     "input": [
      "matfile = loadmat('data/random_2darray.mat')"
     ],
     "language": "python",
     "metadata": {},
     "outputs": [],
     "prompt_number": 294
    },
    {
     "cell_type": "code",
     "collapsed": false,
     "input": [
      "x = matfile['xmat'] # like a dictionnary"
     ],
     "language": "python",
     "metadata": {},
     "outputs": [],
     "prompt_number": 295
    },
    {
     "cell_type": "code",
     "collapsed": false,
     "input": [
      "x"
     ],
     "language": "python",
     "metadata": {},
     "outputs": [
      {
       "metadata": {},
       "output_type": "pyout",
       "prompt_number": 296,
       "text": [
        "array([[  6.02319280e-01,   4.20282204e-01,   8.10951673e-01,\n",
        "          1.04444209e+00,  -4.00878192e-01,   8.24005618e-01,\n",
        "         -5.62305431e-01,   1.95487808e+00,  -1.33195167e+00,\n",
        "         -1.76068856e+00],\n",
        "       [ -1.65072127e+00,  -8.90555584e-01,  -1.11911540e+00,\n",
        "          1.95607890e+00,  -3.26499498e-01,  -1.34267579e+00,\n",
        "          1.11438298e+00,  -5.86523939e-01,  -1.23685338e+00,\n",
        "          8.75838928e-01],\n",
        "       [  6.23362177e-01,  -4.34956683e-01,   1.40754000e+00,\n",
        "          1.29101580e-01,   1.61694960e+00,   5.02740882e-01,\n",
        "          1.55880554e+00,   1.09402696e-01,  -1.21974440e+00,\n",
        "          2.44936865e+00],\n",
        "       [ -5.45774168e-01,  -1.98837863e-01,  -7.00398505e-01,\n",
        "         -2.03394449e-01,   2.42669441e-01,   2.01830179e-01,\n",
        "          6.61020288e-01,   1.79215821e+00,  -1.20464572e-01,\n",
        "         -1.23312074e+00],\n",
        "       [ -1.18231813e+00,  -6.65754518e-01,  -1.67419581e+00,\n",
        "          8.25029824e-01,  -4.98213564e-01,  -3.10984978e-01,\n",
        "         -1.89148284e-03,  -1.39662042e+00,  -8.61316361e-01,\n",
        "          6.74711526e-01],\n",
        "       [  6.18539131e-01,  -4.43171931e-01,   1.81053491e+00,\n",
        "         -1.30572692e+00,  -3.44987210e-01,  -2.30839743e-01,\n",
        "         -2.79308500e+00,   1.93752881e+00,   3.66332015e-01,\n",
        "         -1.04458938e+00],\n",
        "       [  2.05117344e+00,   5.85662000e-01,   4.29526140e-01,\n",
        "         -6.06998398e-01,   1.06222724e-01,  -1.52568032e+00,\n",
        "          7.95026094e-01,  -3.74438319e-01,   1.34048197e-01,\n",
        "          1.20205486e+00],\n",
        "       [  2.84748111e-01,   2.62467445e-01,   2.76499305e-01,\n",
        "         -7.33271604e-01,   8.36004719e-01,   1.54335911e+00,\n",
        "          7.58805660e-01,   8.84908814e-01,  -8.77281519e-01,\n",
        "         -8.67787223e-01],\n",
        "       [ -1.44087602e+00,   1.23225307e+00,  -2.54179868e-01,\n",
        "          1.39984394e+00,  -7.81911683e-01,  -4.37508983e-01,\n",
        "          9.54250872e-02,   9.21450069e-01,   6.07501958e-02,\n",
        "          2.11124755e-01],\n",
        "       [  1.65275673e-02,   1.77187720e-01,  -1.11647002e+00,\n",
        "          8.09271010e-02,  -1.86578994e-01,  -5.68244809e-02,\n",
        "          4.92336556e-01,  -6.80678141e-01,  -8.45080274e-02,\n",
        "         -2.97361883e-01]])"
       ]
      }
     ],
     "prompt_number": 296
    },
    {
     "cell_type": "markdown",
     "metadata": {},
     "source": [
      "For matlab files containing matlab **structures**, the syntax is marginally more complicated "
     ]
    },
    {
     "cell_type": "code",
     "collapsed": false,
     "input": [
      "whosmat('./data/clusters_monthly.mat')"
     ],
     "language": "python",
     "metadata": {},
     "outputs": [
      {
       "metadata": {},
       "output_type": "pyout",
       "prompt_number": 297,
       "text": [
        "[('clusm', (1, 1), 'struct')]"
       ]
      }
     ],
     "prompt_number": 297
    },
    {
     "cell_type": "code",
     "collapsed": false,
     "input": [
      "matfile = loadmat('./data/clusters_monthly.mat', struct_as_record=False)"
     ],
     "language": "python",
     "metadata": {},
     "outputs": [],
     "prompt_number": 298
    },
    {
     "cell_type": "code",
     "collapsed": false,
     "input": [
      "matfile.keys()"
     ],
     "language": "python",
     "metadata": {},
     "outputs": [
      {
       "metadata": {},
       "output_type": "pyout",
       "prompt_number": 299,
       "text": [
        "['clusm', '__version__', '__header__', '__globals__']"
       ]
      }
     ],
     "prompt_number": 299
    },
    {
     "cell_type": "code",
     "collapsed": false,
     "input": [
      "clusm = matfile['clusm'][0][0] ### corresponds to the (1,1) shape as indicated by whosmat"
     ],
     "language": "python",
     "metadata": {},
     "outputs": [],
     "prompt_number": 300
    },
    {
     "cell_type": "code",
     "collapsed": false,
     "input": [
      "type(clusm)"
     ],
     "language": "python",
     "metadata": {},
     "outputs": [
      {
       "metadata": {},
       "output_type": "pyout",
       "prompt_number": 301,
       "text": [
        "scipy.io.matlab.mio5_params.mat_struct"
       ]
      }
     ],
     "prompt_number": 301
    },
    {
     "cell_type": "code",
     "collapsed": false,
     "input": [
      "### inspect the attributes of clusm\n",
      "dir(clusm)"
     ],
     "language": "python",
     "metadata": {},
     "outputs": [
      {
       "metadata": {},
       "output_type": "pyout",
       "prompt_number": 302,
       "text": [
        "['__class__',\n",
        " '__delattr__',\n",
        " '__dict__',\n",
        " '__doc__',\n",
        " '__format__',\n",
        " '__getattribute__',\n",
        " '__hash__',\n",
        " '__init__',\n",
        " '__module__',\n",
        " '__new__',\n",
        " '__reduce__',\n",
        " '__reduce_ex__',\n",
        " '__repr__',\n",
        " '__setattr__',\n",
        " '__sizeof__',\n",
        " '__slotnames__',\n",
        " '__str__',\n",
        " '__subclasshook__',\n",
        " '__weakref__',\n",
        " '_fieldnames',\n",
        " 'data',\n",
        " 'name',\n",
        " 'regimes',\n",
        " 'regname',\n",
        " 'time']"
       ]
      }
     ],
     "prompt_number": 302
    },
    {
     "cell_type": "code",
     "collapsed": false,
     "input": [
      "clusm._fieldnames"
     ],
     "language": "python",
     "metadata": {},
     "outputs": [
      {
       "metadata": {},
       "output_type": "pyout",
       "prompt_number": 303,
       "text": [
        "['time', 'data', 'name', 'regimes', 'regname']"
       ]
      }
     ],
     "prompt_number": 303
    },
    {
     "cell_type": "code",
     "collapsed": false,
     "input": [
      "t = clusm.time"
     ],
     "language": "python",
     "metadata": {},
     "outputs": [],
     "prompt_number": 304
    },
    {
     "cell_type": "code",
     "collapsed": false,
     "input": [
      "t"
     ],
     "language": "python",
     "metadata": {},
     "outputs": [
      {
       "metadata": {},
       "output_type": "pyout",
       "prompt_number": 305,
       "text": [
        "array([[1948,    1],\n",
        "       [1948,    2],\n",
        "       [1948,    3],\n",
        "       ..., \n",
        "       [2012,    3],\n",
        "       [2012,    4],\n",
        "       [2012,    5]], dtype=uint16)"
       ]
      }
     ],
     "prompt_number": 305
    },
    {
     "cell_type": "code",
     "collapsed": false,
     "input": [
      "data = clusm.data"
     ],
     "language": "python",
     "metadata": {},
     "outputs": [],
     "prompt_number": 306
    },
    {
     "cell_type": "code",
     "collapsed": false,
     "input": [
      "data[0,:]"
     ],
     "language": "python",
     "metadata": {},
     "outputs": [
      {
       "metadata": {},
       "output_type": "pyout",
       "prompt_number": 307,
       "text": [
        "array([ 0.11290323,  0.0483871 ,  0.09677419,  0.19354839,  0.0483871 ,\n",
        "        0.0483871 ,  0.0483871 ,  0.12903226,  0.03225806,  0.0483871 ,\n",
        "        0.17741935,  0.01612903])"
       ]
      }
     ],
     "prompt_number": 307
    },
    {
     "cell_type": "markdown",
     "metadata": {},
     "source": [
      "**IMPORTANT**: A note on **matlab dates and time**"
     ]
    },
    {
     "cell_type": "markdown",
     "metadata": {},
     "source": [
      "Matlab's **datenum** representation is the number of days since midnight on **January 1st, 0 AD.**  Python's datetime handling, (throught the datetime.fromordinal function) assumes time is the number of days since midnight on **January 1st, 1 AD.**  So the duration of year 0 separates the time representation returned by python's fromordinal function and the time representation used by matlab. "
     ]
    },
    {
     "cell_type": "code",
     "collapsed": false,
     "input": [
      "matlab_datenum = 731965.04835648148  "
     ],
     "language": "python",
     "metadata": {},
     "outputs": [],
     "prompt_number": 308
    },
    {
     "cell_type": "markdown",
     "metadata": {},
     "source": [
      "The following snippet is from Conrad Lee at [https://gist.github.com/conradlee/4366296](https://gist.github.com/conradlee/4366296)"
     ]
    },
    {
     "cell_type": "code",
     "collapsed": false,
     "input": [
      "from datetime import datetime, timedelta\n",
      " \n",
      "python_datetime = datetime.fromordinal(int(matlab_datenum)) \\\n",
      "+ timedelta(days=matlab_datenum%1) - timedelta(days = 366) ## year 0 was a leap year"
     ],
     "language": "python",
     "metadata": {},
     "outputs": [],
     "prompt_number": 309
    },
    {
     "cell_type": "code",
     "collapsed": false,
     "input": [
      "python_datetime"
     ],
     "language": "python",
     "metadata": {},
     "outputs": [
      {
       "metadata": {},
       "output_type": "pyout",
       "prompt_number": 310,
       "text": [
        "datetime.datetime(2004, 1, 19, 1, 9, 38)"
       ]
      }
     ],
     "prompt_number": 310
    },
    {
     "cell_type": "code",
     "collapsed": false,
     "input": [
      "print(python_datetime)"
     ],
     "language": "python",
     "metadata": {},
     "outputs": [
      {
       "output_type": "stream",
       "stream": "stdout",
       "text": [
        "2004-01-19 01:09:38\n"
       ]
      }
     ],
     "prompt_number": 311
    },
    {
     "cell_type": "markdown",
     "metadata": {},
     "source": [
      "Another - easiest - way to do it is to use the module [netcdftime](http://netcdf4-python.googlecode.com/svn/trunk/docs/netcdftime.netcdftime-module.html) (installed with anaconda), which has a ```num2date``` function, and to specify the origin, as well as the calendar (ISO 8601 Proleptic Gregorian calendar, which allows for Year 0), you can convert a entire vector (numpy array) of Matlab datenums that way."
     ]
    },
    {
     "cell_type": "code",
     "collapsed": false,
     "input": [
      "from netcdftime import num2date"
     ],
     "language": "python",
     "metadata": {},
     "outputs": [],
     "prompt_number": 312
    },
    {
     "cell_type": "code",
     "collapsed": false,
     "input": [
      "date_proleptic = num2date(matlab_datenum, units='days since 000-01-00 00:00:00', \\\n",
      "                          calendar='proleptic_gregorian')"
     ],
     "language": "python",
     "metadata": {},
     "outputs": [],
     "prompt_number": 313
    },
    {
     "cell_type": "code",
     "collapsed": false,
     "input": [
      "date_proleptic"
     ],
     "language": "python",
     "metadata": {},
     "outputs": [
      {
       "metadata": {},
       "output_type": "pyout",
       "prompt_number": 314,
       "text": [
        "datetime.datetime(2004, 1, 19, 1, 9, 38)"
       ]
      }
     ],
     "prompt_number": 314
    },
    {
     "cell_type": "code",
     "collapsed": false,
     "input": [
      "num2date?"
     ],
     "language": "python",
     "metadata": {},
     "outputs": [],
     "prompt_number": 315
    },
    {
     "cell_type": "markdown",
     "metadata": {},
     "source": [
      "### Other file formats\n",
      "\n",
      "**HDF5** \n",
      "\n",
      "Please See [http://www.h5py.org/docs/intro/quick.html](http://www.h5py.org/docs/intro/quick.html)\n",
      "\n",
      "\n",
      "**IDL**: \n",
      "    \n",
      "    from scipy.io import idl\n",
      "    idl.readsav()\n",
      "    \n",
      "**Fortran files**: \n",
      "\n",
      "    from scipy.io import FortranFile\n",
      "    f = FortranFile()\n",
      "    \n",
      "    Examples\n",
      "    --------\n",
      "    To create an unformatted sequential Fortran file:\n",
      "    \n",
      "    >>> from scipy.io import FortranFile\n",
      "    >>> f = FortranFile('test.unf', 'w')\n",
      "    >>> f.write_record(np.array([1,2,3,4,5],dtype=np.int32))\n",
      "    >>> f.write_record(np.linspace(0,1,20).reshape((5,-1)))\n",
      "    >>> f.close()\n",
      "    \n",
      "    To read this file:\n",
      "    \n",
      "    >>> from scipy.io import FortranFile\n",
      "    >>> f = FortranFile('test.unf', 'r')\n",
      "    >>> print(f.read_ints(dtype=np.int32))\n",
      "    [1 2 3 4 5]\n",
      "    >>> print(f.read_reals(dtype=np.float).reshape((5,-1)))\n",
      "    [[ 0.          0.05263158  0.10526316  0.15789474]\n",
      "     [ 0.21052632  0.26315789  0.31578947  0.36842105]\n",
      "     [ 0.42105263  0.47368421  0.52631579  0.57894737]\n",
      "     [ 0.63157895  0.68421053  0.73684211  0.78947368]\n",
      "     [ 0.84210526  0.89473684  0.94736842  1.        ]]\n",
      "    >>> f.close()\n",
      "    "
     ]
    },
    {
     "cell_type": "code",
     "collapsed": false,
     "input": [
      "%load_ext load_style"
     ],
     "language": "python",
     "metadata": {},
     "outputs": [],
     "prompt_number": 1
    },
    {
     "cell_type": "code",
     "collapsed": false,
     "input": [
      "%load_style talk.css"
     ],
     "language": "python",
     "metadata": {},
     "outputs": [
      {
       "html": [
        "<style>\n",
        "\n",
        ".rendered_html {\n",
        "    font-family: \"proxima-nova\", helvetica;\n",
        "    font-size: 130%;\n",
        "    line-height: 1.5;\n",
        "}\n",
        "\n",
        ".rendered_html h1 {\n",
        "    margin: 0.25em 0em 0.5em;\n",
        "    color: #015C9C;\n",
        "    text-align: center;\n",
        "    line-height: 1.2; \n",
        "    page-break-before: always;\n",
        "}\n",
        "\n",
        ".rendered_html h2 {\n",
        "    margin: 1.1em 0em 0.5em;\n",
        "    color: #26465D;\n",
        "    line-height: 1.2;\n",
        "}\n",
        "\n",
        ".rendered_html h3 {\n",
        "    margin: 1.1em 0em 0.5em;\n",
        "    color: #002845;\n",
        "    line-height: 1.2;\n",
        "}\n",
        "\n",
        ".rendered_html li {\n",
        "    line-height: 1.5; \n",
        "}\n",
        "\n",
        "/*.prompt {\n",
        "    font-size: 120%; \n",
        "}*/\n",
        "\n",
        ".CodeMirror-lines {\n",
        "    font-size: 110%; \n",
        "}\n",
        "\n",
        "/*.output_area {\n",
        "    font-size: 120%; \n",
        "}*/\n",
        "\n",
        "/*#notebook {\n",
        "    background-image: url('files/images/witewall_3.png');\n",
        "}*/\n",
        "\n",
        "h1.bigtitle {\n",
        "    margin: 4cm 1cm 4cm 1cm;\n",
        "    font-size: 300%;\n",
        "}\n",
        "\n",
        "h3.point {\n",
        "    font-size: 200%;\n",
        "    text-align: center;\n",
        "    margin: 2em 0em 2em 0em;\n",
        "    #26465D\n",
        "}\n",
        "\n",
        ".logo {\n",
        "    margin: 20px 0 20px 0;\n",
        "}\n",
        "\n",
        "a.anchor-link {\n",
        "    display: none;\n",
        "}\n",
        "\n",
        "h1.title { \n",
        "    font-size: 250%;\n",
        "}\n",
        "\n",
        "</style>"
       ],
       "metadata": {},
       "output_type": "display_data",
       "text": [
        "<IPython.core.display.HTML at 0x10482be50>"
       ]
      }
     ],
     "prompt_number": 2
    },
    {
     "cell_type": "code",
     "collapsed": false,
     "input": [],
     "language": "python",
     "metadata": {},
     "outputs": []
    }
   ],
   "metadata": {}
  }
 ]
}