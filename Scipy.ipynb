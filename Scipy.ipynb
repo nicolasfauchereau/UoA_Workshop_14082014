{
 "metadata": {
  "name": "",
  "signature": "sha256:f3e0337d7adf4f7668516f4d03501df60f65decbcdd51dccfaec9c1373dd04be"
 },
 "nbformat": 3,
 "nbformat_minor": 0,
 "worksheets": [
  {
   "cells": [
    {
     "cell_type": "markdown",
     "metadata": {},
     "source": [
      "# Scipy"
     ]
    },
    {
     "cell_type": "code",
     "collapsed": false,
     "input": [
      "%load_ext load_style\n",
      "%load_style talk.css"
     ],
     "language": "python",
     "metadata": {},
     "outputs": []
    },
    {
     "cell_type": "code",
     "collapsed": false,
     "input": [
      "from IPython.display import Image, HTML\n",
      "import numpy as np\n",
      "import matplotlib.pyplot as plt"
     ],
     "language": "python",
     "metadata": {},
     "outputs": []
    },
    {
     "cell_type": "code",
     "collapsed": false,
     "input": [
      "%matplotlib inline"
     ],
     "language": "python",
     "metadata": {},
     "outputs": []
    },
    {
     "cell_type": "markdown",
     "metadata": {},
     "source": [
      "**Scipy** can is a library (but can be thought more as a scientific python distribution) that is built on top of Numpy and\n",
      "and provides a large set of standard scientific computing algorithms, in particular: \n",
      "\n",
      "* Special functions ([scipy.special](http://docs.scipy.org/doc/scipy/reference/special.html))\n",
      "* Integration ([scipy.integrate](http://docs.scipy.org/doc/scipy/reference/integrate.html))\n",
      "* Optimization ([scipy.optimize](http://docs.scipy.org/doc/scipy/reference/optimize.html))\n",
      "* Interpolation ([scipy.interpolate](http://docs.scipy.org/doc/scipy/reference/interpolate.html))\n",
      "* Fourier Transforms ([scipy.fftpack](http://docs.scipy.org/doc/scipy/reference/fftpack.html))\n",
      "* Signal Processing ([scipy.signal](http://docs.scipy.org/doc/scipy/reference/signal.html))\n",
      "* Linear Algebra ([scipy.linalg](http://docs.scipy.org/doc/scipy/reference/linalg.html))\n",
      "* Sparse Eigenvalue Problems ([scipy.sparse](http://docs.scipy.org/doc/scipy/reference/sparse.html))\n",
      "* Statistics ([scipy.stats](http://docs.scipy.org/doc/scipy/reference/stats.html))\n",
      "* Multi-dimensional image processing ([scipy.ndimage](http://docs.scipy.org/doc/scipy/reference/ndimage.html))\n",
      "* File IO ([scipy.io](http://docs.scipy.org/doc/scipy/reference/io.html))\n",
      "\n",
      "We'll only have a look at some of these sub-packages, more directly relevant to **analyzing** data\n",
      "   \n",
      "   \n",
      "+ **scipy.stats**: standard continuous and discrete probability distributions (density functions, samplers, ...), various statistical tests, and more descriptive statistics. \n",
      "+ **scipy.interpolate**: 1D and 2D interpolation\n"
     ]
    },
    {
     "cell_type": "markdown",
     "metadata": {},
     "source": [
      "## Scipy.stats"
     ]
    },
    {
     "cell_type": "code",
     "collapsed": false,
     "input": [
      "from scipy import stats "
     ],
     "language": "python",
     "metadata": {},
     "outputs": []
    },
    {
     "cell_type": "code",
     "collapsed": false,
     "input": [
      "dir(stats)"
     ],
     "language": "python",
     "metadata": {},
     "outputs": []
    },
    {
     "cell_type": "markdown",
     "metadata": {},
     "source": [
      "#### Statistical tests "
     ]
    },
    {
     "cell_type": "markdown",
     "metadata": {},
     "source": [
      "One commonly used parametric test is the *Student t-test*, which determines whether two independant samples have - statistically - different means, under the assumption that the two samples are normally distributed. The Null hypothesis is that the two samples have **identical** means."
     ]
    },
    {
     "cell_type": "code",
     "collapsed": false,
     "input": [
      "stats.ttest_ind?"
     ],
     "language": "python",
     "metadata": {},
     "outputs": []
    },
    {
     "cell_type": "code",
     "collapsed": false,
     "input": [
      "X = stats.distributions.norm(loc=5, scale=10)\n",
      "Y = stats.distributions.norm(loc=3, scale=10)\n",
      "\n",
      "Xrvs = X.rvs(size=(1000))\n",
      "Yrvs = Y.rvs(size=(1000))"
     ],
     "language": "python",
     "metadata": {},
     "outputs": []
    },
    {
     "cell_type": "code",
     "collapsed": false,
     "input": [
      "f, ax = plt.subplots(figsize=(6,5))\n",
      "ax.hist(Xrvs,histtype='stepfilled', bins=20, color='coral', alpha=.6, label=r'$\\mu = 5$')\n",
      "ax.hist(Yrvs,histtype='stepfilled', bins=20, color='steelblue', alpha=.6, label=r'$\\mu = 3$')\n",
      "ax.grid(color='b',alpha=.6)\n",
      "ax.legend();"
     ],
     "language": "python",
     "metadata": {},
     "outputs": []
    },
    {
     "cell_type": "code",
     "collapsed": false,
     "input": [
      "t, p = stats.ttest_ind(Xrvs, Yrvs)\n",
      "print(\"\"\"\\n===========================\n",
      "T statistics = %s ~= %4.2f\n",
      "P-value = %s ~= %8.6f\n",
      "===========================\n",
      "\"\"\" % (t, t, p, p))"
     ],
     "language": "python",
     "metadata": {},
     "outputs": []
    },
    {
     "cell_type": "markdown",
     "metadata": {},
     "source": [
      "#### Correlation (Pearson's R)"
     ]
    },
    {
     "cell_type": "code",
     "collapsed": false,
     "input": [
      "from scipy.stats import pearsonr"
     ],
     "language": "python",
     "metadata": {},
     "outputs": []
    },
    {
     "cell_type": "markdown",
     "metadata": {},
     "source": [
      "We're gonna apply that to Time-Series of NINO3.4 and the SOI \n",
      "\n",
      "The NINO indices come from [http://www.cpc.ncep.noaa.gov/data/indices/ersst3b.nino.mth.81-10.ascii](http://www.cpc.ncep.noaa.gov/data/indices/ersst3b.nino.mth.81-10.ascii)\n",
      "\n",
      "The SOI is in the `data` directory"
     ]
    },
    {
     "cell_type": "code",
     "collapsed": false,
     "input": [
      "import os\n",
      "from datetime import datetime\n",
      "from dateutil import parser\n",
      "import pandas as pd"
     ],
     "language": "python",
     "metadata": {},
     "outputs": []
    },
    {
     "cell_type": "code",
     "collapsed": false,
     "input": [
      "nino_url = \"http://www.cpc.ncep.noaa.gov/data/indices/ersst3b.nino.mth.81-10.ascii\""
     ],
     "language": "python",
     "metadata": {},
     "outputs": []
    },
    {
     "cell_type": "code",
     "collapsed": false,
     "input": [
      "# if not working try: \n",
      "nino = pd.read_table('./data/ersst3b.nino.mth.81-10.ascii', sep='\\s*', engine='python')\n",
      "#nino = pd.read_table(nino_url, sep='\\s*')\n",
      "dates = [datetime(x[0], x[1], 1) for x in zip(nino['YR'].values, nino['MON'].values)]\n",
      "nino.index = dates"
     ],
     "language": "python",
     "metadata": {},
     "outputs": []
    },
    {
     "cell_type": "code",
     "collapsed": false,
     "input": [
      "nino.head()"
     ],
     "language": "python",
     "metadata": {},
     "outputs": []
    },
    {
     "cell_type": "code",
     "collapsed": false,
     "input": [
      "soipath = './data'\n",
      "def get_SOI(soipath, start_date='1950-01-01'):\n",
      "    soi = pd.read_csv(os.path.join(soipath,'NIWA_SOI.csv'), index_col=0)\n",
      "    soi = soi.stack()\n",
      "    soi = soi.dropna()\n",
      "    dates = [parser.parse(\"%s-%s-%s\" % (str(int(x[0])), x[1], \"1\")) for x in soi.index]\n",
      "    soidf = pd.DataFrame(soi.values, index=dates, columns=['SOI'])\n",
      "    soidf = soidf.truncate(before=start_date)\n",
      "    return soidf"
     ],
     "language": "python",
     "metadata": {},
     "outputs": []
    },
    {
     "cell_type": "code",
     "collapsed": false,
     "input": [
      "df = get_SOI(soipath)"
     ],
     "language": "python",
     "metadata": {},
     "outputs": []
    },
    {
     "cell_type": "code",
     "collapsed": false,
     "input": [
      "df.head()"
     ],
     "language": "python",
     "metadata": {},
     "outputs": []
    },
    {
     "cell_type": "markdown",
     "metadata": {},
     "source": [
      "Will automaticall **ALIGN** the DataFrames, see [Pandas.ipynb](./Pandas.ipynb)"
     ]
    },
    {
     "cell_type": "code",
     "collapsed": false,
     "input": [
      "df['nino'] = nino['ANOM.3']"
     ],
     "language": "python",
     "metadata": {},
     "outputs": []
    },
    {
     "cell_type": "code",
     "collapsed": false,
     "input": [
      "r, p = pearsonr(df['SOI'], df['nino'])\n",
      "\n",
      "print(\"R = {0:<4.2f}, p-value = {1:<4.2f}\".format(r,p))"
     ],
     "language": "python",
     "metadata": {},
     "outputs": []
    },
    {
     "cell_type": "code",
     "collapsed": false,
     "input": [
      "#df = pd.DataFrame({'SOI':soi['SOI'],'nino':nino['ANOM.3']}, index=nino.index)"
     ],
     "language": "python",
     "metadata": {},
     "outputs": []
    },
    {
     "cell_type": "code",
     "collapsed": false,
     "input": [
      "#df.to_csv('./data/soi_nino.csv')"
     ],
     "language": "python",
     "metadata": {},
     "outputs": []
    },
    {
     "cell_type": "markdown",
     "metadata": {},
     "source": [
      "## scipy.interpolate"
     ]
    },
    {
     "cell_type": "markdown",
     "metadata": {},
     "source": [
      "There are several interfaces for performing 1D, 2D or N Dimensional interpolation using scipy.\n",
      "\n",
      "For more on that I refer you to \n",
      "\n",
      "+ [http://docs.scipy.org/doc/scipy/reference/interpolate.html](http://docs.scipy.org/doc/scipy/reference/interpolate.html)\n",
      "+ [http://wiki.scipy.org/Cookbook/Interpolation](http://wiki.scipy.org/Cookbook/Interpolation)\n",
      "\n",
      "Here we're going to see one simple example in 1D and 2D using [Radial Basis Functions](http://en.wikipedia.org/wiki/Radial_basis_function) using the default (Multiquadric)"
     ]
    },
    {
     "cell_type": "markdown",
     "metadata": {},
     "source": [
      "#### 1D interpolation"
     ]
    },
    {
     "cell_type": "code",
     "collapsed": false,
     "input": [
      "from scipy.interpolate import interp1d"
     ],
     "language": "python",
     "metadata": {},
     "outputs": []
    },
    {
     "cell_type": "code",
     "collapsed": false,
     "input": [
      "x = np.linspace(0, 10, 10)\n",
      "y = np.sin(x)"
     ],
     "language": "python",
     "metadata": {},
     "outputs": []
    },
    {
     "cell_type": "code",
     "collapsed": false,
     "input": [
      "plt.plot(x,y,'ro')"
     ],
     "language": "python",
     "metadata": {},
     "outputs": []
    },
    {
     "cell_type": "code",
     "collapsed": false,
     "input": [
      "f1 = interp1d(x, y) # default is linear"
     ],
     "language": "python",
     "metadata": {},
     "outputs": []
    },
    {
     "cell_type": "code",
     "collapsed": false,
     "input": [
      "f2 = interp1d(x, y, kind='cubic') # and we're gonna try cubic interpolation for comparison"
     ],
     "language": "python",
     "metadata": {},
     "outputs": []
    },
    {
     "cell_type": "code",
     "collapsed": false,
     "input": [
      "xnew = np.linspace(0, 10, 50)"
     ],
     "language": "python",
     "metadata": {},
     "outputs": []
    },
    {
     "cell_type": "code",
     "collapsed": false,
     "input": [
      "ylin = f1(xnew)\n",
      "ycub = f2(xnew)"
     ],
     "language": "python",
     "metadata": {},
     "outputs": []
    },
    {
     "cell_type": "code",
     "collapsed": false,
     "input": [
      "f, ax = plt.subplots(figsize=(12,8))\n",
      "ax.plot(xnew, ylin, 'b.', ms=8, label='linear')\n",
      "ax.plot(xnew, ycub, 'gx-', ms=10, label='cubic')\n",
      "ax.plot(x,y,'ro-', label='data')\n",
      "ax.legend(loc='lower left')"
     ],
     "language": "python",
     "metadata": {},
     "outputs": []
    },
    {
     "cell_type": "markdown",
     "metadata": {},
     "source": [
      "### 2D interpolation using Radial Basis Functions"
     ]
    },
    {
     "cell_type": "code",
     "collapsed": false,
     "input": [
      "from scipy.interpolate import Rbf"
     ],
     "language": "python",
     "metadata": {},
     "outputs": []
    },
    {
     "cell_type": "code",
     "collapsed": false,
     "input": [
      "# defines a function of X and Y\n",
      "def func(x,y):\n",
      "    return x*np.exp(-x**2-y**2)"
     ],
     "language": "python",
     "metadata": {},
     "outputs": []
    },
    {
     "cell_type": "code",
     "collapsed": false,
     "input": [
      "np.random.seed(1) # we 'fix' the generation of random numbers so that we've got consistent results\n",
      "\n",
      "x = np.random.uniform(-2., 2., 100)\n",
      "y = np.random.uniform(-2., 2., 100)\n",
      "\n",
      "z = func(x,y)\n",
      "\n",
      "ti = np.linspace(-2.0, 2.0, 100)\n",
      "\n",
      "XI, YI = np.meshgrid(ti, ti) # meshgrid creates uniform 2D grids from 1D vectors\n",
      "\n",
      "# use RBF\n",
      "rbf = Rbf(x, y, z, epsilon=2) # instantiates the interpolator\n",
      "# you might want to play with the epsilon optional parameter \n",
      "\n",
      "ZI = rbf(XI, YI) # interpolate on grid"
     ],
     "language": "python",
     "metadata": {},
     "outputs": []
    },
    {
     "cell_type": "code",
     "collapsed": false,
     "input": [
      "# this is the 'True' field, the result of the function evaluated on a regular grid\n",
      "true_Z = func(XI, YI)"
     ],
     "language": "python",
     "metadata": {},
     "outputs": []
    },
    {
     "cell_type": "code",
     "collapsed": false,
     "input": [
      "# plot the result\n",
      "f, ax = plt.subplots(figsize=(8,6))\n",
      "im = ax.pcolor(XI, YI, ZI, cmap=plt.get_cmap('RdBu_r'))\n",
      "ax.scatter(x, y, 50, z, cmap=plt.get_cmap('RdBu_r'), edgecolor='.5')\n",
      "ax.set_title('RBF interpolation - multiquadrics')\n",
      "ax.set_xlim(-2, 2)\n",
      "ax.set_ylim(-2, 2)\n",
      "plt.colorbar(im, orientation='vertical', pad=0.06); "
     ],
     "language": "python",
     "metadata": {},
     "outputs": []
    },
    {
     "cell_type": "code",
     "collapsed": false,
     "input": [
      "# plot the difference between the 'true' field and the interpolated \n",
      "f, ax = plt.subplots(figsize=(8,6))\n",
      "im = ax.pcolor(XI, YI, ZI - true_Z, cmap=plt.get_cmap('RdBu_r'), vmin=-1e-3, vmax=1e-3)\n",
      "ax.set_xlim(-2, 2)\n",
      "ax.set_ylim(-2, 2)\n",
      "plt.colorbar(im, orientation='vertical', pad=0.06); "
     ],
     "language": "python",
     "metadata": {},
     "outputs": []
    },
    {
     "cell_type": "markdown",
     "metadata": {},
     "source": [
      "## Curve fitting with scipy.optimize\n",
      "\n",
      "In this case you want to fit noisy, e.g. experimental, data to **a specific function**, with *unknown parameters*"
     ]
    },
    {
     "cell_type": "code",
     "collapsed": false,
     "input": [
      "from scipy.optimize import curve_fit"
     ],
     "language": "python",
     "metadata": {},
     "outputs": []
    },
    {
     "cell_type": "markdown",
     "metadata": {},
     "source": [
      "The algorithm uses the [Levenberg-Marquardt](http://en.wikipedia.org/wiki/Levenberg%E2%80%93Marquardt_algorithm) algorithm to perform non-linear least-square optimization"
     ]
    },
    {
     "cell_type": "code",
     "collapsed": false,
     "input": [
      "def fitFunc(t, a, b, c):\n",
      "    \"\"\" \n",
      "    defines the function\n",
      "    takes 3 parameters: a, b and c\n",
      "    \"\"\"\n",
      "    return a*np.exp(-b*t) + c"
     ],
     "language": "python",
     "metadata": {},
     "outputs": []
    },
    {
     "cell_type": "code",
     "collapsed": false,
     "input": [
      "curve_fit?"
     ],
     "language": "python",
     "metadata": {},
     "outputs": []
    },
    {
     "cell_type": "code",
     "collapsed": false,
     "input": [
      "### defines the evaluation domain\n",
      "t = np.linspace(0,4,50)\n",
      "\n",
      "### defines the paramaters \n",
      "a = 5.0\n",
      "b = 1.5\n",
      "c = 0.5\n",
      "\n",
      "### create the response\n",
      "temp = fitFunc(t, a, b, c)\n",
      "\n",
      "### add some noise to simulate \"real world observations\" such as experimental data\n",
      "noisy = temp + 0.4 * np.random.normal(size=len(temp)) \n",
      "\n",
      "### use curve_fit to estimate the parameters and the covariance matrices\n",
      "fitParams, fitCovariances = curve_fit(fitFunc, t, noisy)\n",
      "\n",
      "afit, bfit, cfit = tuple(fitParams)\n",
      "\n",
      "print(\"\\nEstimated parameters\\na: {0:<4.2f}, b: {1:<4.2f}, c: {2:<4.2f}\\n\\n\".format(afit, bfit, cfit))"
     ],
     "language": "python",
     "metadata": {},
     "outputs": []
    },
    {
     "cell_type": "code",
     "collapsed": false,
     "input": [
      "f, ax = plt.subplots(figsize=(8,8))\n",
      "ax.set_ylabel(u'Temperature (\\xb0C)', fontsize = 16)\n",
      "ax.set_xlabel('time (s)', fontsize = 16)\n",
      "ax.set_xlim(0,4.1)\n",
      "# plot the data as red circles with vertical errorbars\n",
      "ax.errorbar(t, noisy, fmt = 'ro', yerr = 0.2)\n",
      "# now plot the best fit curve \n",
      "\n",
      "ax.plot(t, fitFunc(t, afit, bfit, cfit),'k-', lw=2)\n",
      "\n",
      "# and plot the +- 1 sigma curves\n",
      "# (the square root of the diagonal covariance matrix  \n",
      "# element is the uncertainty on the fit parameter.)\n",
      "\n",
      "sigma_a, sigma_b, sigma_c = np.sqrt(fitCovariances[0,0]), \\\n",
      "np.sqrt(fitCovariances[1,1]), \\\n",
      "np.sqrt(fitCovariances[2,2])\n",
      "\n",
      "ax.plot(t, fitFunc(t, afit + sigma_a, bfit - sigma_b, cfit + sigma_c), 'b-')\n",
      "ax.plot(t, fitFunc(t, afit - sigma_a, bfit + sigma_b, cfit - sigma_c), 'b-');"
     ],
     "language": "python",
     "metadata": {},
     "outputs": []
    },
    {
     "cell_type": "markdown",
     "metadata": {},
     "source": [
      "## Getting data in and out of Python"
     ]
    },
    {
     "cell_type": "markdown",
     "metadata": {},
     "source": [
      "Python itself has a very good support for IO and dealing with ascii files \n",
      "\n",
      "    f = open('filename','r') \n",
      "    out = f.readlines() \n",
      "    f.close() \n",
      "    "
     ]
    },
    {
     "cell_type": "code",
     "collapsed": false,
     "input": [
      "f = open('./data/ascii_table.txt', 'r')"
     ],
     "language": "python",
     "metadata": {},
     "outputs": []
    },
    {
     "cell_type": "code",
     "collapsed": false,
     "input": [
      "out = f.readlines()"
     ],
     "language": "python",
     "metadata": {},
     "outputs": []
    },
    {
     "cell_type": "code",
     "collapsed": false,
     "input": [
      "f.close()"
     ],
     "language": "python",
     "metadata": {},
     "outputs": []
    },
    {
     "cell_type": "code",
     "collapsed": false,
     "input": [
      "out"
     ],
     "language": "python",
     "metadata": {},
     "outputs": []
    },
    {
     "cell_type": "code",
     "collapsed": false,
     "input": [
      "out = [map(np.int, x.split()) for x in out]"
     ],
     "language": "python",
     "metadata": {},
     "outputs": []
    },
    {
     "cell_type": "code",
     "collapsed": false,
     "input": [
      "map("
     ],
     "language": "python",
     "metadata": {},
     "outputs": []
    },
    {
     "cell_type": "code",
     "collapsed": false,
     "input": [
      "out"
     ],
     "language": "python",
     "metadata": {},
     "outputs": []
    },
    {
     "cell_type": "code",
     "collapsed": false,
     "input": [
      "out = np.array(out)"
     ],
     "language": "python",
     "metadata": {},
     "outputs": []
    },
    {
     "cell_type": "code",
     "collapsed": false,
     "input": [
      "print(out)"
     ],
     "language": "python",
     "metadata": {},
     "outputs": []
    },
    {
     "cell_type": "code",
     "collapsed": false,
     "input": [
      "out.shape"
     ],
     "language": "python",
     "metadata": {},
     "outputs": []
    },
    {
     "cell_type": "markdown",
     "metadata": {},
     "source": [
      "### text (tab or space delimited) ASCII in Numpy "
     ]
    },
    {
     "cell_type": "code",
     "collapsed": false,
     "input": [
      "np.genfromtxt("
     ],
     "language": "python",
     "metadata": {},
     "outputs": []
    },
    {
     "cell_type": "code",
     "collapsed": false,
     "input": [
      "a = np.genfromtxt('./data/ascii_table.txt', dtype=int) # can handle missing values "
     ],
     "language": "python",
     "metadata": {},
     "outputs": []
    },
    {
     "cell_type": "code",
     "collapsed": false,
     "input": [
      "np.genfromtxt("
     ],
     "language": "python",
     "metadata": {},
     "outputs": []
    },
    {
     "cell_type": "code",
     "collapsed": false,
     "input": [
      "a"
     ],
     "language": "python",
     "metadata": {},
     "outputs": []
    },
    {
     "cell_type": "code",
     "collapsed": false,
     "input": [
      "#np.loadtxt() ### each row must have the same number of values"
     ],
     "language": "python",
     "metadata": {},
     "outputs": []
    },
    {
     "cell_type": "code",
     "collapsed": false,
     "input": [
      "a = np.loadtxt('./data/ascii_table.txt', dtype=np.int)"
     ],
     "language": "python",
     "metadata": {},
     "outputs": []
    },
    {
     "cell_type": "code",
     "collapsed": false,
     "input": [
      "a"
     ],
     "language": "python",
     "metadata": {},
     "outputs": []
    },
    {
     "cell_type": "markdown",
     "metadata": {},
     "source": [
      "**NOTE**: For reading all csv, tabular format files including xls, xlsx, etc. the most convenient way is to use the special IO functions of [Pandas](http://pandas.pydata.org), which we have seen for the SOI / NINO example, and will see in more details in the pandas notebook. All these functions will load these formats directly into Pandas DataFrames, which are a very convenient data structure for interacting with spreadsheet-like data. See the [Pandas.ipynb](./Pandas.ipynb) notebook. "
     ]
    },
    {
     "cell_type": "markdown",
     "metadata": {},
     "source": [
      "### NetCDF "
     ]
    },
    {
     "cell_type": "markdown",
     "metadata": {},
     "source": [
      "NetCDF stands for [Network Common Data form](http://www.unidata.ucar.edu/software/netcdf/), it is used largely in the atmosphere and ocean sciences to store mostly gridded datasets."
     ]
    },
    {
     "cell_type": "markdown",
     "metadata": {},
     "source": [
      "There is one set of functions that comes with Scipy which is available from the IO module, with which you can read and create NetCDF files easily."
     ]
    },
    {
     "cell_type": "code",
     "collapsed": false,
     "input": [
      "from scipy.io.netcdf import NetCDFFile"
     ],
     "language": "python",
     "metadata": {},
     "outputs": []
    },
    {
     "cell_type": "markdown",
     "metadata": {},
     "source": [
      "Here we are reading SSTs (for the Southern Hemisphere) from the Hadley SST (available [here]())"
     ]
    },
    {
     "cell_type": "code",
     "collapsed": false,
     "input": [
      "nc = NetCDFFile('data/Hadley_SST.nc', 'r')"
     ],
     "language": "python",
     "metadata": {},
     "outputs": []
    },
    {
     "cell_type": "code",
     "collapsed": false,
     "input": [
      "nc.variables.keys()"
     ],
     "language": "python",
     "metadata": {},
     "outputs": []
    },
    {
     "cell_type": "code",
     "collapsed": false,
     "input": [
      "lat = nc.variables['lat'][:]\n",
      "lon = nc.variables['lon'][:]"
     ],
     "language": "python",
     "metadata": {},
     "outputs": []
    },
    {
     "cell_type": "code",
     "collapsed": false,
     "input": [
      "lat"
     ],
     "language": "python",
     "metadata": {},
     "outputs": []
    },
    {
     "cell_type": "code",
     "collapsed": false,
     "input": [
      "sst = nc.variables['sst'][:]"
     ],
     "language": "python",
     "metadata": {},
     "outputs": []
    },
    {
     "cell_type": "code",
     "collapsed": false,
     "input": [
      "mval = nc.variables['sst'].missing_value"
     ],
     "language": "python",
     "metadata": {},
     "outputs": []
    },
    {
     "cell_type": "code",
     "collapsed": false,
     "input": [
      "mval"
     ],
     "language": "python",
     "metadata": {},
     "outputs": []
    },
    {
     "cell_type": "code",
     "collapsed": false,
     "input": [
      "nc.close() # don't forget to close"
     ],
     "language": "python",
     "metadata": {},
     "outputs": []
    },
    {
     "cell_type": "code",
     "collapsed": false,
     "input": [
      "mval"
     ],
     "language": "python",
     "metadata": {},
     "outputs": []
    },
    {
     "cell_type": "code",
     "collapsed": false,
     "input": [
      "sst.shape"
     ],
     "language": "python",
     "metadata": {},
     "outputs": []
    },
    {
     "cell_type": "code",
     "collapsed": false,
     "input": [
      "sst = ma.masked_values(sst, mval)"
     ],
     "language": "python",
     "metadata": {},
     "outputs": []
    },
    {
     "cell_type": "code",
     "collapsed": false,
     "input": [
      "f, ax = plt.subplots(figsize=(12,6))\n",
      "im = ax.imshow(sst[0,:,:], interpolation='nearest', aspect='auto')\n",
      "ax.set_title('SSTs')\n",
      "cb = plt.colorbar(im);\n",
      "cb.set_label(u'\\xb0C', rotation=0)\n"
     ],
     "language": "python",
     "metadata": {},
     "outputs": []
    },
    {
     "cell_type": "markdown",
     "metadata": {},
     "source": [
      "And the [netCDF4](http://netcdf4-python.googlecode.com/svn/trunk/docs/netCDF4-module.html) standalone module, which is installed as part of the Anaconda distribution, and has more functionalities, including: \n",
      "\n",
      "+ support of NetCDF 4 (and NetCDF 3).\n",
      "+ support for reading multiple files datasets as a single dataset.\n",
      "+ can create files that are readable by HDF5 clients."
     ]
    },
    {
     "cell_type": "code",
     "collapsed": false,
     "input": [
      "from netCDF4 import Dataset"
     ],
     "language": "python",
     "metadata": {},
     "outputs": []
    },
    {
     "cell_type": "code",
     "collapsed": false,
     "input": [
      "nc = Dataset('data/Hadley_SST.nc', 'r')"
     ],
     "language": "python",
     "metadata": {},
     "outputs": []
    },
    {
     "cell_type": "code",
     "collapsed": false,
     "input": [
      "sst = nc.variables['sst'][:]"
     ],
     "language": "python",
     "metadata": {},
     "outputs": []
    },
    {
     "cell_type": "code",
     "collapsed": false,
     "input": [
      "sst = ma.masked_values(sst, mval)"
     ],
     "language": "python",
     "metadata": {},
     "outputs": []
    },
    {
     "cell_type": "code",
     "collapsed": false,
     "input": [
      "nc.close()"
     ],
     "language": "python",
     "metadata": {},
     "outputs": []
    },
    {
     "cell_type": "code",
     "collapsed": false,
     "input": [
      "f, ax = plt.subplots(figsize=(12,6))\n",
      "im = ax.imshow(sst[0,:,:], interpolation='nearest', aspect='auto')\n",
      "ax.set_title('SSTs')\n",
      "cb = plt.colorbar(im);\n",
      "cb.set_label(u'\\xb0C', rotation=0)"
     ],
     "language": "python",
     "metadata": {},
     "outputs": []
    },
    {
     "cell_type": "markdown",
     "metadata": {},
     "source": [
      "A more recent project is the IRIS module, developped by the Met. Office in the UK: \n",
      "    \n",
      "[http://scitools.org.uk/iris/index.html](http://scitools.org.uk/iris/index.html)"
     ]
    },
    {
     "cell_type": "markdown",
     "metadata": {},
     "source": [
      "### Matlab files"
     ]
    },
    {
     "cell_type": "code",
     "collapsed": false,
     "input": [
      "from scipy.io.matlab import loadmat, savemat, whosmat "
     ],
     "language": "python",
     "metadata": {},
     "outputs": []
    },
    {
     "cell_type": "markdown",
     "metadata": {},
     "source": [
      "We first create a matlab file containing one variable"
     ]
    },
    {
     "cell_type": "code",
     "collapsed": false,
     "input": [
      "x = np.random.randn(10,10)"
     ],
     "language": "python",
     "metadata": {},
     "outputs": []
    },
    {
     "cell_type": "code",
     "collapsed": false,
     "input": [
      "savemat('data/random_2darray.mat', {'xmat':x})"
     ],
     "language": "python",
     "metadata": {},
     "outputs": []
    },
    {
     "cell_type": "markdown",
     "metadata": {},
     "source": [
      "Then inspect its content with `whosmat`"
     ]
    },
    {
     "cell_type": "code",
     "collapsed": false,
     "input": [
      "whosmat('data/random_2darray.mat')"
     ],
     "language": "python",
     "metadata": {},
     "outputs": []
    },
    {
     "cell_type": "markdown",
     "metadata": {},
     "source": [
      "And read it, accessing the saved variable as a numpy arrray using a dict type syntax"
     ]
    },
    {
     "cell_type": "code",
     "collapsed": false,
     "input": [
      "matfile = loadmat('data/random_2darray.mat')"
     ],
     "language": "python",
     "metadata": {},
     "outputs": []
    },
    {
     "cell_type": "code",
     "collapsed": false,
     "input": [
      "x = matfile['xmat'] # like a dictionnary"
     ],
     "language": "python",
     "metadata": {},
     "outputs": []
    },
    {
     "cell_type": "code",
     "collapsed": false,
     "input": [
      "x"
     ],
     "language": "python",
     "metadata": {},
     "outputs": []
    },
    {
     "cell_type": "markdown",
     "metadata": {},
     "source": [
      "For matlab files containing matlab **structures**, the syntax is marginally more complicated "
     ]
    },
    {
     "cell_type": "code",
     "collapsed": false,
     "input": [
      "whosmat('./data/clusters_monthly.mat')"
     ],
     "language": "python",
     "metadata": {},
     "outputs": []
    },
    {
     "cell_type": "code",
     "collapsed": false,
     "input": [
      "matfile = loadmat('./data/clusters_monthly.mat', struct_as_record=False)"
     ],
     "language": "python",
     "metadata": {},
     "outputs": []
    },
    {
     "cell_type": "code",
     "collapsed": false,
     "input": [
      "matfile.keys()"
     ],
     "language": "python",
     "metadata": {},
     "outputs": []
    },
    {
     "cell_type": "code",
     "collapsed": false,
     "input": [
      "clusm = matfile['clusm'][0][0] ### corresponds to the (1,1) shape as indicated by whosmat"
     ],
     "language": "python",
     "metadata": {},
     "outputs": []
    },
    {
     "cell_type": "code",
     "collapsed": false,
     "input": [
      "type(clusm)"
     ],
     "language": "python",
     "metadata": {},
     "outputs": []
    },
    {
     "cell_type": "code",
     "collapsed": false,
     "input": [
      "### inspect the attributes of clusm\n",
      "dir(clusm)"
     ],
     "language": "python",
     "metadata": {},
     "outputs": []
    },
    {
     "cell_type": "code",
     "collapsed": false,
     "input": [
      "clusm._fieldnames"
     ],
     "language": "python",
     "metadata": {},
     "outputs": []
    },
    {
     "cell_type": "code",
     "collapsed": false,
     "input": [
      "t = clusm.time"
     ],
     "language": "python",
     "metadata": {},
     "outputs": []
    },
    {
     "cell_type": "code",
     "collapsed": false,
     "input": [
      "t"
     ],
     "language": "python",
     "metadata": {},
     "outputs": []
    },
    {
     "cell_type": "code",
     "collapsed": false,
     "input": [
      "data = clusm.data"
     ],
     "language": "python",
     "metadata": {},
     "outputs": []
    },
    {
     "cell_type": "code",
     "collapsed": false,
     "input": [
      "data[0,:]"
     ],
     "language": "python",
     "metadata": {},
     "outputs": []
    },
    {
     "cell_type": "markdown",
     "metadata": {},
     "source": [
      "**IMPORTANT**: A note on **matlab dates and time**"
     ]
    },
    {
     "cell_type": "markdown",
     "metadata": {},
     "source": [
      "Matlab's **datenum** representation is the number of days since midnight on **January 1st, 0 AD.**  Python's datetime handling, (throught the datetime.fromordinal function) assumes time is the number of days since midnight on **January 1st, 1 AD.**  So the duration of year 0 separates the time representation returned by python's fromordinal function and the time representation used by matlab. "
     ]
    },
    {
     "cell_type": "code",
     "collapsed": false,
     "input": [
      "matlab_datenum = 731965.04835648148  "
     ],
     "language": "python",
     "metadata": {},
     "outputs": []
    },
    {
     "cell_type": "markdown",
     "metadata": {},
     "source": [
      "The following snippet is from Conrad Lee at [https://gist.github.com/conradlee/4366296](https://gist.github.com/conradlee/4366296)"
     ]
    },
    {
     "cell_type": "code",
     "collapsed": false,
     "input": [
      "from datetime import datetime, timedelta\n",
      " \n",
      "python_datetime = datetime.fromordinal(int(matlab_datenum)) \\\n",
      "+ timedelta(days=matlab_datenum%1) - timedelta(days = 366) ## year 0 was a leap year"
     ],
     "language": "python",
     "metadata": {},
     "outputs": []
    },
    {
     "cell_type": "code",
     "collapsed": false,
     "input": [
      "python_datetime"
     ],
     "language": "python",
     "metadata": {},
     "outputs": []
    },
    {
     "cell_type": "code",
     "collapsed": false,
     "input": [
      "print(python_datetime)"
     ],
     "language": "python",
     "metadata": {},
     "outputs": []
    },
    {
     "cell_type": "markdown",
     "metadata": {},
     "source": [
      "Another - easiest - way to do it is to use the module [netcdftime](http://netcdf4-python.googlecode.com/svn/trunk/docs/netcdftime.netcdftime-module.html) (installed with anaconda), which has a ```num2date``` function, and to specify the origin, as well as the calendar (ISO 8601 Proleptic Gregorian calendar, which allows for Year 0), you can convert a entire vector (numpy array) of Matlab datenums that way."
     ]
    },
    {
     "cell_type": "code",
     "collapsed": false,
     "input": [
      "from netcdftime import num2date"
     ],
     "language": "python",
     "metadata": {},
     "outputs": []
    },
    {
     "cell_type": "code",
     "collapsed": false,
     "input": [
      "date_proleptic = num2date(matlab_datenum, units='days since 000-01-00 00:00:00', \\\n",
      "                          calendar='proleptic_gregorian')"
     ],
     "language": "python",
     "metadata": {},
     "outputs": []
    },
    {
     "cell_type": "code",
     "collapsed": false,
     "input": [
      "date_proleptic"
     ],
     "language": "python",
     "metadata": {},
     "outputs": []
    },
    {
     "cell_type": "code",
     "collapsed": false,
     "input": [
      "num2date?"
     ],
     "language": "python",
     "metadata": {},
     "outputs": []
    },
    {
     "cell_type": "markdown",
     "metadata": {},
     "source": [
      "### Other file formats\n",
      "\n",
      "**HDF5** \n",
      "\n",
      "Please See [http://www.h5py.org/docs/intro/quick.html](http://www.h5py.org/docs/intro/quick.html)\n",
      "\n",
      "\n",
      "**IDL**: \n",
      "    \n",
      "    from scipy.io import idl\n",
      "    idl.readsav()\n",
      "    \n",
      "**Fortran files**: \n",
      "\n",
      "    from scipy.io import FortranFile\n",
      "    f = FortranFile()\n",
      "    \n",
      "    Examples\n",
      "    --------\n",
      "    To create an unformatted sequential Fortran file:\n",
      "    \n",
      "    >>> from scipy.io import FortranFile\n",
      "    >>> f = FortranFile('test.unf', 'w')\n",
      "    >>> f.write_record(np.array([1,2,3,4,5],dtype=np.int32))\n",
      "    >>> f.write_record(np.linspace(0,1,20).reshape((5,-1)))\n",
      "    >>> f.close()\n",
      "    \n",
      "    To read this file:\n",
      "    \n",
      "    >>> from scipy.io import FortranFile\n",
      "    >>> f = FortranFile('test.unf', 'r')\n",
      "    >>> print(f.read_ints(dtype=np.int32))\n",
      "    [1 2 3 4 5]\n",
      "    >>> print(f.read_reals(dtype=np.float).reshape((5,-1)))\n",
      "    [[ 0.          0.05263158  0.10526316  0.15789474]\n",
      "     [ 0.21052632  0.26315789  0.31578947  0.36842105]\n",
      "     [ 0.42105263  0.47368421  0.52631579  0.57894737]\n",
      "     [ 0.63157895  0.68421053  0.73684211  0.78947368]\n",
      "     [ 0.84210526  0.89473684  0.94736842  1.        ]]\n",
      "    >>> f.close()\n",
      "    "
     ]
    },
    {
     "cell_type": "code",
     "collapsed": false,
     "input": [],
     "language": "python",
     "metadata": {},
     "outputs": []
    },
    {
     "cell_type": "code",
     "collapsed": false,
     "input": [],
     "language": "python",
     "metadata": {},
     "outputs": []
    }
   ],
   "metadata": {}
  }
 ]
}